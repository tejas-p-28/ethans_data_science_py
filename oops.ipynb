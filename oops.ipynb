{
 "cells": [
  {
   "cell_type": "code",
   "execution_count": 12,
   "id": "7b8941aa-0b6d-4777-9d80-d6f1e466046b",
   "metadata": {},
   "outputs": [
    {
     "name": "stdout",
     "output_type": "stream",
     "text": [
      "Pravin\n",
      "Pravin your balance is 0\n",
      "Pravin your balance is 1000\n"
     ]
    },
    {
     "name": "stdin",
     "output_type": "stream",
     "text": [
      " 1100\n"
     ]
    },
    {
     "name": "stdout",
     "output_type": "stream",
     "text": [
      "aukat dekh teri\n",
      "Pravin your balance is 1000\n"
     ]
    }
   ],
   "source": [
    "class bank:\n",
    "    bank_name = 'Tejas Bank'\n",
    "    def __init__(self,name,city):\n",
    "        self.name = name\n",
    "        self.city = city\n",
    "        self.bal = 0\n",
    "    def deposit(self,amt):\n",
    "        self.bal = amt + self.bal\n",
    "    def get_balance(self):\n",
    "        print(f'{self.name} your balance is {self.bal}')\n",
    "    def withdraw(self,amt):\n",
    "        if self.bal > amt:\n",
    "            self.bal = self.bal - amt\n",
    "        else:\n",
    "            print('aukat dekh teri')\n",
    "cust1 = bank('Pravin','Lahore')        \n",
    "print(cust1.name)\n",
    "cust1.get_balance()\n",
    "cust1.deposit(1000)\n",
    "cust1.get_balance()\n",
    "cust1.withdraw(int(input()))\n",
    "cust1.get_balance()"
   ]
  },
  {
   "cell_type": "code",
   "execution_count": 1,
   "id": "2a7b3c74-e496-4052-ae23-8e6bf9a862a2",
   "metadata": {},
   "outputs": [
    {
     "name": "stdout",
     "output_type": "stream",
     "text": [
      "3\n",
      "5\n",
      "this is  protected method\n",
      "This is private method\n"
     ]
    }
   ],
   "source": [
    "class house:\n",
    "    def __init__(self,wallDynamic):\n",
    "        self.__wall = wallDynamic\n",
    "        self._color = 'white'\n",
    "        self.roof = 5\n",
    "    def public_method(self):\n",
    "        return self.roof\n",
    "    def __private_method(self):\n",
    "        return 'This is private method'\n",
    "    def _protected_method(self):\n",
    "        return 'this is  protected method'\n",
    "h = house(3)\n",
    "print(h._house__wall)\n",
    "print(h.roof)\n",
    "print(h._protected_method())\n",
    "print(h._house__private_method())"
   ]
  },
  {
   "cell_type": "code",
   "execution_count": 23,
   "id": "fb6f2cbb-a361-477f-9e95-8a44ffa539ae",
   "metadata": {},
   "outputs": [
    {
     "name": "stdout",
     "output_type": "stream",
     "text": [
      "this is benx class\n",
      "None\n",
      "this is merc class\n"
     ]
    }
   ],
   "source": [
    "class car():\n",
    "    def benz(self):\n",
    "        print('this is benx class')\n",
    "class car2:\n",
    "    def merc(self):\n",
    "        print('this is merc class')\n",
    "class transport(car,car2):\n",
    "    def main(self):\n",
    "        print('this is main class')\n",
    "\n",
    "t = transport()\n",
    "print(t.benz())\n",
    "t.merc()"
   ]
  },
  {
   "cell_type": "code",
   "execution_count": null,
   "id": "86d97ac7-8c13-421d-b1bf-6ff3da5a65d6",
   "metadata": {},
   "outputs": [],
   "source": []
  }
 ],
 "metadata": {
  "kernelspec": {
   "display_name": "Python 3 (ipykernel)",
   "language": "python",
   "name": "python3"
  },
  "language_info": {
   "codemirror_mode": {
    "name": "ipython",
    "version": 3
   },
   "file_extension": ".py",
   "mimetype": "text/x-python",
   "name": "python",
   "nbconvert_exporter": "python",
   "pygments_lexer": "ipython3",
   "version": "3.12.2"
  }
 },
 "nbformat": 4,
 "nbformat_minor": 5
}

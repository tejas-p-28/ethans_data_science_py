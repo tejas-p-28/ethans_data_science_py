{
 "cells": [
  {
   "cell_type": "code",
   "execution_count": 12,
   "id": "f0c0c1d9-f705-443c-b892-ea45f253acba",
   "metadata": {},
   "outputs": [
    {
     "name": "stdout",
     "output_type": "stream",
     "text": [
      "Tejas\n",
      "patil\n",
      "SBUP\n"
     ]
    }
   ],
   "source": [
    "name = ['Tejas','patil','SBUP']\n",
    "for i in name:\n",
    "    print(i)"
   ]
  },
  {
   "cell_type": "code",
   "execution_count": 13,
   "id": "e868f489-e3cf-4793-83b2-3840116028e4",
   "metadata": {},
   "outputs": [
    {
     "name": "stdout",
     "output_type": "stream",
     "text": [
      "['T']\n",
      "['e']\n",
      "['j']\n",
      "['a']\n",
      "['s']\n"
     ]
    }
   ],
   "source": [
    "name = 'Tejas'\n",
    "for i in name:\n",
    "    print(i.split())"
   ]
  },
  {
   "cell_type": "code",
   "execution_count": 48,
   "id": "fb5fad9e-5102-4363-b5ed-118b8d5cc266",
   "metadata": {},
   "outputs": [
    {
     "name": "stdout",
     "output_type": "stream",
     "text": [
      "*\n",
      "**\n",
      "***\n",
      "****\n",
      "*****\n"
     ]
    }
   ],
   "source": [
    "num = [1,2,3,4,5]\n",
    "for i in num:\n",
    "    print(i*'*')"
   ]
  },
  {
   "cell_type": "code",
   "execution_count": 68,
   "id": "b177afb1-96e3-4c66-ac66-45608f529c3e",
   "metadata": {},
   "outputs": [
    {
     "name": "stdout",
     "output_type": "stream",
     "text": [
      "   *   \n",
      "  ***  \n",
      " ***** \n",
      "   |   \n"
     ]
    }
   ],
   "source": [
    "num = [1,3,5]\n",
    "width = 7\n",
    "for i in num:\n",
    "    pattern = '*' * i\n",
    "    print(pattern.center(width))\n",
    "print('|'.center(width))"
   ]
  },
  {
   "cell_type": "code",
   "execution_count": 70,
   "id": "0539a821-8205-43bd-95a2-ee969fba046b",
   "metadata": {},
   "outputs": [],
   "source": [
    "#Note :Range"
   ]
  },
  {
   "cell_type": "code",
   "execution_count": 72,
   "id": "0c1e543a-61f7-446b-81d4-6bcc87c87f03",
   "metadata": {},
   "outputs": [
    {
     "name": "stdout",
     "output_type": "stream",
     "text": [
      "[1, 2, 3, 4, 5]\n"
     ]
    }
   ],
   "source": [
    "test = list(range(1,6))\n",
    "print(test)"
   ]
  },
  {
   "cell_type": "code",
   "execution_count": 74,
   "id": "f7417c51-3a5d-4092-b7c1-a7ea80ddb8f2",
   "metadata": {},
   "outputs": [
    {
     "name": "stdout",
     "output_type": "stream",
     "text": [
      "[40, 36, 32, 28, 24, 20, 16, 12, 8, 4]\n"
     ]
    }
   ],
   "source": [
    "test = list(range(4,41,4)[::-1])\n",
    "print(test)"
   ]
  },
  {
   "cell_type": "code",
   "execution_count": 7,
   "id": "54020a01-0346-4acd-9454-9099fe81517a",
   "metadata": {},
   "outputs": [
    {
     "name": "stdout",
     "output_type": "stream",
     "text": [
      "          &         \n",
      "         & &        \n",
      "        & & &       \n",
      "       & & & &      \n",
      "      & & & & &     \n",
      "     & & & & & &    \n"
     ]
    }
   ],
   "source": [
    "width = 20\n",
    "for i in range(1,7):\n",
    "    pattern = ' &' * i \n",
    "    print(pattern.center(width))\n",
    "    "
   ]
  },
  {
   "cell_type": "code",
   "execution_count": 6,
   "id": "3361c4e9-d651-491d-82d6-5746f364cb51",
   "metadata": {},
   "outputs": [
    {
     "name": "stdout",
     "output_type": "stream",
     "text": [
      "1830092613504\n",
      "5\n",
      "1830092692128\n",
      "6\n",
      "1830092692656\n",
      "6\n",
      "1830000770288\n"
     ]
    }
   ],
   "source": [
    "name = ['tejas','pravin','python']\n",
    "print(id(name))\n",
    "for name in name:\n",
    "    print(len(name))\n",
    "    print(id(name))"
   ]
  },
  {
   "cell_type": "code",
   "execution_count": 20,
   "id": "0de215ea-c9e6-4989-aea0-93593fa516f4",
   "metadata": {},
   "outputs": [
    {
     "name": "stdout",
     "output_type": "stream",
     "text": [
      "1\n",
      "2\n",
      "3\n",
      "4\n",
      "5\n"
     ]
    }
   ],
   "source": [
    "#while loop\n",
    "count = 1\n",
    "while count <= 5:\n",
    "    print(count)\n",
    "    count += 1"
   ]
  },
  {
   "cell_type": "code",
   "execution_count": 7,
   "id": "d5fe16e1-c8f6-40a7-9d89-6e7ff82d88e9",
   "metadata": {},
   "outputs": [
    {
     "name": "stdin",
     "output_type": "stream",
     "text": [
      " td\n",
      " sd\n",
      " df\n",
      " sd\n",
      " fd\n"
     ]
    },
    {
     "name": "stdout",
     "output_type": "stream",
     "text": [
      "<built-in method extend of list object at 0x0000023D3A214C00>\n"
     ]
    }
   ],
   "source": [
    "count = 1\n",
    "name = []\n",
    "while count <= 5:\n",
    "    list1 = input('')\n",
    "    name.append(list1)\n",
    "    count += 1\n",
    "print(name)"
   ]
  },
  {
   "cell_type": "code",
   "execution_count": 6,
   "id": "3227aae7-11aa-401b-aafd-6b72eb1daeb8",
   "metadata": {},
   "outputs": [
    {
     "name": "stdin",
     "output_type": "stream",
     "text": [
      " te\n",
      " df\n",
      " df\n",
      " s\n",
      " df\n"
     ]
    },
    {
     "name": "stdout",
     "output_type": "stream",
     "text": [
      "['te', 'df', 'df', 's', 'df']\n"
     ]
    }
   ],
   "source": [
    "count = 1\n",
    "name = []\n",
    "for count in range(1,6):\n",
    "    list1 = input('')\n",
    "    name.append(list1)\n",
    "    count += 1\n",
    "print(name)"
   ]
  },
  {
   "cell_type": "code",
   "execution_count": 9,
   "id": "dc7fc47b-4bd8-4859-a963-7c1e7a083e04",
   "metadata": {},
   "outputs": [
    {
     "name": "stdin",
     "output_type": "stream",
     "text": [
      " 6\n"
     ]
    },
    {
     "name": "stdout",
     "output_type": "stream",
     "text": [
      "6 X 1= 6\n",
      "6 X 2= 12\n",
      "6 X 3= 18\n",
      "6 X 4= 24\n",
      "6 X 5= 30\n",
      "6 X 6= 36\n",
      "6 X 7= 42\n",
      "6 X 8= 48\n",
      "6 X 9= 54\n",
      "6 X 10= 60\n"
     ]
    }
   ],
   "source": [
    "num = int(input(''))\n",
    "count = 1\n",
    "while count <=10:\n",
    "    print(f'{num} X {count}= {num*count}')\n",
    "    count += 1"
   ]
  },
  {
   "cell_type": "code",
   "execution_count": 10,
   "id": "dfcd15b5-be7d-41a5-943a-d6ad2d5babbb",
   "metadata": {},
   "outputs": [
    {
     "name": "stdin",
     "output_type": "stream",
     "text": [
      " 6\n"
     ]
    },
    {
     "name": "stdout",
     "output_type": "stream",
     "text": [
      "6 X 1= 6\n",
      "6 X 3= 18\n",
      "6 X 5= 30\n",
      "6 X 7= 42\n",
      "6 X 9= 54\n"
     ]
    }
   ],
   "source": [
    "num = int(input(''))\n",
    "count = 1\n",
    "while count <=10:\n",
    "    print(f'{num} X {count}= {num*count}')\n",
    "    count += 2"
   ]
  },
  {
   "cell_type": "code",
   "execution_count": 13,
   "id": "a63406ac-0c14-4e1d-a219-53d70ce9a850",
   "metadata": {},
   "outputs": [
    {
     "name": "stdout",
     "output_type": "stream",
     "text": [
      "1\n",
      "2\n",
      "3\n",
      "4\n",
      "[1, 2, 3, 4, 5]\n"
     ]
    }
   ],
   "source": [
    "#control statement\n",
    "list1 = []\n",
    "for num in range(1,10):\n",
    "    list1.append(num)\n",
    "    if num == 5:\n",
    "        break\n",
    "    print(num)\n",
    "print(list1)"
   ]
  },
  {
   "cell_type": "code",
   "execution_count": 14,
   "id": "bd31c924-3897-4039-aaac-587351dcb6bc",
   "metadata": {},
   "outputs": [
    {
     "name": "stdout",
     "output_type": "stream",
     "text": [
      "1\n",
      "2\n",
      "3\n",
      "4\n",
      "6\n",
      "7\n",
      "8\n",
      "9\n",
      "[1, 2, 3, 4, 5, 6, 7, 8, 9]\n"
     ]
    }
   ],
   "source": [
    "#control statement\n",
    "list1 = []\n",
    "for num in range(1,10):\n",
    "    list1.append(num)\n",
    "    if num == 5:\n",
    "        continue\n",
    "    print(num)\n",
    "print(list1)"
   ]
  },
  {
   "cell_type": "code",
   "execution_count": 26,
   "id": "aa23dfea-1645-458e-afed-5b0e3a891df9",
   "metadata": {},
   "outputs": [
    {
     "name": "stdout",
     "output_type": "stream",
     "text": [
      "2550\n"
     ]
    }
   ],
   "source": [
    "sum = 0\n",
    "for num in range(1,101):\n",
    "    if num%2== 0:\n",
    "        sum += num\n",
    "print(sum)"
   ]
  },
  {
   "cell_type": "code",
   "execution_count": 27,
   "id": "263103c6-3d62-4c1a-9d36-4946b5febd9d",
   "metadata": {},
   "outputs": [
    {
     "ename": "TypeError",
     "evalue": "'>=' not supported between instances of 'int' and 'list'",
     "output_type": "error",
     "traceback": [
      "\u001b[1;31m---------------------------------------------------------------------------\u001b[0m",
      "\u001b[1;31mTypeError\u001b[0m                                 Traceback (most recent call last)",
      "Cell \u001b[1;32mIn[27], line 3\u001b[0m\n\u001b[0;32m      1\u001b[0m num \u001b[38;5;241m=\u001b[39m [\u001b[38;5;241m1\u001b[39m,\u001b[38;5;241m5\u001b[39m,\u001b[38;5;241m7\u001b[39m,\u001b[38;5;241m4\u001b[39m,\u001b[38;5;241m9\u001b[39m,\u001b[38;5;241m10\u001b[39m]\n\u001b[0;32m      2\u001b[0m \u001b[38;5;28;01mfor\u001b[39;00m i \u001b[38;5;129;01min\u001b[39;00m num:\n\u001b[1;32m----> 3\u001b[0m     \u001b[38;5;28;01mif\u001b[39;00m \u001b[43mi\u001b[49m\u001b[38;5;241;43m>\u001b[39;49m\u001b[38;5;241;43m=\u001b[39;49m\u001b[43mnum\u001b[49m:\n\u001b[0;32m      4\u001b[0m         \u001b[38;5;28mprint\u001b[39m(i)\n",
      "\u001b[1;31mTypeError\u001b[0m: '>=' not supported between instances of 'int' and 'list'"
     ]
    }
   ],
   "source": [
    "num = [1,5,7,4,9,10]\n",
    "for i in num:\n",
    "    if i>=num:\n",
    "        print(i)"
   ]
  },
  {
   "cell_type": "code",
   "execution_count": null,
   "id": "76b4bf0f-bf67-4f33-8fe5-2df481e3ee61",
   "metadata": {},
   "outputs": [],
   "source": []
  }
 ],
 "metadata": {
  "kernelspec": {
   "display_name": "Python 3 (ipykernel)",
   "language": "python",
   "name": "python3"
  },
  "language_info": {
   "codemirror_mode": {
    "name": "ipython",
    "version": 3
   },
   "file_extension": ".py",
   "mimetype": "text/x-python",
   "name": "python",
   "nbconvert_exporter": "python",
   "pygments_lexer": "ipython3",
   "version": "3.12.2"
  }
 },
 "nbformat": 4,
 "nbformat_minor": 5
}

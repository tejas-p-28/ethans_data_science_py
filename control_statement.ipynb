{
 "cells": [
  {
   "cell_type": "code",
   "execution_count": 2,
   "id": "088556eb-f757-4886-a78f-d1518231a214",
   "metadata": {},
   "outputs": [
    {
     "name": "stdin",
     "output_type": "stream",
     "text": [
      "enter your percent 44\n"
     ]
    },
    {
     "name": "stdout",
     "output_type": "stream",
     "text": [
      "You are not eligible\n"
     ]
    }
   ],
   "source": [
    "percent = int(input('enter your percent'))\n",
    "if percent >= 90:\n",
    "    print('First class')\n",
    "elif percent >= 70:\n",
    "    print('Second Class')\n",
    "elif percent >= 45:\n",
    "    print('Third class')\n",
    "else :\n",
    "    print('You are not eligible')"
   ]
  },
  {
   "cell_type": "code",
   "execution_count": 7,
   "id": "1aae3e10-90e1-4b3f-8aea-b28f0e6f9f1c",
   "metadata": {},
   "outputs": [
    {
     "name": "stdout",
     "output_type": "stream",
     "text": [
      "x not equal to 10\n"
     ]
    }
   ],
   "source": [
    "x = 11\n",
    "y = 1\n",
    "if x == 10:\n",
    "    if y == 2:\n",
    "        print('both are greater')\n",
    "    else:\n",
    "        print('one is not equal')\n",
    "else:\n",
    "    print('x not equal to 10')"
   ]
  },
  {
   "cell_type": "code",
   "execution_count": 1,
   "id": "ca160677-5273-4d5d-b490-b9d0dc217c89",
   "metadata": {},
   "outputs": [],
   "source": [
    "x = 5\n",
    "y = True\n",
    "if x is y :\n",
    "    print('hi')"
   ]
  },
  {
   "cell_type": "code",
   "execution_count": 2,
   "id": "5192a0c2-205b-440e-a3d5-f7b41db0d5b8",
   "metadata": {},
   "outputs": [
    {
     "name": "stdout",
     "output_type": "stream",
     "text": [
      "bye\n"
     ]
    }
   ],
   "source": [
    "dict1 = ()\n",
    "if dict1:\n",
    "    print('hie')\n",
    "else:\n",
    "    print('bye')"
   ]
  },
  {
   "cell_type": "code",
   "execution_count": 30,
   "id": "a1ef7b65-d1dd-43df-ba03-5ccc052508cb",
   "metadata": {},
   "outputs": [
    {
     "name": "stdin",
     "output_type": "stream",
     "text": [
      "enter string f4543\n"
     ]
    },
    {
     "name": "stdout",
     "output_type": "stream",
     "text": [
      "4\n"
     ]
    }
   ],
   "source": [
    "string = input('enter string')\n",
    "count = 0\n",
    "if string:\n",
    "    for i in string:\n",
    "        if i.isdigit():\n",
    "            count+=1\n",
    "    print(count)"
   ]
  },
  {
   "cell_type": "code",
   "execution_count": 3,
   "id": "e5ed00e9-90de-458e-9385-16e75a33e734",
   "metadata": {},
   "outputs": [
    {
     "name": "stdin",
     "output_type": "stream",
     "text": [
      " 5554f45456\n"
     ]
    },
    {
     "name": "stdout",
     "output_type": "stream",
     "text": [
      "9\n"
     ]
    }
   ],
   "source": [
    "string = input('')\n",
    "count = 0\n",
    "if string:\n",
    "    for i in string:\n",
    "        if i.isdigit():\n",
    "            count+=1\n",
    "    print(count)"
   ]
  },
  {
   "cell_type": "code",
   "execution_count": null,
   "id": "e3e8c95e-5bf3-41c5-bbdd-57f3aba9688c",
   "metadata": {},
   "outputs": [],
   "source": []
  }
 ],
 "metadata": {
  "kernelspec": {
   "display_name": "Python 3 (ipykernel)",
   "language": "python",
   "name": "python3"
  },
  "language_info": {
   "codemirror_mode": {
    "name": "ipython",
    "version": 3
   },
   "file_extension": ".py",
   "mimetype": "text/x-python",
   "name": "python",
   "nbconvert_exporter": "python",
   "pygments_lexer": "ipython3",
   "version": "3.12.2"
  }
 },
 "nbformat": 4,
 "nbformat_minor": 5
}

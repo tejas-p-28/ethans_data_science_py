{
 "cells": [
  {
   "cell_type": "code",
   "execution_count": 1,
   "id": "8e6619e0-f85e-4440-a0a0-a16f08fb97a3",
   "metadata": {},
   "outputs": [],
   "source": [
    "import datetime"
   ]
  },
  {
   "cell_type": "markdown",
   "id": "6151d663-f997-4b8b-ae91-d7697dfbc320",
   "metadata": {},
   "source": [
    "- date\n",
    "- time\n",
    "- timedelta => diff betn two time\n",
    "- datetime => time and date together"
   ]
  },
  {
   "cell_type": "code",
   "execution_count": 13,
   "id": "656e55f3-4191-42bc-8e5b-9f365edef482",
   "metadata": {},
   "outputs": [
    {
     "name": "stdout",
     "output_type": "stream",
     "text": [
      "2024-06-21\n",
      "<class 'datetime.date'>\n"
     ]
    }
   ],
   "source": [
    "d = datetime.date(2024,6,21)\n",
    "print(d)\n",
    "print(type(d))"
   ]
  },
  {
   "cell_type": "code",
   "execution_count": 11,
   "id": "8155879f-ea93-45b8-8db7-dafbcea63cb3",
   "metadata": {},
   "outputs": [
    {
     "name": "stdout",
     "output_type": "stream",
     "text": [
      "12:04:34\n"
     ]
    }
   ],
   "source": [
    "d = datetime.time(12,4,34)\n",
    "print(d)"
   ]
  },
  {
   "cell_type": "code",
   "execution_count": 9,
   "id": "8e5ebb59-16a4-4cd5-bc1f-a19764bc29cf",
   "metadata": {},
   "outputs": [
    {
     "name": "stdout",
     "output_type": "stream",
     "text": [
      "90 days, 1:30:00\n"
     ]
    }
   ],
   "source": [
    "diff = datetime.timedelta(days = 90,minutes = 90)\n",
    "print(diff)"
   ]
  },
  {
   "cell_type": "code",
   "execution_count": 14,
   "id": "b66c9b47-dad2-4451-9cf1-5c42f66275d3",
   "metadata": {},
   "outputs": [
    {
     "name": "stdout",
     "output_type": "stream",
     "text": [
      "2024-09-19\n"
     ]
    }
   ],
   "source": [
    "print(d + diff)"
   ]
  },
  {
   "cell_type": "code",
   "execution_count": 16,
   "id": "ca315e42-664b-43e0-be1c-687a515a2441",
   "metadata": {},
   "outputs": [],
   "source": [
    "born = datetime.date(2002,4,28)\n",
    "diff = datetime.date.today()"
   ]
  },
  {
   "cell_type": "code",
   "execution_count": 17,
   "id": "947d9768-514a-4ff5-b2fa-2c3436948d59",
   "metadata": {},
   "outputs": [
    {
     "name": "stdout",
     "output_type": "stream",
     "text": [
      "8090 days, 0:00:00\n"
     ]
    }
   ],
   "source": [
    "age = diff - born\n",
    "print(age)"
   ]
  },
  {
   "cell_type": "code",
   "execution_count": 3,
   "id": "be4e015d-39fe-4608-bc8d-928a9831032e",
   "metadata": {},
   "outputs": [
    {
     "name": "stdout",
     "output_type": "stream",
     "text": [
      "2024-06-24 07:43:32.868482\n"
     ]
    }
   ],
   "source": [
    "diff = datetime.datetime.today()\n",
    "print(diff)"
   ]
  },
  {
   "cell_type": "code",
   "execution_count": 19,
   "id": "20347b07-7414-4be1-a58e-148b3be0c0c7",
   "metadata": {},
   "outputs": [],
   "source": [
    "born = datetime.datetime(2002,4,28,hour = 10)\n",
    "diff = datetime.datetime.today()"
   ]
  },
  {
   "cell_type": "code",
   "execution_count": 22,
   "id": "fea7c1f2-ddd0-4ca1-ae1c-5936cec373c6",
   "metadata": {},
   "outputs": [
    {
     "name": "stdout",
     "output_type": "stream",
     "text": [
      "8089 days, 22:00:12.775941\n"
     ]
    }
   ],
   "source": [
    "age = diff - born\n",
    "print(age)"
   ]
  },
  {
   "cell_type": "code",
   "execution_count": 25,
   "id": "4734afc2-48a3-4441-a021-c555b1a03baa",
   "metadata": {},
   "outputs": [
    {
     "name": "stdout",
     "output_type": "stream",
     "text": [
      "June\n",
      "Fri --> 21 --> June --> 2024\n"
     ]
    }
   ],
   "source": [
    "now = datetime.datetime.now()\n",
    "print(now.strftime('%B'))\n",
    "print(now.strftime('%a --> %d --> %B --> %Y'))"
   ]
  },
  {
   "cell_type": "markdown",
   "id": "d2a957a6-d91a-48cb-9cf0-e69e9161e251",
   "metadata": {},
   "source": [
    "- sqlite3"
   ]
  },
  {
   "cell_type": "code",
   "execution_count": 1,
   "id": "5f280f92-4ea8-443a-94b0-b3fa79357e50",
   "metadata": {},
   "outputs": [],
   "source": [
    "import sqlite3"
   ]
  },
  {
   "cell_type": "code",
   "execution_count": 3,
   "id": "35f11e02-09d7-46df-9874-f111dda45ae6",
   "metadata": {},
   "outputs": [
    {
     "ename": "OperationalError",
     "evalue": "database is locked",
     "output_type": "error",
     "traceback": [
      "\u001b[1;31m---------------------------------------------------------------------------\u001b[0m",
      "\u001b[1;31mOperationalError\u001b[0m                          Traceback (most recent call last)",
      "Cell \u001b[1;32mIn[3], line 17\u001b[0m\n\u001b[0;32m     13\u001b[0m sal \u001b[38;5;241m=\u001b[39m\u001b[38;5;241m1\u001b[39m\n\u001b[0;32m     15\u001b[0m query \u001b[38;5;241m=\u001b[39m \u001b[38;5;124mf\u001b[39m\u001b[38;5;124m\"\"\"\u001b[39m\u001b[38;5;124minsert into student (ID,NAME,AGE,ADDRESS,SALARY) \u001b[39m\n\u001b[0;32m     16\u001b[0m \u001b[38;5;124m    values(\u001b[39m\u001b[38;5;132;01m{\u001b[39;00meid\u001b[38;5;132;01m}\u001b[39;00m\u001b[38;5;124m,\u001b[39m\u001b[38;5;124m\"\u001b[39m\u001b[38;5;132;01m{\u001b[39;00mname\u001b[38;5;132;01m}\u001b[39;00m\u001b[38;5;124m\"\u001b[39m\u001b[38;5;124m,\u001b[39m\u001b[38;5;132;01m{\u001b[39;00mage\u001b[38;5;132;01m}\u001b[39;00m\u001b[38;5;124m,\u001b[39m\u001b[38;5;124m\"\u001b[39m\u001b[38;5;132;01m{\u001b[39;00maddr\u001b[38;5;132;01m}\u001b[39;00m\u001b[38;5;124m\"\u001b[39m\u001b[38;5;124m,\u001b[39m\u001b[38;5;132;01m{\u001b[39;00msal\u001b[38;5;132;01m}\u001b[39;00m\u001b[38;5;124m);\u001b[39m\u001b[38;5;124m\"\"\"\u001b[39m\n\u001b[1;32m---> 17\u001b[0m \u001b[43mdb_cursor\u001b[49m\u001b[38;5;241;43m.\u001b[39;49m\u001b[43mexecute\u001b[49m\u001b[43m(\u001b[49m\u001b[43mquery\u001b[49m\u001b[43m)\u001b[49m\n\u001b[0;32m     18\u001b[0m dbc_in_file\u001b[38;5;241m.\u001b[39mcommit()\n\u001b[0;32m     19\u001b[0m data \u001b[38;5;241m=\u001b[39m db_cursor\u001b[38;5;241m.\u001b[39mfetchall()\n",
      "\u001b[1;31mOperationalError\u001b[0m: database is locked"
     ]
    }
   ],
   "source": [
    "dbc_in_file = sqlite3.connect('Ethans_db')\n",
    "db_cursor = dbc_in_file.cursor()\n",
    "db_cursor.execute('''create table if not exists student\n",
    "    (ID int primary key ,\n",
    "    NAME varchar(15),\n",
    "    AGE int,\n",
    "    ADDRESS varchar(50),\n",
    "    SALARY real);''')\n",
    "eid = 26\n",
    "name = 'Tejas'\n",
    "age = 23\n",
    "addr = 'Chinchwad'\n",
    "sal =1\n",
    "\n",
    "query = f\"\"\"insert into student (ID,NAME,AGE,ADDRESS,SALARY) \n",
    "    values({eid},\"{name}\",{age},\"{addr}\",{sal});\"\"\"\n",
    "db_cursor.execute(query)\n",
    "dbc_in_file.commit()\n",
    "data = db_cursor.fetchall()\n",
    "print(data)\n",
    "dbc_in_file.close()"
   ]
  },
  {
   "cell_type": "code",
   "execution_count": 4,
   "id": "bdd18cc9-c98e-4434-8aa2-364507926f3b",
   "metadata": {},
   "outputs": [
    {
     "name": "stdout",
     "output_type": "stream",
     "text": [
      "[1, 4, 9, 16, 25]\n"
     ]
    }
   ],
   "source": [
    "list1 = [1,2,3,4,5]\n",
    "list2 = [i**2 for i in list1]\n",
    "print(list2)"
   ]
  },
  {
   "cell_type": "code",
   "execution_count": 5,
   "id": "439fc0a1-649e-4f46-a89e-025c98a23fb2",
   "metadata": {},
   "outputs": [
    {
     "name": "stdout",
     "output_type": "stream",
     "text": [
      "[4, 16, 36, 64, 100, 144, 196, 256, 324, 400]\n"
     ]
    }
   ],
   "source": [
    "var2 = [i**2 for i in range(1,21) if i%2==0]\n",
    "print(var2)"
   ]
  },
  {
   "cell_type": "code",
   "execution_count": 8,
   "id": "ff74173f-072f-46ec-ac90-09783b419a77",
   "metadata": {},
   "outputs": [
    {
     "name": "stdout",
     "output_type": "stream",
     "text": [
      "[8, 64, 216, 512, 1000, 1728, 2744, 4096, 5832, 8000]\n",
      "[1, 8, 27, 64, 125, 216, 343, 512, 729, 1000, 1331, 1728, 2197, 2744, 3375, 4096, 4913, 5832, 6859, 8000]\n"
     ]
    }
   ],
   "source": [
    "var2 = [i**3 for i in range(1,21) if i%2==0]\n",
    "print(var2)\n",
    "var2 = [i**3 for i in range(1,21)]\n",
    "print(var2)"
   ]
  },
  {
   "cell_type": "code",
   "execution_count": 11,
   "id": "66434244-fdaa-4cd4-ac4f-99763be8e54a",
   "metadata": {},
   "outputs": [
    {
     "name": "stdout",
     "output_type": "stream",
     "text": [
      "['T', 'A', 'S']\n"
     ]
    }
   ],
   "source": [
    "vowels = ['a','e','i','o','u']\n",
    "list1 = ['tejaa','pravin','atharva','shivangi']\n",
    "lsit2 = [j[0].upper() for j in list1 if j[-1].lower() in vowels]\n",
    "print(lsit2)"
   ]
  },
  {
   "cell_type": "code",
   "execution_count": 12,
   "id": "6a940c47-3c21-4942-afa8-ff651e490469",
   "metadata": {},
   "outputs": [
    {
     "name": "stdout",
     "output_type": "stream",
     "text": [
      "{'tejaa': 'T', 'atharva': 'A', 'shivangi': 'S'}\n"
     ]
    }
   ],
   "source": [
    "vowels = ['a','e','i','o','u']\n",
    "list1 = ['tejaa','pravin','atharva','shivangi']\n",
    "lsit2 = {j:j[0].upper() for j in list1 if j[-1].lower() in vowels}\n",
    "print(lsit2)"
   ]
  },
  {
   "cell_type": "code",
   "execution_count": null,
   "id": "5b476b0c-03b7-4f77-b89d-20bf3917168b",
   "metadata": {},
   "outputs": [],
   "source": []
  }
 ],
 "metadata": {
  "kernelspec": {
   "display_name": "Python 3 (ipykernel)",
   "language": "python",
   "name": "python3"
  },
  "language_info": {
   "codemirror_mode": {
    "name": "ipython",
    "version": 3
   },
   "file_extension": ".py",
   "mimetype": "text/x-python",
   "name": "python",
   "nbconvert_exporter": "python",
   "pygments_lexer": "ipython3",
   "version": "3.12.2"
  }
 },
 "nbformat": 4,
 "nbformat_minor": 5
}

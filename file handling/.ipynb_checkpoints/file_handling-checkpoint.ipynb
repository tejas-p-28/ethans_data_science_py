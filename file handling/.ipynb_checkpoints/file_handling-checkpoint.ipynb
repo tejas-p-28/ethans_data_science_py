{
 "cells": [
  {
   "cell_type": "code",
   "execution_count": 27,
   "id": "d90c1e9f-c90e-4990-ba26-8ad50c7348fb",
   "metadata": {},
   "outputs": [],
   "source": [
    "file_name = r'first.txt'\n",
    "fh = open(file_name,'a')\n",
    "data = 'This is first line \\nThis is second file\\n'\n",
    "fh.write(data)\n",
    "fh.close()\n"
   ]
  },
  {
   "cell_type": "code",
   "execution_count": 10,
   "id": "59641fb2-a5a1-441d-ba8b-16bbc1562937",
   "metadata": {},
   "outputs": [],
   "source": [
    "data = ['this is first line','this is second file']\n",
    "fh = open(file_name,'a')\n",
    "fh.writelines(data)\n",
    "fh.close()"
   ]
  },
  {
   "cell_type": "code",
   "execution_count": 31,
   "id": "19f8fed2-6de9-492f-b0fc-ce4d34f16981",
   "metadata": {},
   "outputs": [
    {
     "name": "stdout",
     "output_type": "stream",
     "text": [
      "['This is first line \\n', 'This is second fileThis is first line \\n', 'This is second fileThis is first line \\n', 'This is second file\\n', 'this is first linethis is second fileThis is first line \\n', 'This is second file\\n']\n"
     ]
    }
   ],
   "source": [
    "fh = open(file_name)\n",
    "data = fh.readlines()\n",
    "fh.close()\n",
    "print(data)"
   ]
  },
  {
   "cell_type": "code",
   "execution_count": 37,
   "id": "1bce420c-6449-4310-aae8-53944d3a5435",
   "metadata": {},
   "outputs": [
    {
     "name": "stdout",
     "output_type": "stream",
     "text": [
      "This is first line \n",
      "\n",
      "This is second fileThis is first line \n",
      "\n",
      "This is second fileThis is first line \n",
      "\n",
      "This is second file\n",
      "\n",
      "this is first linethis is second fileThis is first line \n",
      "\n",
      "This is second file\n",
      "\n"
     ]
    }
   ],
   "source": [
    "fh = open(file_name)\n",
    "for line in fh:\n",
    "    print(line)"
   ]
  },
  {
   "cell_type": "code",
   "execution_count": 5,
   "id": "78744206-4319-4f6f-b8ea-6aa51dfe174c",
   "metadata": {},
   "outputs": [
    {
     "name": "stdin",
     "output_type": "stream",
     "text": [
      "enter your name :  tejas patil\n",
      "enter marks for sub 1 :  778\n",
      "enter marks for sub 2 :  87\n"
     ]
    },
    {
     "name": "stdout",
     "output_type": "stream",
     "text": [
      "['name : tejas patil', 'marks1 : 778', 'marks2 : 87', 'percent : 432.5']\n"
     ]
    }
   ],
   "source": [
    "# funtion to store and retrieve data in/from file1\n",
    "# storing data into the file \n",
    "name = input('enter your name : ')\n",
    "marks1 = int(input('enter marks for sub 1 : '))\n",
    "marks2 = int(input('enter marks for sub 2 : '))\n",
    "percent = (marks1 + marks2)*0.5\n",
    "file_name = r'data.txt'\n",
    "fh = open(file_name ,'a+')\n",
    "data = [f'name : {name}',f'marks1 : {marks1}',f'marks2 : {marks2}',f'percent : {percent}']\n",
    "fh.writelines(data)\n",
    "fh.close()\n",
    "print(data)"
   ]
  },
  {
   "cell_type": "code",
   "execution_count": 6,
   "id": "83cc88a7-aa1b-42e0-b601-6a9c7428d7da",
   "metadata": {},
   "outputs": [
    {
     "name": "stdout",
     "output_type": "stream",
     "text": [
      "name : tejas patil \n",
      "marks1 : 778\n",
      " marks2 : 87\n",
      " percent : 432.5\n"
     ]
    }
   ],
   "source": [
    "#accessing data from the file\n",
    "file_name = r'data.txt'\n",
    "fh = open(file_name,'r')\n",
    "for line in fh:\n",
    "    print(f'name : {name} \\nmarks1 : {marks1}\\nmarks2 : {marks2}\\npercent : {percent}') "
   ]
  },
  {
   "cell_type": "code",
   "execution_count": null,
   "id": "82825a26-dba7-4f86-90a8-cd23b31dde35",
   "metadata": {},
   "outputs": [],
   "source": []
  }
 ],
 "metadata": {
  "kernelspec": {
   "display_name": "Python 3 (ipykernel)",
   "language": "python",
   "name": "python3"
  },
  "language_info": {
   "codemirror_mode": {
    "name": "ipython",
    "version": 3
   },
   "file_extension": ".py",
   "mimetype": "text/x-python",
   "name": "python",
   "nbconvert_exporter": "python",
   "pygments_lexer": "ipython3",
   "version": "3.12.2"
  }
 },
 "nbformat": 4,
 "nbformat_minor": 5
}

{
 "cells": [
  {
   "cell_type": "code",
   "execution_count": 27,
   "id": "d90c1e9f-c90e-4990-ba26-8ad50c7348fb",
   "metadata": {},
   "outputs": [],
   "source": [
    "file_name = r'first.txt'\n",
    "fh = open(file_name,'a')\n",
    "data = 'This is first line \\nThis is second file\\n'\n",
    "fh.write(data)\n",
    "fh.close()\n"
   ]
  },
  {
   "cell_type": "code",
   "execution_count": 10,
   "id": "59641fb2-a5a1-441d-ba8b-16bbc1562937",
   "metadata": {},
   "outputs": [],
   "source": [
    "data = ['this is first line','this is second file']\n",
    "fh = open(file_name,'a')\n",
    "fh.writelines(data)\n",
    "fh.close()"
   ]
  },
  {
   "cell_type": "code",
   "execution_count": 31,
   "id": "19f8fed2-6de9-492f-b0fc-ce4d34f16981",
   "metadata": {},
   "outputs": [
    {
     "name": "stdout",
     "output_type": "stream",
     "text": [
      "['This is first line \\n', 'This is second fileThis is first line \\n', 'This is second fileThis is first line \\n', 'This is second file\\n', 'this is first linethis is second fileThis is first line \\n', 'This is second file\\n']\n"
     ]
    }
   ],
   "source": [
    "fh = open(file_name)\n",
    "data = fh.readlines()\n",
    "fh.close()\n",
    "print(data)"
   ]
  },
  {
   "cell_type": "code",
   "execution_count": 37,
   "id": "1bce420c-6449-4310-aae8-53944d3a5435",
   "metadata": {},
   "outputs": [
    {
     "name": "stdout",
     "output_type": "stream",
     "text": [
      "This is first line \n",
      "\n",
      "This is second fileThis is first line \n",
      "\n",
      "This is second fileThis is first line \n",
      "\n",
      "This is second file\n",
      "\n",
      "this is first linethis is second fileThis is first line \n",
      "\n",
      "This is second file\n",
      "\n"
     ]
    }
   ],
   "source": [
    "fh = open(file_name)\n",
    "for line in fh:\n",
    "    print(line)"
   ]
  },
  {
   "cell_type": "code",
   "execution_count": 5,
   "id": "78744206-4319-4f6f-b8ea-6aa51dfe174c",
   "metadata": {},
   "outputs": [
    {
     "name": "stdin",
     "output_type": "stream",
     "text": [
      "enter your name :  tejas patil\n",
      "enter marks for sub 1 :  778\n",
      "enter marks for sub 2 :  87\n"
     ]
    },
    {
     "name": "stdout",
     "output_type": "stream",
     "text": [
      "['name : tejas patil', 'marks1 : 778', 'marks2 : 87', 'percent : 432.5']\n"
     ]
    }
   ],
   "source": [
    "# funtion to store and retrieve data in/from file1\n",
    "# storing data into the file \n",
    "name = input('enter your name : ')\n",
    "marks1 = int(input('enter marks for sub 1 : '))\n",
    "marks2 = int(input('enter marks for sub 2 : '))\n",
    "percent = (marks1 + marks2)*0.5\n",
    "file_name = r'data.txt'\n",
    "fh = open(file_name ,'a+')\n",
    "data = [f'name : {name}',f'marks1 : {marks1}',f'marks2 : {marks2}',f'percent : {percent}']\n",
    "fh.writelines(data)\n",
    "fh.close()\n",
    "print(data)"
   ]
  },
  {
   "cell_type": "code",
   "execution_count": 6,
   "id": "83cc88a7-aa1b-42e0-b601-6a9c7428d7da",
   "metadata": {},
   "outputs": [
    {
     "name": "stdout",
     "output_type": "stream",
     "text": [
      "name : tejas patil \n",
      "marks1 : 778\n",
      " marks2 : 87\n",
      " percent : 432.5\n"
     ]
    }
   ],
   "source": [
    "#accessing data from the file\n",
    "file_name = r'data.txt'\n",
    "fh = open(file_name,'r')\n",
    "for line in fh:\n",
    "    print(f'name : {name} \\nmarks1 : {marks1}\\nmarks2 : {marks2}\\npercent : {percent}') "
   ]
  },
  {
   "cell_type": "code",
   "execution_count": 7,
   "id": "82825a26-dba7-4f86-90a8-cd23b31dde35",
   "metadata": {},
   "outputs": [
    {
     "name": "stdout",
     "output_type": "stream",
     "text": [
      "this is using with statement\n"
     ]
    }
   ],
   "source": [
    "#with statement\n",
    "file_name = r'first.txt'\n",
    "with open(file_name, 'a+') as fh:\n",
    "    data = r'this is using with statement'\n",
    "    \n",
    "    fh.write(data)\n",
    "    print(data)"
   ]
  },
  {
   "cell_type": "code",
   "execution_count": null,
   "id": "5acc2d25-9eee-407e-913a-84b0528734af",
   "metadata": {},
   "outputs": [
    {
     "name": "stdout",
     "output_type": "stream",
     "text": [
      "1. Enter result \n",
      "2. Get Result \n",
      "3. Exit\n"
     ]
    },
    {
     "name": "stdin",
     "output_type": "stream",
     "text": [
      "enter your choice :  1\n",
      "enter your roll number :  1\n",
      "enter your name :  tejas\n",
      "enter marks for subject 1 :  88\n",
      "enter marks for subject 2 :  78\n",
      "enter your choice :  2\n",
      "enter your roll number :  1\n"
     ]
    },
    {
     "name": "stdout",
     "output_type": "stream",
     "text": [
      "1, tejas, 88, 78\n",
      "\n"
     ]
    }
   ],
   "source": [
    "#function to sptre and print the data from a file\n",
    "file_name = r'marks.csv'\n",
    "def store_data(roll_no,name,marks1,marks2):\n",
    "    with open(file_name,'a') as fh:\n",
    "        data = f'{roll_no}, {name}, {marks1}, {marks2}\\n'\n",
    "        fh.write(data)\n",
    "\n",
    "def ask_student():\n",
    "    roll_no = int(input('enter your roll number : '))\n",
    "    name = input('enter your name : ')\n",
    "    marks1 = int(input('enter marks for subject 1 : '))\n",
    "    marks2 = int(input('enter marks for subject 2 : '))\n",
    "    store_data(roll_no,name,marks1,marks2)\n",
    "def get_result():\n",
    "    rno = input('enter your roll number : ')\n",
    "    fh = open(file_name)\n",
    "    for line in fh:\n",
    "        if rno == line.split(',')[0]:\n",
    "            fh.close()\n",
    "            return line\n",
    "    fh.close()\n",
    "    return 'invalid'\n",
    "def main ():\n",
    "    print(f'1. Enter result \\n2. Get Result \\n3. Exit')\n",
    "    \n",
    "    while True:\n",
    "        ch = input('enter your choice : ')\n",
    "        if ch == '1':\n",
    "            ask_student()\n",
    "        elif ch == '2':\n",
    "            result = get_result()\n",
    "            print(result)\n",
    "        elif ch == '3':\n",
    "            break\n",
    "        else:\n",
    "            print('invalid choice')\n",
    "\n",
    "main()"
   ]
  },
  {
   "cell_type": "code",
   "execution_count": null,
   "id": "589c4283-e58e-40c8-bcbe-50c37189e283",
   "metadata": {},
   "outputs": [],
   "source": []
  }
 ],
 "metadata": {
  "kernelspec": {
   "display_name": "Python 3 (ipykernel)",
   "language": "python",
   "name": "python3"
  },
  "language_info": {
   "codemirror_mode": {
    "name": "ipython",
    "version": 3
   },
   "file_extension": ".py",
   "mimetype": "text/x-python",
   "name": "python",
   "nbconvert_exporter": "python",
   "pygments_lexer": "ipython3",
   "version": "3.12.2"
  }
 },
 "nbformat": 4,
 "nbformat_minor": 5
}

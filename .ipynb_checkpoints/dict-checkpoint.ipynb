{
 "cells": [
  {
   "cell_type": "code",
   "execution_count": 11,
   "id": "91888bf7-eebc-4c42-bfbd-2b787cc04767",
   "metadata": {},
   "outputs": [
    {
     "name": "stdout",
     "output_type": "stream",
     "text": [
      "{'name': 'Tejas', 'course': 'python'}\n",
      "{'name': 'TEJAS', 'course': 'python'}\n"
     ]
    }
   ],
   "source": [
    "dict1 = {'name' :'Tejas','course':'python'}\n",
    "print(dict1)\n",
    "\n",
    "dict1['name']= dict1['name'].upper()\n",
    "print(dict1)\n"
   ]
  },
  {
   "cell_type": "code",
   "execution_count": 14,
   "id": "1da8cf78-6179-417d-927e-ad3d1ac722dd",
   "metadata": {},
   "outputs": [
    {
     "name": "stdout",
     "output_type": "stream",
     "text": [
      "3435553443\n"
     ]
    }
   ],
   "source": [
    "my_dict = {'name':'tejas','phn':[725434545,34534633,3435553443]}\n",
    "print(my_dict['phn'][2])"
   ]
  },
  {
   "cell_type": "code",
   "execution_count": 16,
   "id": "9c740246-fd24-42aa-8207-01cb0d61a294",
   "metadata": {},
   "outputs": [
    {
     "name": "stdout",
     "output_type": "stream",
     "text": [
      "TEJAS\n"
     ]
    }
   ],
   "source": [
    "my_dict = {'1' : {'name' : 'tejas', 'course':'python'}, '2' : { 'name': 'pravin','course':'python'}}\n",
    "print(my_dict['1']['name'].upper())"
   ]
  },
  {
   "cell_type": "code",
   "execution_count": 18,
   "id": "8aa5fec5-d781-4f62-83ad-8f696b8bdaf8",
   "metadata": {},
   "outputs": [
    {
     "name": "stdout",
     "output_type": "stream",
     "text": [
      "['1', '2']\n",
      "{'1': {'name': 'tejas', 'course': 'python'}, '2': {'name': 'pravin', 'course': 'python'}}\n"
     ]
    }
   ],
   "source": [
    "# convert key to list\n",
    "print(list(my_dict))\n",
    "print(my_dict)"
   ]
  },
  {
   "cell_type": "code",
   "execution_count": 23,
   "id": "1b605870-f7c2-4768-9c0b-beeea430aa6a",
   "metadata": {},
   "outputs": [
    {
     "name": "stdout",
     "output_type": "stream",
     "text": [
      "dict_keys(['1', '2'])\n",
      "('1', '2')\n"
     ]
    }
   ],
   "source": [
    "print(my_dict.keys())\n",
    "print(tuple(my_dict.keys()))"
   ]
  },
  {
   "cell_type": "code",
   "execution_count": 25,
   "id": "81e71987-7abf-4928-b400-db62c1991436",
   "metadata": {},
   "outputs": [
    {
     "name": "stdout",
     "output_type": "stream",
     "text": [
      "[('name', 'tejas'), ('course', 'python')]\n"
     ]
    }
   ],
   "source": [
    "print(list(my_dict['1'].items()))\n"
   ]
  },
  {
   "cell_type": "code",
   "execution_count": null,
   "id": "4e737475-3d0a-4c66-92a6-fc4ac33d55f3",
   "metadata": {},
   "outputs": [],
   "source": []
  }
 ],
 "metadata": {
  "kernelspec": {
   "display_name": "Python 3 (ipykernel)",
   "language": "python",
   "name": "python3"
  },
  "language_info": {
   "codemirror_mode": {
    "name": "ipython",
    "version": 3
   },
   "file_extension": ".py",
   "mimetype": "text/x-python",
   "name": "python",
   "nbconvert_exporter": "python",
   "pygments_lexer": "ipython3",
   "version": "3.12.2"
  }
 },
 "nbformat": 4,
 "nbformat_minor": 5
}

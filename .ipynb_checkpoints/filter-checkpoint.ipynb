{
 "cells": [
  {
   "cell_type": "code",
   "execution_count": 1,
   "id": "dfed86b4-ef44-40da-a3e5-1a83be586ae6",
   "metadata": {},
   "outputs": [],
   "source": [
    "def get_even(n):\n",
    "    if n%2==0:\n",
    "        return True\n",
    "    return False"
   ]
  },
  {
   "cell_type": "code",
   "execution_count": 2,
   "id": "1706ac26-c0cb-46ad-85b9-097b89168d55",
   "metadata": {},
   "outputs": [
    {
     "name": "stdout",
     "output_type": "stream",
     "text": [
      "[2, 4, 6, 8, 10]\n"
     ]
    }
   ],
   "source": [
    "list1 = [1,2,3,4,5,6,7,8,10]\n",
    "list2 = list(filter(get_even,list1))\n",
    "print(list2)"
   ]
  },
  {
   "cell_type": "code",
   "execution_count": 7,
   "id": "efff7ec1-8ffe-450c-b9f5-2c25d1e54bec",
   "metadata": {},
   "outputs": [
    {
     "name": "stdout",
     "output_type": "stream",
     "text": [
      "[False, True, False, True, False, True, False, True]\n",
      "[2, 4, 6, 8]\n"
     ]
    }
   ],
   "source": [
    "list1 = [1,2,3,4,5,6,7,8]\n",
    "list2 = list(map(lambda n:n%2==0,list1))\n",
    "print(list2)\n",
    "list2 = list(filter(lambda n:n%2==0,list1))\n",
    "print(list2)"
   ]
  },
  {
   "cell_type": "code",
   "execution_count": 15,
   "id": "a00ebcea-87d2-48c6-8e48-0c75a9bb374b",
   "metadata": {},
   "outputs": [
    {
     "name": "stdout",
     "output_type": "stream",
     "text": [
      "[('tejas', 1, 98), ('pravin', 2, 99), ('atharv', 3, 89)]\n"
     ]
    }
   ],
   "source": [
    "name = ['tejas','pravin','atharv']\n",
    "roll_no = [1,2,3]\n",
    "marks = {'1':98,'2':99,'3':89}\n",
    "print(list(zip(name,roll_no,marks.values())))"
   ]
  },
  {
   "cell_type": "code",
   "execution_count": null,
   "id": "9da8dafb-2d02-4457-bab2-32351a238ecc",
   "metadata": {},
   "outputs": [],
   "source": []
  }
 ],
 "metadata": {
  "kernelspec": {
   "display_name": "Python 3 (ipykernel)",
   "language": "python",
   "name": "python3"
  },
  "language_info": {
   "codemirror_mode": {
    "name": "ipython",
    "version": 3
   },
   "file_extension": ".py",
   "mimetype": "text/x-python",
   "name": "python",
   "nbconvert_exporter": "python",
   "pygments_lexer": "ipython3",
   "version": "3.12.2"
  }
 },
 "nbformat": 4,
 "nbformat_minor": 5
}

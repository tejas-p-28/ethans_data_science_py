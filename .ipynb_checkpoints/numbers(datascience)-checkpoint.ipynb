{
 "cells": [
  {
   "cell_type": "code",
   "execution_count": 4,
   "id": "922fc74c-8fa4-46ff-9d5c-f25dee1dfa66",
   "metadata": {},
   "outputs": [
    {
     "name": "stdout",
     "output_type": "stream",
     "text": [
      "30\n",
      "300\n",
      "30.0\n"
     ]
    }
   ],
   "source": [
    "a = 20\n",
    "a += 10\n",
    "print(a)\n",
    "a*=10\n",
    "print(a)\n",
    "a/= 10\n",
    "print(a)"
   ]
  },
  {
   "cell_type": "code",
   "execution_count": 12,
   "id": "bc2f208b-3216-4d9d-a1ff-f4626c3c701e",
   "metadata": {},
   "outputs": [
    {
     "name": "stdout",
     "output_type": "stream",
     "text": [
      "<class 'float'>\n"
     ]
    }
   ],
   "source": [
    "#type of the variable\n",
    "a = 33.3\n",
    "print(type(a))\n",
    "#b = 10\n",
    "#print(type(b))"
   ]
  },
  {
   "cell_type": "code",
   "execution_count": 11,
   "id": "10ccd228-f583-4ab6-bc39-957422b26095",
   "metadata": {},
   "outputs": [
    {
     "name": "stdout",
     "output_type": "stream",
     "text": [
      "140713256111448\n",
      "140713256111448\n"
     ]
    }
   ],
   "source": [
    "p = 20\n",
    "p = 30\n",
    "print(id(p))\n",
    "print(id(p))"
   ]
  },
  {
   "cell_type": "code",
   "execution_count": 22,
   "id": "8a82c1dc-ba1b-4e75-b262-ff8ead25921c",
   "metadata": {},
   "outputs": [
    {
     "name": "stdout",
     "output_type": "stream",
     "text": [
      "hie\n"
     ]
    },
    {
     "data": {
      "text/plain": [
       "\"\\nprint('hie')\\nprint('hie')\\nprint('hie')\\n\""
      ]
     },
     "execution_count": 22,
     "metadata": {},
     "output_type": "execute_result"
    }
   ],
   "source": [
    "#single comment\n",
    "#multi line coment\n",
    "print('hie')\n",
    "\n",
    "'''\n",
    "print('hie')\n",
    "print('hie')\n",
    "print('hie')\n",
    "'''\n",
    "#\"\\nprint('hie')\\nprint('hie')\\nprint('hie')\\n\" we get this as output coz jupyter has the property to print the last statement whatever is written"
   ]
  },
  {
   "cell_type": "code",
   "execution_count": null,
   "id": "af6b0351-7265-4d41-adb9-60b74607ac60",
   "metadata": {},
   "outputs": [],
   "source": []
  }
 ],
 "metadata": {
  "kernelspec": {
   "display_name": "Python 3 (ipykernel)",
   "language": "python",
   "name": "python3"
  },
  "language_info": {
   "codemirror_mode": {
    "name": "ipython",
    "version": 3
   },
   "file_extension": ".py",
   "mimetype": "text/x-python",
   "name": "python",
   "nbconvert_exporter": "python",
   "pygments_lexer": "ipython3",
   "version": "3.12.2"
  }
 },
 "nbformat": 4,
 "nbformat_minor": 5
}

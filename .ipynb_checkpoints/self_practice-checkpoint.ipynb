{
 "cells": [
  {
   "cell_type": "code",
   "execution_count": 7,
   "id": "f61852c0-ef5b-45af-8189-b8e2447e08c3",
   "metadata": {},
   "outputs": [
    {
     "name": "stdin",
     "output_type": "stream",
     "text": [
      " tp817764\n"
     ]
    },
    {
     "name": "stdout",
     "output_type": "stream",
     "text": [
      "invalid\n"
     ]
    }
   ],
   "source": [
    "#validate the password \n",
    "password = input()\n",
    "has_valid_length = False\n",
    "has_upper_case = False\n",
    "has_lower_case = False\n",
    "has_special_char = False\n",
    "has_digit = False\n",
    "if (len(password)>=8) and (len(password)<=16):\n",
    "    has_valid_length = True\n",
    "    for i in password:\n",
    "        if (i.islower()):\n",
    "            has_lower_case = True\n",
    "        if(i.isupper()):\n",
    "            has_upper_case = True\n",
    "        if(i=='!' or i=='@' or i == '#' or i == '$' or i == '%' or i == '^' or i == '&' or i == '*' ):\n",
    "            has_special_char = True\n",
    "        if(i.isdigit()):\n",
    "            has_digit = True\n",
    "    if(has_valid_length == True and has_upper_case == True and has_lower_case == True and has_special_char == True and has_digit == True):\n",
    "        print('valid')\n",
    "    else:\n",
    "        print('invalid')"
   ]
  },
  {
   "cell_type": "code",
   "execution_count": 14,
   "id": "3690686a-df92-4a00-bfca-f266707cb3d6",
   "metadata": {},
   "outputs": [
    {
     "name": "stdout",
     "output_type": "stream",
     "text": [
      "no. of days is 31\n",
      "no. of days is 28\n",
      "no. of days is 31\n",
      "no.of days is 30\n",
      "no. of days is 31\n",
      "no. of days is 31\n",
      "no.of days is 30\n",
      "no. of days is 31\n"
     ]
    }
   ],
   "source": [
    "#for no. of days in month\n",
    "month = ['january','february','may','june','july','august','november','december']\n",
    "\n",
    "for i in month:\n",
    "    if (i=='february'):\n",
    "        print('no. of days is 28')\n",
    "    elif i in ('january','march','may','july','august','october','december'):\n",
    "        print('no. of days is 31')\n",
    "    else:\n",
    "        print('no.of days is 30')"
   ]
  },
  {
   "cell_type": "code",
   "execution_count": null,
   "id": "8150781c-28be-4eff-9a5e-60db80321ef5",
   "metadata": {},
   "outputs": [],
   "source": []
  }
 ],
 "metadata": {
  "kernelspec": {
   "display_name": "Python 3 (ipykernel)",
   "language": "python",
   "name": "python3"
  },
  "language_info": {
   "codemirror_mode": {
    "name": "ipython",
    "version": 3
   },
   "file_extension": ".py",
   "mimetype": "text/x-python",
   "name": "python",
   "nbconvert_exporter": "python",
   "pygments_lexer": "ipython3",
   "version": "3.12.2"
  }
 },
 "nbformat": 4,
 "nbformat_minor": 5
}

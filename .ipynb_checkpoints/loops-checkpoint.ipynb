{
 "cells": [
  {
   "cell_type": "code",
   "execution_count": 12,
   "id": "f0c0c1d9-f705-443c-b892-ea45f253acba",
   "metadata": {},
   "outputs": [
    {
     "name": "stdout",
     "output_type": "stream",
     "text": [
      "Tejas\n",
      "patil\n",
      "SBUP\n"
     ]
    }
   ],
   "source": [
    "name = ['Tejas','patil','SBUP']\n",
    "for i in name:\n",
    "    print(i)"
   ]
  },
  {
   "cell_type": "code",
   "execution_count": 13,
   "id": "e868f489-e3cf-4793-83b2-3840116028e4",
   "metadata": {},
   "outputs": [
    {
     "name": "stdout",
     "output_type": "stream",
     "text": [
      "['T']\n",
      "['e']\n",
      "['j']\n",
      "['a']\n",
      "['s']\n"
     ]
    }
   ],
   "source": [
    "name = 'Tejas'\n",
    "for i in name:\n",
    "    print(i.split())"
   ]
  },
  {
   "cell_type": "code",
   "execution_count": 48,
   "id": "fb5fad9e-5102-4363-b5ed-118b8d5cc266",
   "metadata": {},
   "outputs": [
    {
     "name": "stdout",
     "output_type": "stream",
     "text": [
      "*\n",
      "**\n",
      "***\n",
      "****\n",
      "*****\n"
     ]
    }
   ],
   "source": [
    "num = [1,2,3,4,5]\n",
    "for i in num:\n",
    "    print(i*'*')"
   ]
  },
  {
   "cell_type": "code",
   "execution_count": 68,
   "id": "b177afb1-96e3-4c66-ac66-45608f529c3e",
   "metadata": {},
   "outputs": [
    {
     "name": "stdout",
     "output_type": "stream",
     "text": [
      "   *   \n",
      "  ***  \n",
      " ***** \n",
      "   |   \n"
     ]
    }
   ],
   "source": [
    "num = [1,3,5]\n",
    "width = 7\n",
    "for i in num:\n",
    "    pattern = '*' * i\n",
    "    print(pattern.center(width))\n",
    "print('|'.center(width))"
   ]
  },
  {
   "cell_type": "code",
   "execution_count": 70,
   "id": "0539a821-8205-43bd-95a2-ee969fba046b",
   "metadata": {},
   "outputs": [],
   "source": [
    "#Note :Range"
   ]
  },
  {
   "cell_type": "code",
   "execution_count": 72,
   "id": "0c1e543a-61f7-446b-81d4-6bcc87c87f03",
   "metadata": {},
   "outputs": [
    {
     "name": "stdout",
     "output_type": "stream",
     "text": [
      "[1, 2, 3, 4, 5]\n"
     ]
    }
   ],
   "source": [
    "test = list(range(1,6))\n",
    "print(test)"
   ]
  },
  {
   "cell_type": "code",
   "execution_count": 74,
   "id": "f7417c51-3a5d-4092-b7c1-a7ea80ddb8f2",
   "metadata": {},
   "outputs": [
    {
     "name": "stdout",
     "output_type": "stream",
     "text": [
      "[40, 36, 32, 28, 24, 20, 16, 12, 8, 4]\n"
     ]
    }
   ],
   "source": [
    "test = list(range(4,41,4)[::-1])\n",
    "print(test)"
   ]
  },
  {
   "cell_type": "code",
   "execution_count": 7,
   "id": "54020a01-0346-4acd-9454-9099fe81517a",
   "metadata": {},
   "outputs": [
    {
     "name": "stdout",
     "output_type": "stream",
     "text": [
      "          &         \n",
      "         & &        \n",
      "        & & &       \n",
      "       & & & &      \n",
      "      & & & & &     \n",
      "     & & & & & &    \n"
     ]
    }
   ],
   "source": [
    "width = 20\n",
    "for i in range(1,7):\n",
    "    pattern = ' &' * i \n",
    "    print(pattern.center(width))\n",
    "    "
   ]
  },
  {
   "cell_type": "code",
   "execution_count": 6,
   "id": "3361c4e9-d651-491d-82d6-5746f364cb51",
   "metadata": {},
   "outputs": [
    {
     "name": "stdout",
     "output_type": "stream",
     "text": [
      "1830092613504\n",
      "5\n",
      "1830092692128\n",
      "6\n",
      "1830092692656\n",
      "6\n",
      "1830000770288\n"
     ]
    }
   ],
   "source": [
    "name = ['tejas','pravin','python']\n",
    "print(id(name))\n",
    "for name in name:\n",
    "    print(len(name))\n",
    "    print(id(name))"
   ]
  },
  {
   "cell_type": "code",
   "execution_count": 18,
   "id": "0de215ea-c9e6-4989-aea0-93593fa516f4",
   "metadata": {},
   "outputs": [
    {
     "name": "stdout",
     "output_type": "stream",
     "text": [
      "2\n",
      "3\n",
      "4\n",
      "5\n",
      "6\n"
     ]
    }
   ],
   "source": [
    "#while loop\n",
    "count = 1\n",
    "while count <= 5:\n",
    "    print(count)\n",
    "    count += 1"
   ]
  },
  {
   "cell_type": "code",
   "execution_count": null,
   "id": "d5fe16e1-c8f6-40a7-9d89-6e7ff82d88e9",
   "metadata": {},
   "outputs": [],
   "source": []
  }
 ],
 "metadata": {
  "kernelspec": {
   "display_name": "Python 3 (ipykernel)",
   "language": "python",
   "name": "python3"
  },
  "language_info": {
   "codemirror_mode": {
    "name": "ipython",
    "version": 3
   },
   "file_extension": ".py",
   "mimetype": "text/x-python",
   "name": "python",
   "nbconvert_exporter": "python",
   "pygments_lexer": "ipython3",
   "version": "3.12.2"
  }
 },
 "nbformat": 4,
 "nbformat_minor": 5
}

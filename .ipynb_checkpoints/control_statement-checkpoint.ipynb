{
 "cells": [
  {
   "cell_type": "code",
   "execution_count": 2,
   "id": "088556eb-f757-4886-a78f-d1518231a214",
   "metadata": {},
   "outputs": [
    {
     "name": "stdin",
     "output_type": "stream",
     "text": [
      "enter your percent 44\n"
     ]
    },
    {
     "name": "stdout",
     "output_type": "stream",
     "text": [
      "You are not eligible\n"
     ]
    }
   ],
   "source": [
    "percent = int(input('enter your percent'))\n",
    "if percent >= 90:\n",
    "    print('First class')\n",
    "elif percent >= 70:\n",
    "    print('Second Class')\n",
    "elif percent >= 45:\n",
    "    print('Third class')\n",
    "else :\n",
    "    print('You are not eligible')"
   ]
  },
  {
   "cell_type": "code",
   "execution_count": null,
   "id": "1aae3e10-90e1-4b3f-8aea-b28f0e6f9f1c",
   "metadata": {},
   "outputs": [],
   "source": []
  }
 ],
 "metadata": {
  "kernelspec": {
   "display_name": "Python 3 (ipykernel)",
   "language": "python",
   "name": "python3"
  },
  "language_info": {
   "codemirror_mode": {
    "name": "ipython",
    "version": 3
   },
   "file_extension": ".py",
   "mimetype": "text/x-python",
   "name": "python",
   "nbconvert_exporter": "python",
   "pygments_lexer": "ipython3",
   "version": "3.12.2"
  }
 },
 "nbformat": 4,
 "nbformat_minor": 5
}

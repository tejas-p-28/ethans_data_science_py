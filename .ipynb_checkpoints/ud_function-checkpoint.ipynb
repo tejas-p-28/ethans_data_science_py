{
 "cells": [
  {
   "cell_type": "code",
   "execution_count": 1,
   "id": "6a74d01f-d29d-4478-9f4a-dbe4705efb13",
   "metadata": {},
   "outputs": [
    {
     "name": "stdout",
     "output_type": "stream",
     "text": [
      "hello\n"
     ]
    }
   ],
   "source": [
    "def hello():\n",
    "    print('hello')\n",
    "hello()"
   ]
  },
  {
   "cell_type": "code",
   "execution_count": 2,
   "id": "7389455a-f00e-49b7-9011-48b77bb8467b",
   "metadata": {},
   "outputs": [
    {
     "name": "stdout",
     "output_type": "stream",
     "text": [
      "hello\n"
     ]
    }
   ],
   "source": [
    "hello()"
   ]
  },
  {
   "cell_type": "code",
   "execution_count": 4,
   "id": "0ac86a0c-a793-4358-8028-15c8909e3720",
   "metadata": {},
   "outputs": [
    {
     "name": "stdout",
     "output_type": "stream",
     "text": [
      "Hi Tejas\n",
      "your course is Python\n"
     ]
    }
   ],
   "source": [
    "def greet(name,course): #positional argument\n",
    "    print(f'Hi {name}')\n",
    "    print(f'your course is {course}')\n",
    "greet('Tejas','Python')"
   ]
  },
  {
   "cell_type": "code",
   "execution_count": 10,
   "id": "295a44e4-8c1c-4258-b2be-92af851896a6",
   "metadata": {},
   "outputs": [
    {
     "name": "stdout",
     "output_type": "stream",
     "text": [
      "Hi Tejas\n",
      "your course is Data Science\n"
     ]
    }
   ],
   "source": [
    "def greet(name= 'Tejas',msg = 'Data Science'):   #named argument\n",
    "    print(f'Hi {name}')\n",
    "    print(f'your course is {msg}')\n",
    "greet('Tejas')"
   ]
  },
  {
   "cell_type": "code",
   "execution_count": 8,
   "id": "b781fad9-89c8-4046-b436-29ea5e6d88df",
   "metadata": {},
   "outputs": [
    {
     "name": "stdout",
     "output_type": "stream",
     "text": [
      "Hi Tejas\n",
      "your course is Data Science\n"
     ]
    }
   ],
   "source": [
    "def greet(name,msg = 'Data Science'):   #default argument\n",
    "    print(f'Hi {name}')\n",
    "    print(f'your course is {msg}')\n",
    "greet('Tejas')"
   ]
  },
  {
   "cell_type": "code",
   "execution_count": 12,
   "id": "ca68e44d-5926-4c11-9268-5531a857253c",
   "metadata": {},
   "outputs": [
    {
     "name": "stdin",
     "output_type": "stream",
     "text": [
      "enter username gv\n",
      "enter password df\n"
     ]
    },
    {
     "name": "stdout",
     "output_type": "stream",
     "text": [
      "failed\n"
     ]
    }
   ],
   "source": [
    "def user_login():\n",
    "    username = input('enter username')\n",
    "    pwd = input('enter password')\n",
    "    if username == 'tejas' and pwd == '123':\n",
    "        print('successful')\n",
    "    else:\n",
    "        print('failed')\n",
    "user_login()"
   ]
  },
  {
   "cell_type": "code",
   "execution_count": null,
   "id": "9efa5606-6d00-4a51-814f-5020a2027286",
   "metadata": {},
   "outputs": [],
   "source": []
  }
 ],
 "metadata": {
  "kernelspec": {
   "display_name": "Python 3 (ipykernel)",
   "language": "python",
   "name": "python3"
  },
  "language_info": {
   "codemirror_mode": {
    "name": "ipython",
    "version": 3
   },
   "file_extension": ".py",
   "mimetype": "text/x-python",
   "name": "python",
   "nbconvert_exporter": "python",
   "pygments_lexer": "ipython3",
   "version": "3.12.2"
  }
 },
 "nbformat": 4,
 "nbformat_minor": 5
}

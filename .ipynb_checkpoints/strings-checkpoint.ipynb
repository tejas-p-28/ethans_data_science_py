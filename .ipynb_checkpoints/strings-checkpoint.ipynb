{
 "cells": [
  {
   "cell_type": "code",
   "execution_count": 4,
   "id": "a23773e1-0168-4aa4-9d69-474f909127bd",
   "metadata": {},
   "outputs": [
    {
     "name": "stdout",
     "output_type": "stream",
     "text": [
      "tejas \t pune\n"
     ]
    }
   ],
   "source": [
    "#\\t is use to give a tab\n",
    "a = 'tejas \\t pune'\n",
    "print(a)"
   ]
  },
  {
   "cell_type": "code",
   "execution_count": 5,
   "id": "052b68f7-99c2-44ed-9b2e-25cde4e4ff0d",
   "metadata": {},
   "outputs": [
    {
     "name": "stdout",
     "output_type": "stream",
     "text": [
      "tejas\n",
      "\tpune\n"
     ]
    }
   ],
   "source": [
    "#\\n is to new line\n",
    "a = 'tejas\\n\\tpune'\n",
    "print(a)"
   ]
  },
  {
   "cell_type": "code",
   "execution_count": 6,
   "id": "350bebb7-83ed-4865-b220-c18cfbdbd0ea",
   "metadata": {},
   "outputs": [
    {
     "ename": "SyntaxError",
     "evalue": "unterminated string literal (detected at line 1) (2270279888.py, line 1)",
     "output_type": "error",
     "traceback": [
      "\u001b[1;36m  Cell \u001b[1;32mIn[6], line 1\u001b[1;36m\u001b[0m\n\u001b[1;33m    a = 'i'm tejas'\u001b[0m\n\u001b[1;37m                  ^\u001b[0m\n\u001b[1;31mSyntaxError\u001b[0m\u001b[1;31m:\u001b[0m unterminated string literal (detected at line 1)\n"
     ]
    }
   ],
   "source": [
    "#' is unrecognised by the interpreter\n",
    "a = 'i'm tejas'\n",
    "print(a)"
   ]
  },
  {
   "cell_type": "code",
   "execution_count": 7,
   "id": "e84e9d8f-909e-4556-a5f5-0c29caa51b8d",
   "metadata": {},
   "outputs": [
    {
     "name": "stdout",
     "output_type": "stream",
     "text": [
      "i'm tejas\n"
     ]
    }
   ],
   "source": [
    "a = \"i'm tejas\"\n",
    "print(a)"
   ]
  },
  {
   "cell_type": "code",
   "execution_count": 10,
   "id": "401ea09d-6b9f-4516-b099-969f3a2234b1",
   "metadata": {},
   "outputs": [
    {
     "name": "stdout",
     "output_type": "stream",
     "text": [
      "hie\n",
      "this is \n",
      "tejas\n"
     ]
    }
   ],
   "source": [
    "a = '''hie\n",
    "this is \n",
    "tejas'''\n",
    "print(a)"
   ]
  },
  {
   "cell_type": "code",
   "execution_count": 11,
   "id": "aadcffdb-48bf-49bb-aedf-11ebbc7d9490",
   "metadata": {},
   "outputs": [
    {
     "ename": "SyntaxError",
     "evalue": "unterminated string literal (detected at line 1) (4166056593.py, line 1)",
     "output_type": "error",
     "traceback": [
      "\u001b[1;36m  Cell \u001b[1;32mIn[11], line 1\u001b[1;36m\u001b[0m\n\u001b[1;33m    a = \"hie\u001b[0m\n\u001b[1;37m        ^\u001b[0m\n\u001b[1;31mSyntaxError\u001b[0m\u001b[1;31m:\u001b[0m unterminated string literal (detected at line 1)\n"
     ]
    }
   ],
   "source": [
    "a = \"hie\n",
    "this is\n",
    "tejas\"\n",
    "print(a)"
   ]
  },
  {
   "cell_type": "code",
   "execution_count": 12,
   "id": "eba7d46d-327e-4e11-a061-3e404eafef97",
   "metadata": {},
   "outputs": [
    {
     "name": "stdout",
     "output_type": "stream",
     "text": [
      "5\n",
      "4\n"
     ]
    }
   ],
   "source": [
    "print(len('hello'))\n",
    "a = 'hiee'\n",
    "c= len(a)\n",
    "print(c)"
   ]
  },
  {
   "cell_type": "code",
   "execution_count": 13,
   "id": "2abaca73-9ddf-44ea-a855-879cd1bfa3bc",
   "metadata": {},
   "outputs": [
    {
     "name": "stdout",
     "output_type": "stream",
     "text": [
      "this is \\tejas \\name \n"
     ]
    }
   ],
   "source": [
    "#raw string is used to specify the path in python\n",
    "print(r'this is \\tejas \\name ')"
   ]
  },
  {
   "cell_type": "code",
   "execution_count": 14,
   "id": "dde5d334-5af3-4e97-bd66-89e5d9cb37e1",
   "metadata": {},
   "outputs": [
    {
     "name": "stdout",
     "output_type": "stream",
     "text": [
      "this is\tejas \n",
      "ame\n"
     ]
    }
   ],
   "source": [
    "print('this is\\tejas \\name')"
   ]
  },
  {
   "cell_type": "code",
   "execution_count": 16,
   "id": "024caf2c-0d3c-4902-8755-3c464438964c",
   "metadata": {},
   "outputs": [
    {
     "name": "stdout",
     "output_type": "stream",
     "text": [
      "this is \\tejas \\name\n"
     ]
    }
   ],
   "source": [
    "a = r'this is \\tejas \\name'\n",
    "print(a)"
   ]
  },
  {
   "cell_type": "code",
   "execution_count": 28,
   "id": "9b1e0411-0724-48c5-83b5-155b78454364",
   "metadata": {},
   "outputs": [
    {
     "name": "stdout",
     "output_type": "stream",
     "text": [
      "t\n",
      "e\n"
     ]
    }
   ],
   "source": [
    "#this is used to find the middle of the string\n",
    "a = \"hello tejass\"\n",
    "print(a[len(a)//2])\n",
    "print(a[len(a)//2+1])"
   ]
  },
  {
   "cell_type": "code",
   "execution_count": 31,
   "id": "2776b907-a319-4755-bc27-9cb3210c34e9",
   "metadata": {},
   "outputs": [
    {
     "ename": "TypeError",
     "evalue": "'str' object is not callable",
     "output_type": "error",
     "traceback": [
      "\u001b[1;31m---------------------------------------------------------------------------\u001b[0m",
      "\u001b[1;31mTypeError\u001b[0m                                 Traceback (most recent call last)",
      "Cell \u001b[1;32mIn[31], line 2\u001b[0m\n\u001b[0;32m      1\u001b[0m \u001b[38;5;66;03m#print = 'h'\u001b[39;00m\n\u001b[1;32m----> 2\u001b[0m \u001b[38;5;28;43mprint\u001b[39;49m\u001b[43m(\u001b[49m\u001b[38;5;124;43m'\u001b[39;49m\u001b[38;5;124;43ma\u001b[39;49m\u001b[38;5;124;43m'\u001b[39;49m\u001b[43m)\u001b[49m\n",
      "\u001b[1;31mTypeError\u001b[0m: 'str' object is not callable"
     ]
    }
   ],
   "source": [
    "#print = 'h'\n",
    "print('a')"
   ]
  },
  {
   "cell_type": "code",
   "execution_count": 1,
   "id": "c7f6e77c-68fb-43ec-b4fb-c1f7d0a04ab3",
   "metadata": {},
   "outputs": [
    {
     "name": "stdout",
     "output_type": "stream",
     "text": [
      "tejas\n",
      "None\n"
     ]
    }
   ],
   "source": [
    "a = 5\n",
    "b = a \n",
    "c = print('tejas')\n",
    "print(c)"
   ]
  },
  {
   "cell_type": "code",
   "execution_count": 11,
   "id": "4c2ec0ea-f6b5-4a39-b836-ca900648a0f8",
   "metadata": {},
   "outputs": [
    {
     "name": "stdout",
     "output_type": "stream",
     "text": [
      "llo t\n",
      "llo t\n",
      "lot\n",
      "llo\n",
      "t ol\n",
      "\n",
      "sajet o\n"
     ]
    }
   ],
   "source": [
    "#slicing \n",
    "a = 'hello tejas'\n",
    "print(a[2:6+1])\n",
    "print(a[2:7])\n",
    "print(a[2:7:2])\n",
    "print(a[2:6-1])\n",
    "'''if we give higher start and lower end index then it does not return any o/p if we want o/p then -1 is used '''\n",
    "print(a[6:2:-1])\n",
    "print(a[-2:-6])\n"
   ]
  },
  {
   "cell_type": "code",
   "execution_count": 12,
   "id": "254de70e-759f-4364-8ec7-f9e872d427fd",
   "metadata": {},
   "outputs": [
    {
     "name": "stdout",
     "output_type": "stream",
     "text": [
      "sajet o\n"
     ]
    }
   ],
   "source": [
    "print(a[:3:-1])"
   ]
  },
  {
   "cell_type": "code",
   "execution_count": 15,
   "id": "71c88786-9f33-4d97-b23c-062371fc6877",
   "metadata": {},
   "outputs": [
    {
     "name": "stdout",
     "output_type": "stream",
     "text": [
      "sajet olleh\n"
     ]
    }
   ],
   "source": [
    "#to print the string in reverse order\n",
    "print(a[::-1])"
   ]
  },
  {
   "cell_type": "code",
   "execution_count": 17,
   "id": "3d6f7010-9242-4768-8be4-7b0ed1abc76e",
   "metadata": {},
   "outputs": [
    {
     "name": "stdout",
     "output_type": "stream",
     "text": [
      "iee\n",
      "tejas \n",
      "pat\n"
     ]
    }
   ],
   "source": [
    "a = '''hiee\n",
    "tejas \n",
    "patil'''\n",
    "print(a[1:15])"
   ]
  },
  {
   "cell_type": "code",
   "execution_count": 12,
   "id": "293ef059-254d-483d-ad7f-8c877ffdc815",
   "metadata": {},
   "outputs": [
    {
     "name": "stdout",
     "output_type": "stream",
     "text": [
      "Hello tejas from SBUP \n",
      "Hello tejas from SBUP Hello tejas from SBUP \n",
      "teeeeejas\n"
     ]
    }
   ],
   "source": [
    "#concatenate of string\n",
    "name = 'tejas'\n",
    "college = 'SBUP'\n",
    "msg = 'Hello ' + name + ' from ' + college + ' ' \n",
    "print(msg)\n",
    "d = msg*2\n",
    "print(d)\n",
    "temp = name[0] + name[1]*5 + name[2:]\n",
    "print(temp)\n"
   ]
  },
  {
   "cell_type": "code",
   "execution_count": 18,
   "id": "90657f8b-a5b8-460d-9afc-ff9706a59554",
   "metadata": {},
   "outputs": [
    {
     "name": "stdout",
     "output_type": "stream",
     "text": [
      "HELLO TEJAS\n",
      "HELLO TEJAS\n",
      "hello tejas\n",
      "Hello tejas\n",
      "Hello Tejas\n"
     ]
    }
   ],
   "source": [
    "name = 'helLo teJas'\n",
    "print(name.upper())\n",
    "uname = name.upper()\n",
    "print(uname)\n",
    "print(uname.lower())\n",
    "print(uname.capitalize())\n",
    "\n",
    "print(uname.title())"
   ]
  },
  {
   "cell_type": "markdown",
   "id": "7232c53c-1f73-4bc9-ac18-c20c2e937c5f",
   "metadata": {},
   "source": [
    "# NOTE: interview question\n",
    "# want to print every 4 letter of the string"
   ]
  },
  {
   "cell_type": "code",
   "execution_count": 7,
   "id": "7e6ec530-66ba-4313-9d6c-ffbb788120bd",
   "metadata": {},
   "outputs": [
    {
     "name": "stdout",
     "output_type": "stream",
     "text": [
      "hoienhv  tohtg\n"
     ]
    }
   ],
   "source": [
    "#want to print every 4th letter of the string\n",
    "a = 'hello this returns the every 4th letter of the string'\n",
    "print(a[0::4])\n",
    "#in string 1 char should be print multiple times\n"
   ]
  },
  {
   "cell_type": "code",
   "execution_count": 14,
   "id": "207b6454-8202-4f16-bac5-4b06144d2c63",
   "metadata": {},
   "outputs": [
    {
     "name": "stdout",
     "output_type": "stream",
     "text": [
      "eehello this returns the every 4th letter of the string\n",
      "eehello this returns the every 4th letter of the string\n",
      "eehello this returns the every 4th letter of the string\n",
      "eehello this returns the every 4th letter of the string\n",
      "eehello this returns the every 4th letter of the string\n",
      "eehello this returns the every 4th letter of the string\n",
      "eehello this returns the every 4th letter of the string\n",
      "eehello this returns the every 4th letter of the string\n"
     ]
    }
   ],
   "source": [
    "a = 'hello this returns the every 4th letter of the string'\n",
    "for i in a:\n",
    "    if i == 'e':\n",
    "        print('e'*2 + a)\n"
   ]
  },
  {
   "cell_type": "code",
   "execution_count": 44,
   "id": "e6ae2b86-f046-4fa2-b878-b0d9e79c293f",
   "metadata": {},
   "outputs": [
    {
     "name": "stdout",
     "output_type": "stream",
     "text": [
      "---------------\n",
      "\n",
      "Ethans\n",
      "----------------\n"
     ]
    }
   ],
   "source": [
    "#positioning \n",
    "\n",
    "#msg = name.center(30,'-')\n",
    "#print(msg)\n",
    "#msg1 = name.center(4,'-')\n",
    "#print(msg1)\n",
    "#print(msg.rjust(100,'a'))\n",
    "#print(name.rjust(30,'-'))\n",
    "namee = '''\\n\n",
    "Ethans\n",
    "'''\n",
    "print(namee.center(40,'-'))\n"
   ]
  },
  {
   "cell_type": "code",
   "execution_count": 52,
   "id": "14390f86-837d-4ce3-a22e-bba10b4fb951",
   "metadata": {},
   "outputs": [
    {
     "name": "stdout",
     "output_type": "stream",
     "text": [
      "--------------------------------------------------\n",
      "                   ETHANS CLASS                   \n",
      "--------------------------------------------------\n"
     ]
    }
   ],
   "source": [
    "name = 'ethans class'\n",
    "width = 50\n",
    "print('-' *width + '\\n' + name.upper().center(width) + '\\n' + '-' *width)"
   ]
  },
  {
   "cell_type": "code",
   "execution_count": 67,
   "id": "82629d89-59e0-43ec-a041-624a801bf8b1",
   "metadata": {},
   "outputs": [
    {
     "name": "stdout",
     "output_type": "stream",
     "text": [
      "2\n",
      "2\n",
      "1\n",
      "4\n"
     ]
    }
   ],
   "source": [
    "s = 'welcome to todays python class'\n",
    "print(s.count('to'))\n",
    "print(s.count('to',1,))\n",
    "print(s.count('to',1,10))\n",
    "print(s.lower().count('o'))"
   ]
  },
  {
   "cell_type": "code",
   "execution_count": 72,
   "id": "0e544160-5941-4b9a-95f5-b05540a7fe52",
   "metadata": {},
   "outputs": [
    {
     "name": "stdout",
     "output_type": "stream",
     "text": [
      "4\n",
      "7\n"
     ]
    }
   ],
   "source": [
    "#index \n",
    "s = 'welcome to todays python class'\n",
    "print(s.index('o'))\n",
    "print(s[::-1].index('o',5))"
   ]
  },
  {
   "cell_type": "code",
   "execution_count": 82,
   "id": "b1617c87-3ddb-4487-b798-d556db6d4bee",
   "metadata": {},
   "outputs": [
    {
     "name": "stdout",
     "output_type": "stream",
     "text": [
      "thwas was string with was repeated\n",
      "thwas was string with is repeated\n",
      " was string with was repeated\n"
     ]
    }
   ],
   "source": [
    "s = 'this is string with is repeated'\n",
    "print(s.replace('is','was'))\n",
    "print(s.replace('is','was',2))\n",
    "print(s[4:].replace('is','was'))"
   ]
  },
  {
   "cell_type": "code",
   "execution_count": 8,
   "id": "73ff8172-29eb-4fd0-ab20-5fe74faca422",
   "metadata": {},
   "outputs": [
    {
     "name": "stdout",
     "output_type": "stream",
     "text": [
      "teeeejast\n",
      "jas\n"
     ]
    }
   ],
   "source": [
    "s = '--teeeejast--'\n",
    "s1 = s.strip('-')\n",
    "print(s1)\n",
    "print(s1.strip('et'))\n"
   ]
  },
  {
   "cell_type": "code",
   "execution_count": 4,
   "id": "21260ce6-c7cf-452d-bff4-186824c680d7",
   "metadata": {},
   "outputs": [
    {
     "name": "stdout",
     "output_type": "stream",
     "text": [
      "tejast--\n",
      "--tejast\n"
     ]
    }
   ],
   "source": [
    "s = '--tejast--'\n",
    "print(s.lstrip('-'))\n",
    "print(s.rstrip('-'))"
   ]
  },
  {
   "cell_type": "code",
   "execution_count": 4,
   "id": "66e0e4fe-c264-4f5c-9646-d01de0f6088f",
   "metadata": {},
   "outputs": [
    {
     "name": "stdout",
     "output_type": "stream",
     "text": [
      "6\n"
     ]
    }
   ],
   "source": [
    "a = 'tejas'\n",
    "print(a.count(''))"
   ]
  },
  {
   "cell_type": "code",
   "execution_count": 13,
   "id": "f4e49d9c-1754-4c53-8f5c-5751d8af87c9",
   "metadata": {},
   "outputs": [
    {
     "name": "stdout",
     "output_type": "stream",
     "text": [
      "Tejas s--------\n"
     ]
    }
   ],
   "source": [
    "a = '-------Tejas s_--------'\n",
    "print(a.lstrip('-'))"
   ]
  },
  {
   "cell_type": "code",
   "execution_count": 15,
   "id": "156fbdf3-30f3-4b29-8704-455fd26e937d",
   "metadata": {},
   "outputs": [
    {
     "name": "stdout",
     "output_type": "stream",
     "text": [
      "-------Tejas s\n"
     ]
    }
   ],
   "source": [
    "print(a.rstrip('_-'))"
   ]
  },
  {
   "cell_type": "code",
   "execution_count": 28,
   "id": "fe4d39e3-4968-499e-8e34-82223cc8de3c",
   "metadata": {},
   "outputs": [
    {
     "name": "stdout",
     "output_type": "stream",
     "text": [
      "['hie', 'tejas', 'how', 'are', 'uhh tejas']\n",
      "['hie-tejas-how-are-uhh', 'tejas']\n",
      "['hie_tejas_how_are_uhh tejas']\n",
      "['hie', 'tejas', 'how', 'are', 'uhh tejas']\n",
      "['hie-tejas-how-are', 'uhh tejas']\n"
     ]
    }
   ],
   "source": [
    "a = 'hie-tejas-how-are-uhh tejas'\n",
    "print(a.split('-'))\n",
    "print(a.split())\n",
    "print(a.replace('-','_').split('-',1))\n",
    "print(a.split('-',1))\n",
    "print(a.rsplit('-',1))"
   ]
  },
  {
   "cell_type": "code",
   "execution_count": 32,
   "id": "1a614776-dafc-4e60-9eaa-6bd80b484c8e",
   "metadata": {},
   "outputs": [
    {
     "name": "stdout",
     "output_type": "stream",
     "text": [
      "hie tejas pyton\n",
      "hie--tejas--pyton\n"
     ]
    }
   ],
   "source": [
    "#join \n",
    "a = ['hie','tejas','pyton']\n",
    "print(' '.join(a))\n",
    "print('--'.join(a))"
   ]
  },
  {
   "cell_type": "code",
   "execution_count": null,
   "id": "04f9d36a-c7ec-49b7-8ffc-e1359d7948e7",
   "metadata": {},
   "outputs": [],
   "source": []
  }
 ],
 "metadata": {
  "kernelspec": {
   "display_name": "Python 3 (ipykernel)",
   "language": "python",
   "name": "python3"
  },
  "language_info": {
   "codemirror_mode": {
    "name": "ipython",
    "version": 3
   },
   "file_extension": ".py",
   "mimetype": "text/x-python",
   "name": "python",
   "nbconvert_exporter": "python",
   "pygments_lexer": "ipython3",
   "version": "3.12.2"
  }
 },
 "nbformat": 4,
 "nbformat_minor": 5
}

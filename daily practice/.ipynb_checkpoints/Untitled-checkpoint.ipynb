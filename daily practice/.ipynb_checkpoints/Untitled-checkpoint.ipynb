{
 "cells": [
  {
   "cell_type": "code",
   "execution_count": 4,
   "id": "2d8e747f-681e-4024-b485-ebf146790db5",
   "metadata": {},
   "outputs": [
    {
     "name": "stdout",
     "output_type": "stream",
     "text": [
      "[1, 2, 9, 5]\n",
      "[1, 2, 9, 5]\n",
      "[1, 2, 5, 9]\n",
      "[1, 2, 5, 9]\n"
     ]
    }
   ],
   "source": [
    "#sorting wihtout built in function\n",
    "number = [5,2,9,1]\n",
    "n = len(number)\n",
    "for num in range(n):\n",
    "    mid_index = num\n",
    "    j = num+1\n",
    "    while j < n:\n",
    "        if number[j] < number[mid_index]:\n",
    "            mid_index = j\n",
    "        j+=1\n",
    "    number[num], number[mid_index] = number[mid_index], number[num]\n",
    "    print(number)"
   ]
  },
  {
   "cell_type": "code",
   "execution_count": 1,
   "id": "200beca6-43d8-424c-88b4-bf61a93f2697",
   "metadata": {},
   "outputs": [
    {
     "name": "stdin",
     "output_type": "stream",
     "text": [
      " str\n",
      " trs\n"
     ]
    },
    {
     "name": "stdout",
     "output_type": "stream",
     "text": [
      "true\n",
      "true\n",
      "true\n"
     ]
    }
   ],
   "source": [
    "str1 = input()\n",
    "str2 = input()\n",
    "if len(str1) != len(str2):\n",
    "    print('false')\n",
    "count = {}\n",
    "for char in str1:\n",
    "    if char in count:\n",
    "        count[char] +=1\n",
    "    else:\n",
    "        count[char] = 1\n",
    "\n",
    "for char in str2:\n",
    "    if char not in count:\n",
    "        print('false')\n",
    "    count[char] -=1\n",
    "    if count[char] < 0:\n",
    "        print('false')\n",
    "\n",
    "for value in count.values():\n",
    "    if value != 0 :\n",
    "        print('false')\n",
    "    else:\n",
    "        print('true')\n",
    "\n"
   ]
  },
  {
   "cell_type": "code",
   "execution_count": 13,
   "id": "e5d1a82d-3304-4896-abee-a475fa2b3814",
   "metadata": {},
   "outputs": [
    {
     "name": "stdout",
     "output_type": "stream",
     "text": [
      "9\n",
      "1\n"
     ]
    }
   ],
   "source": [
    "#max and min\n",
    "def find_min_max(arr):\n",
    "    min_val = arr[0]\n",
    "    max_val = arr[0]\n",
    "    for num in arr:\n",
    "        if num > max_val:\n",
    "            max_val = num\n",
    "        if num < min_val:\n",
    "            min_val = num\n",
    "    return max_val, min_val\n",
    "numbers = [5, 2, 9, 1]\n",
    "max_val, min_val = find_min_max(numbers)\n",
    "print(max_val)\n",
    "print(min_val)"
   ]
  },
  {
   "cell_type": "code",
   "execution_count": 14,
   "id": "8b8ba723-fecf-4a02-8137-a82600f42e1a",
   "metadata": {},
   "outputs": [
    {
     "name": "stdout",
     "output_type": "stream",
     "text": [
      "18.0\n",
      "6\n"
     ]
    }
   ],
   "source": [
    "# total sum and avg of the numbers\n",
    "def total_sum_avg(numbers):\n",
    "    total_sum = 0 \n",
    "    count = 0\n",
    "    for num in numbers:\n",
    "        total_sum += num\n",
    "        count+=1\n",
    "\n",
    "    average = total_sum / count\n",
    "    return average, count\n",
    "\n",
    "numbers = [4, 8, 15, 16, 23, 42]\n",
    "average, count = total_sum_avg(numbers)\n",
    "print(average)\n",
    "print(count)"
   ]
  },
  {
   "cell_type": "code",
   "execution_count": 2,
   "id": "3f0c8183-4b98-4007-804d-4ab667a37564",
   "metadata": {},
   "outputs": [
    {
     "name": "stdout",
     "output_type": "stream",
     "text": [
      "3\n"
     ]
    }
   ],
   "source": [
    "#index of the target number \n",
    "def linear_search(number, target):\n",
    "    index = 0\n",
    "    for num in number:\n",
    "        if num == target:\n",
    "            return index \n",
    "        index+=1\n",
    "    return -1 \n",
    "\n",
    "numbers = [3, 7, 1, 9, 5]\n",
    "target = 9\n",
    "index = linear_search(numbers, target)\n",
    "print(index)"
   ]
  },
  {
   "cell_type": "code",
   "execution_count": 4,
   "id": "dd1fca9d-fc7d-46f4-ae47-3597acfb39b3",
   "metadata": {},
   "outputs": [
    {
     "name": "stdout",
     "output_type": "stream",
     "text": [
      "(0, 1)\n",
      "(1, 2)\n"
     ]
    }
   ],
   "source": [
    "def sum_of_target(arr, target):\n",
    "    n = len(arr)\n",
    "    for i in range(n):\n",
    "        for j in range(i+1, n):\n",
    "            if arr[i] + arr[j] == target:\n",
    "                return i,j\n",
    "\n",
    "print(sum_of_target([2, 7, 11, 15], 9))   # Output: (0, 1)\n",
    "print(sum_of_target([3, 2, 4], 6))        "
   ]
  },
  {
   "cell_type": "code",
   "execution_count": 2,
   "id": "cf10b50b-2be9-4140-bb00-8634d4da74e4",
   "metadata": {},
   "outputs": [
    {
     "name": "stdout",
     "output_type": "stream",
     "text": [
      "[1, 2, 5, 9]\n"
     ]
    }
   ],
   "source": [
    "def selection_sort(arr):\n",
    "    n = len(arr)\n",
    "    for i in range(n):\n",
    "        min_index = i \n",
    "        for j in range(i+1, n):\n",
    "            if arr[j] < arr[min_index]:\n",
    "                min_index = j\n",
    "        arr[i], arr[min_index] = arr[min_index], arr[i]\n",
    "    return arr\n",
    "\n",
    "numbers = [5, 2, 9, 1]\n",
    "print(selection_sort(numbers))"
   ]
  },
  {
   "cell_type": "code",
   "execution_count": 3,
   "id": "b3698770-2fa1-42b4-9fcb-0cf90c9cba7e",
   "metadata": {},
   "outputs": [
    {
     "name": "stdout",
     "output_type": "stream",
     "text": [
      "[1, 2, 5, 9]\n"
     ]
    }
   ],
   "source": [
    "#see the smallest in the arr and swap them\n",
    "def selection_sort(arr):\n",
    "    n = len(arr)\n",
    "    for i in range(n):\n",
    "        min_index = i\n",
    "        for j in range(i+1, n):\n",
    "            if arr[j] < arr[min_index]:\n",
    "                min_index = j\n",
    "        arr[i], arr[min_index] = arr[min_index], arr[i]\n",
    "\n",
    "    return arr\n",
    "numbers = [5, 2, 9, 1]\n",
    "print(selection_sort(numbers))        "
   ]
  },
  {
   "cell_type": "code",
   "execution_count": 7,
   "id": "1e85ed66-2fa5-4948-83ba-488b1d2ecccd",
   "metadata": {},
   "outputs": [
    {
     "name": "stdout",
     "output_type": "stream",
     "text": [
      "[1, 2, 5, 9]\n"
     ]
    }
   ],
   "source": [
    "#see adjacent number and swap them \n",
    "def bubble_sort(arr):\n",
    "    n = len(arr)\n",
    "    for i in range(n-1):\n",
    "        swapped = False\n",
    "        for j in range(n - i - 1):\n",
    "            if arr[j] > arr[j+1]:\n",
    "                arr[j] , arr[j+1] = arr[j+1], arr[j]\n",
    "                swapped = True\n",
    "        if not swapped:\n",
    "            break\n",
    "    return arr\n",
    "\n",
    "numbers = [5, 2, 9, 1]\n",
    "print(bubble_sort(numbers))"
   ]
  },
  {
   "cell_type": "code",
   "execution_count": 5,
   "id": "ce3c36e4-26f1-4aed-9048-8af70024b1ad",
   "metadata": {},
   "outputs": [
    {
     "name": "stdout",
     "output_type": "stream",
     "text": [
      "[1, 2, 5, 9]\n"
     ]
    }
   ],
   "source": [
    "#sees the next element and insert them into its correct poisiton\n",
    "def insertion_sort(arr):\n",
    "    n = len(arr)\n",
    "    for i in range(0, n):\n",
    "        key = arr[i]\n",
    "        j = i-1\n",
    "        while j >= 0 and arr[j] > key:\n",
    "            arr[j+1] = arr[j]\n",
    "            j-=1\n",
    "        arr[j+1] = key\n",
    "\n",
    "    return arr\n",
    "\n",
    "numbers = [5, 2, 9, 1]\n",
    "print(insertion_sort(numbers))"
   ]
  },
  {
   "cell_type": "code",
   "execution_count": 12,
   "id": "c318fe70-97f8-44ef-a5f0-eb12ecff4cea",
   "metadata": {},
   "outputs": [
    {
     "name": "stdout",
     "output_type": "stream",
     "text": [
      "2\n"
     ]
    }
   ],
   "source": [
    "#find the mid element and if target == mid else if mid > target check for left or check for right \n",
    "def binary_search(arr, target):\n",
    "    low = 0\n",
    "    high = len(arr) - 1\n",
    "    while low <= high:\n",
    "        mid = (low+high) //2\n",
    "        if arr[mid] == target:\n",
    "            return mid\n",
    "        elif arr[mid] > target:\n",
    "            high = mid -1\n",
    "        else:\n",
    "            low = mid + 1\n",
    "\n",
    "    return arr\n",
    "\n",
    "numbers = [5, 2, 9, 1]\n",
    "target = 9\n",
    "print(binary_search(numbers, target))"
   ]
  },
  {
   "cell_type": "code",
   "execution_count": 14,
   "id": "cde46a45-46f3-4f42-a020-7d1a3c3607db",
   "metadata": {},
   "outputs": [
    {
     "name": "stdout",
     "output_type": "stream",
     "text": [
      "(2, 3)\n"
     ]
    }
   ],
   "source": [
    "def target_sum(arr, target):\n",
    "    n = len(arr)\n",
    "    for i in range(n):\n",
    "        for j in range(i+1, n):\n",
    "            if arr[i] + arr[j] == target:\n",
    "                return i, j\n",
    "\n",
    "    return None\n",
    "\n",
    "numbers = [5, 2, 9, 1]\n",
    "target = 10\n",
    "print(target_sum(numbers, target))"
   ]
  },
  {
   "cell_type": "code",
   "execution_count": 4,
   "id": "52370f65-dae2-45d6-a45c-cae4ae346ed1",
   "metadata": {},
   "outputs": [
    {
     "name": "stdout",
     "output_type": "stream",
     "text": [
      "[1, 2, 3, 4, 7]\n",
      "[8, 9, 10]\n"
     ]
    }
   ],
   "source": [
    "def insertion_sort(arr):\n",
    "    for i in range(1, len(arr)):\n",
    "        key = arr[i]\n",
    "        j = i-1\n",
    "        while j >= 0 and arr[j] > key:\n",
    "            arr[j+1] = arr[j]\n",
    "            j-=1\n",
    "        arr[j+1] = key\n",
    "\n",
    "def merge(arr1, arr2):\n",
    "    n1 = len(arr1)\n",
    "    n2 = len(arr2)\n",
    "    for i in range(n1):\n",
    "        if arr1[i] > arr2[0]:\n",
    "            arr1[i], arr2[0] = arr2[0], arr1[i]\n",
    "            insertion_sort(arr2)\n",
    "\n",
    "    return arr1, arr2\n",
    "\n",
    "arr1 = [1, 4, 7, 8, 10]\n",
    "arr2 = [2, 3, 9]\n",
    "arr1, arr2 = merge(arr1, arr2)\n",
    "print(arr1)\n",
    "print(arr2)"
   ]
  },
  {
   "cell_type": "code",
   "execution_count": 12,
   "id": "d654fd58-4cd3-4c7e-aa93-7d29942941ca",
   "metadata": {},
   "outputs": [
    {
     "name": "stdout",
     "output_type": "stream",
     "text": [
      "[5, 6, 7, 1, 2, 3, 4]\n"
     ]
    }
   ],
   "source": [
    "def reverse(arr, start, end):\n",
    "    while start < end:\n",
    "        arr[start], arr[end] = arr[end], arr[start]\n",
    "        start +=1\n",
    "        end-=1\n",
    "\n",
    "\n",
    "def rotate(arr,k):\n",
    "    n = len(arr)\n",
    "    k = k % n\n",
    "    reverse(arr, 0, n-1)\n",
    "\n",
    "    reverse(arr, 0, k-1)\n",
    "    reverse(arr, k, n-1)\n",
    "    return arr\n",
    "arr = [1, 2, 3, 4, 5, 6, 7]\n",
    "k = 3\n",
    "print(rotate(arr, k))\n"
   ]
  },
  {
   "cell_type": "code",
   "execution_count": 1,
   "id": "af00babc-01d7-4af8-b235-990c26ae49cf",
   "metadata": {},
   "outputs": [
    {
     "name": "stdout",
     "output_type": "stream",
     "text": [
      "4\n",
      "-1\n"
     ]
    }
   ],
   "source": [
    "def search_rotated(arr, target):\n",
    "    left, right = 0, len(arr) - 1\n",
    "    while left <= right:\n",
    "        mid = (left + right) //2\n",
    "        if arr[mid] == target:\n",
    "            return mid\n",
    "\n",
    "        if arr[left] <= arr[mid]:\n",
    "            if arr[left] <= target < arr[right]:\n",
    "                right = mid -1\n",
    "            else:\n",
    "                left = mid +1\n",
    "        else:\n",
    "            if arr[mid] < target <= arr[right]:\n",
    "                left = mid +1 \n",
    "            else:\n",
    "                left = mid -1\n",
    "\n",
    "    return -1\n",
    "\n",
    "arr = [4, 5, 6, 7, 0, 1, 2]\n",
    "print(search_rotated(arr, 0))  # Output: 4\n",
    "print(search_rotated(arr, 3))"
   ]
  },
  {
   "cell_type": "code",
   "execution_count": null,
   "id": "80a8e41c-a1e7-4480-ba87-cb53288d2ccd",
   "metadata": {},
   "outputs": [],
   "source": []
  },
  {
   "cell_type": "code",
   "execution_count": null,
   "id": "1651441c-63d9-4878-832f-a9144fe1f613",
   "metadata": {},
   "outputs": [],
   "source": []
  }
 ],
 "metadata": {
  "kernelspec": {
   "display_name": "Python 3 (ipykernel)",
   "language": "python",
   "name": "python3"
  },
  "language_info": {
   "codemirror_mode": {
    "name": "ipython",
    "version": 3
   },
   "file_extension": ".py",
   "mimetype": "text/x-python",
   "name": "python",
   "nbconvert_exporter": "python",
   "pygments_lexer": "ipython3",
   "version": "3.12.2"
  }
 },
 "nbformat": 4,
 "nbformat_minor": 5
}

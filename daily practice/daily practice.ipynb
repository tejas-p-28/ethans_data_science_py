{
 "cells": [
  {
   "cell_type": "code",
   "execution_count": 6,
   "id": "7adc4831-e98c-4e67-a6e1-4b930f7c4a83",
   "metadata": {},
   "outputs": [
    {
     "name": "stdout",
     "output_type": "stream",
     "text": [
      "Before function call\n",
      "Hello!\n",
      "After function call\n"
     ]
    }
   ],
   "source": [
    "def decorator(func):\n",
    "    def wrapper():\n",
    "        print(\"Before function call\")\n",
    "        func()\n",
    "        print(\"After function call\")\n",
    "    return wrapper\n",
    "\n",
    "@decorator\n",
    "def say_hello():\n",
    "    print(\"Hello!\")\n",
    "\n",
    "say_hello()"
   ]
  },
  {
   "cell_type": "code",
   "execution_count": 1,
   "id": "49f6e472-34ee-43d8-812a-d1806743b637",
   "metadata": {},
   "outputs": [
    {
     "name": "stdout",
     "output_type": "stream",
     "text": [
      "10\n",
      "5\n"
     ]
    }
   ],
   "source": [
    "#swapping with using 3 rd variable\n",
    "a = 10\n",
    "b = 5\n",
    "a ,b = b,a \n",
    "print(b)\n",
    "print(a)"
   ]
  },
  {
   "cell_type": "code",
   "execution_count": 16,
   "id": "6c4ec0b5-e595-4d28-813a-aa23de628943",
   "metadata": {},
   "outputs": [
    {
     "name": "stdin",
     "output_type": "stream",
     "text": [
      " 5\n"
     ]
    },
    {
     "name": "stdout",
     "output_type": "stream",
     "text": [
      "120\n"
     ]
    }
   ],
   "source": [
    "num = int(input())\n",
    "factorial = 1\n",
    "for i in range(1, num + 1):\n",
    "    factorial *= i\n",
    "print(factorial)\n",
    "# num = int(input(\"Enter a number: \"))\n",
    "# factorial = 1\n",
    "# for i in range(1, num + 1):\n",
    "#     factorial *= i\n",
    "# print(\"Factorial:\", factorial)"
   ]
  },
  {
   "cell_type": "code",
   "execution_count": 18,
   "id": "e4b3b723-f1e8-4d52-bb8f-90a811e9bdd2",
   "metadata": {},
   "outputs": [
    {
     "name": "stdin",
     "output_type": "stream",
     "text": [
      " abc\n"
     ]
    },
    {
     "name": "stdout",
     "output_type": "stream",
     "text": [
      "not\n"
     ]
    }
   ],
   "source": [
    "s = input()\n",
    "if s == s[::-1]:\n",
    "    print('palindrome')\n",
    "\n",
    "else : \n",
    "    print('not')"
   ]
  },
  {
   "cell_type": "code",
   "execution_count": 19,
   "id": "1927e073-f61f-4e1e-bc74-01643dd653fc",
   "metadata": {},
   "outputs": [
    {
     "name": "stdout",
     "output_type": "stream",
     "text": [
      "[1, 2, 3, 4, 5, 6, 7, 8, 9, 10]\n"
     ]
    }
   ],
   "source": [
    "num = list(range(1, 11))\n",
    "print(num)"
   ]
  },
  {
   "cell_type": "code",
   "execution_count": 20,
   "id": "8e23bfb2-0f53-4770-b228-2321a19113c2",
   "metadata": {},
   "outputs": [
    {
     "name": "stdout",
     "output_type": "stream",
     "text": [
      "6\n"
     ]
    }
   ],
   "source": [
    "num = 1,2,3,4,5,6\n",
    "print(max(num))"
   ]
  },
  {
   "cell_type": "code",
   "execution_count": 24,
   "id": "4f8a2bb9-2a52-44ab-a1ce-899544096de2",
   "metadata": {},
   "outputs": [
    {
     "name": "stdin",
     "output_type": "stream",
     "text": [
      " adf\n"
     ]
    },
    {
     "name": "stdout",
     "output_type": "stream",
     "text": [
      "1\n"
     ]
    }
   ],
   "source": [
    "str1 = 'aeiouAEIOU'\n",
    "char = input()\n",
    "count = 0\n",
    "for i in char:\n",
    "    if i in str1:\n",
    "        count+=1\n",
    "print(count)\n",
    "        "
   ]
  },
  {
   "cell_type": "code",
   "execution_count": 6,
   "id": "d4c409a7-6d2f-4056-8fe4-6ea92e65d0b8",
   "metadata": {},
   "outputs": [
    {
     "name": "stdin",
     "output_type": "stream",
     "text": [
      " 7\n"
     ]
    },
    {
     "name": "stdout",
     "output_type": "stream",
     "text": [
      "7\n",
      "14\n",
      "21\n",
      "28\n",
      "35\n",
      "42\n",
      "49\n",
      "56\n",
      "63\n",
      "70\n"
     ]
    }
   ],
   "source": [
    "num = int(input())\n",
    "for i in range(1, 11):\n",
    "    num *i \n",
    "    print(num*i)"
   ]
  },
  {
   "cell_type": "code",
   "execution_count": 1,
   "id": "706b0fa5-f68f-4f6a-bb68-c90f9fc3cdb3",
   "metadata": {},
   "outputs": [
    {
     "name": "stdin",
     "output_type": "stream",
     "text": [
      " th4\n"
     ]
    },
    {
     "name": "stdout",
     "output_type": "stream",
     "text": [
      "yes 2\n"
     ]
    }
   ],
   "source": [
    "s = input()\n",
    "num = '1234567890'\n",
    "for index,i in enumerate(s):\n",
    "    if i in num :\n",
    "        print('yes', index)\n",
    "        \n",
    "        break\n",
    "else: \n",
    "    print('no')"
   ]
  },
  {
   "cell_type": "code",
   "execution_count": 3,
   "id": "b1970f0b-1f37-461c-8169-848e811e4db3",
   "metadata": {},
   "outputs": [
    {
     "name": "stdin",
     "output_type": "stream",
     "text": [
      " 5\n"
     ]
    },
    {
     "name": "stdout",
     "output_type": "stream",
     "text": [
      "0 1 1 2 3 "
     ]
    }
   ],
   "source": [
    "n = int(input())\n",
    "a , b = 0,1\n",
    "for i in range(n):\n",
    "    print(a, end=' ')\n",
    "    a, b = b , a+b"
   ]
  },
  {
   "cell_type": "code",
   "execution_count": 11,
   "id": "6d50399a-a40b-4122-9233-e274bcb2003e",
   "metadata": {},
   "outputs": [
    {
     "name": "stdin",
     "output_type": "stream",
     "text": [
      " 45\n"
     ]
    },
    {
     "name": "stdout",
     "output_type": "stream",
     "text": [
      "not\n"
     ]
    }
   ],
   "source": [
    "n = int(input())\n",
    "if n > 1:\n",
    "    for i in range(2, int(n **0.5)+1):\n",
    "        if n % i == 0:\n",
    "            print('not')\n",
    "            break\n",
    "    else:\n",
    "        print('prime')\n",
    "\n",
    "else:\n",
    "    print('not a ')"
   ]
  },
  {
   "cell_type": "code",
   "execution_count": 19,
   "id": "b7f88c7b-817a-4523-a330-769d65668f19",
   "metadata": {},
   "outputs": [
    {
     "name": "stdin",
     "output_type": "stream",
     "text": [
      " 67\n"
     ]
    },
    {
     "name": "stdout",
     "output_type": "stream",
     "text": [
      "6\n",
      "7\n",
      "13\n"
     ]
    }
   ],
   "source": [
    "num = int(input())\n",
    "n = 0\n",
    "for i in str(num):\n",
    "    n +=int(i)\n",
    "print(n)"
   ]
  },
  {
   "cell_type": "code",
   "execution_count": 23,
   "id": "037e1ac3-a6bc-4d04-aa3f-fb10e1467268",
   "metadata": {},
   "outputs": [
    {
     "name": "stdin",
     "output_type": "stream",
     "text": [
      " fdsh d\n"
     ]
    },
    {
     "name": "stdout",
     "output_type": "stream",
     "text": [
      "2\n"
     ]
    }
   ],
   "source": [
    "str1 = input()\n",
    "words = len(str1.split())\n",
    "print(words)"
   ]
  },
  {
   "cell_type": "code",
   "execution_count": 6,
   "id": "e57a239f-89fd-4dc3-9353-dcacb3356faf",
   "metadata": {},
   "outputs": [
    {
     "name": "stdin",
     "output_type": "stream",
     "text": [
      " 17\n"
     ]
    },
    {
     "name": "stdout",
     "output_type": "stream",
     "text": [
      "prime\n"
     ]
    }
   ],
   "source": [
    "num = int(input())\n",
    "if num >1:\n",
    "    for i in range(2, int(num**0.5)+1):\n",
    "        if num%i == 0:\n",
    "            print('not')\n",
    "            break\n",
    "    else:\n",
    "        print('prime')\n",
    "else:\n",
    "    print('not')"
   ]
  },
  {
   "cell_type": "code",
   "execution_count": 12,
   "id": "b11b8478-5ae6-4848-8b97-34f60a1169bc",
   "metadata": {},
   "outputs": [
    {
     "name": "stdin",
     "output_type": "stream",
     "text": [
      " 5 6 7\n"
     ]
    },
    {
     "name": "stdout",
     "output_type": "stream",
     "text": [
      "6\n"
     ]
    }
   ],
   "source": [
    "n = list(input())\n",
    "n = list(set(n))\n",
    "n.sort(reverse = True)\n",
    "if len(n)>1:\n",
    "    print(n[1])\n",
    "else:\n",
    "    print('not')"
   ]
  },
  {
   "cell_type": "code",
   "execution_count": 6,
   "id": "be73e41d-34c2-41f6-b7db-4957ee88eb85",
   "metadata": {},
   "outputs": [
    {
     "name": "stdout",
     "output_type": "stream",
     "text": [
      "50\n"
     ]
    }
   ],
   "source": [
    "mylist = [10,40,30,50,70]\n",
    "largest = mylist[0]\n",
    "second_largest = None\n",
    "for i in mylist:\n",
    "    if i > largest:\n",
    "        second_largest = largest\n",
    "        largest = i\n",
    "    elif second_largest is None or i > second_largest:\n",
    "        if i != largest:\n",
    "            second_largest = i\n",
    "\n",
    "if second_largest is not None:\n",
    "    print(second_largest)\n",
    "\n",
    "else:\n",
    "    print('no')\n",
    "    "
   ]
  },
  {
   "cell_type": "code",
   "execution_count": 9,
   "id": "5ee81411-3ba2-4299-8fe1-4af270ddc9a0",
   "metadata": {},
   "outputs": [
    {
     "name": "stdin",
     "output_type": "stream",
     "text": [
      " tth\n"
     ]
    },
    {
     "name": "stdout",
     "output_type": "stream",
     "text": [
      "t 2\n",
      "h 1\n"
     ]
    }
   ],
   "source": [
    "s = input()\n",
    "frequency = {}\n",
    "for char in s :\n",
    "    if char in frequency:\n",
    "        frequency[char] += 1\n",
    "    else:\n",
    "        frequency[char] = 1\n",
    "for char ,count in frequency.items():\n",
    "    print(f'{char}', count)"
   ]
  },
  {
   "cell_type": "code",
   "execution_count": 12,
   "id": "702a4e09-d92a-426a-b42e-bf48f55cc8f4",
   "metadata": {},
   "outputs": [
    {
     "name": "stdin",
     "output_type": "stream",
     "text": [
      " 3\n"
     ]
    },
    {
     "name": "stdout",
     "output_type": "stream",
     "text": [
      "6\n"
     ]
    }
   ],
   "source": [
    "s = int(input())\n",
    "factorial = 1\n",
    "for i in range(2, s+1):\n",
    "    factorial *= i \n",
    "print(factorial)"
   ]
  },
  {
   "cell_type": "code",
   "execution_count": 13,
   "id": "b6843f5a-03db-4c18-bb50-76b1105ed137",
   "metadata": {},
   "outputs": [
    {
     "name": "stdin",
     "output_type": "stream",
     "text": [
      " the\n"
     ]
    },
    {
     "name": "stdout",
     "output_type": "stream",
     "text": [
      "['t', 'h', 'e']\n"
     ]
    }
   ],
   "source": [
    "str1 = input()\n",
    "s = list(str1)\n",
    "print(s)"
   ]
  },
  {
   "cell_type": "code",
   "execution_count": 14,
   "id": "bf95d5d5-5347-46a1-8a04-aeac9bee5eb8",
   "metadata": {},
   "outputs": [
    {
     "name": "stdin",
     "output_type": "stream",
     "text": [
      " the\n",
      " eht\n"
     ]
    },
    {
     "name": "stdout",
     "output_type": "stream",
     "text": [
      "anagram\n"
     ]
    }
   ],
   "source": [
    "str1 = input()\n",
    "str2 = input()\n",
    "def sort_string(s):\n",
    "    s = list(s)\n",
    "    for i in range(len(s)):\n",
    "        for j in range(i+1, len(s)):\n",
    "            if s[i] > s[j]:\n",
    "                s[i], s[j] = s[j], s[i]\n",
    "    return ''.join(s)\n",
    "\n",
    "if sort_string(str1) == sort_string(str2):\n",
    "    print('anagram')\n",
    "\n"
   ]
  },
  {
   "cell_type": "code",
   "execution_count": 17,
   "id": "21eb905f-4ebe-4d83-95d2-c368350d89b7",
   "metadata": {},
   "outputs": [
    {
     "name": "stdin",
     "output_type": "stream",
     "text": [
      " 3\n",
      " 3\n"
     ]
    },
    {
     "name": "stdout",
     "output_type": "stream",
     "text": [
      "27\n"
     ]
    }
   ],
   "source": [
    "base = int(input())\n",
    "exponent = int(input())\n",
    "result = 1\n",
    "for i in range(exponent):\n",
    "    result *= base\n",
    "\n",
    "print(result)"
   ]
  },
  {
   "cell_type": "code",
   "execution_count": 1,
   "id": "d56b4f3e-30b0-4469-855b-e820b6770a31",
   "metadata": {},
   "outputs": [
    {
     "name": "stdin",
     "output_type": "stream",
     "text": [
      " 4\n"
     ]
    },
    {
     "name": "stdout",
     "output_type": "stream",
     "text": [
      "1\n",
      "2\n",
      "4\n"
     ]
    }
   ],
   "source": [
    "num = int(input())\n",
    "for i in range(1, num+1):\n",
    "    if num%i == 0:\n",
    "        print(i)"
   ]
  },
  {
   "cell_type": "code",
   "execution_count": 3,
   "id": "6a92cab0-3326-4602-b70a-f7b8ceb39cc7",
   "metadata": {},
   "outputs": [
    {
     "name": "stdin",
     "output_type": "stream",
     "text": [
      " shuhs\n"
     ]
    },
    {
     "name": "stdout",
     "output_type": "stream",
     "text": [
      "palindrome\n"
     ]
    }
   ],
   "source": [
    "s = input()\n",
    "is_palindrome = True\n",
    "for i in range(len(s)//2):\n",
    "    if s[i] != s[len(s) - 1 - i]:\n",
    "        is_palindrome = False\n",
    "        break\n",
    "if is_palindrome:\n",
    "    print('palindrome')\n",
    "\n",
    "else:\n",
    "    print('not')"
   ]
  },
  {
   "cell_type": "code",
   "execution_count": 5,
   "id": "f804e23a-7cac-4a92-b487-89a85b3466b0",
   "metadata": {},
   "outputs": [
    {
     "name": "stdin",
     "output_type": "stream",
     "text": [
      " 5\n"
     ]
    },
    {
     "name": "stdout",
     "output_type": "stream",
     "text": [
      "0 1 1 2 3 "
     ]
    }
   ],
   "source": [
    "n = int(input())\n",
    "a,b = 0,1\n",
    "for i in range(n):\n",
    "    print(a, end=' ')\n",
    "    next_num = a+b\n",
    "    a = b\n",
    "    b = next_num"
   ]
  },
  {
   "cell_type": "code",
   "execution_count": 7,
   "id": "28308703-d1d8-4008-a667-2e69757772b6",
   "metadata": {},
   "outputs": [
    {
     "name": "stdout",
     "output_type": "stream",
     "text": [
      "67\n",
      "10\n"
     ]
    }
   ],
   "source": [
    "number = [10,20,45,25,67]\n",
    "largest = number[0]\n",
    "smallest = number[0]\n",
    "for num in number:\n",
    "    if num > largest:\n",
    "        largest = num\n",
    "    elif num < smallest:\n",
    "        smallest = num\n",
    "print(largest)\n",
    "print(smallest)"
   ]
  },
  {
   "cell_type": "code",
   "execution_count": 4,
   "id": "71030bd8-cfe9-455b-a418-d5551124980e",
   "metadata": {},
   "outputs": [
    {
     "name": "stdin",
     "output_type": "stream",
     "text": [
      " the\n"
     ]
    },
    {
     "name": "stdout",
     "output_type": "stream",
     "text": [
      "2\n",
      "1\n"
     ]
    }
   ],
   "source": [
    "n = input()\n",
    "vowel = 'aeiouAEIOU'\n",
    "vowel_count = 0\n",
    "consonant_count = 0\n",
    "for char in n:\n",
    "    if char in vowel:\n",
    "        \n",
    "        vowel_count += 1\n",
    "    else :\n",
    "        \n",
    "        consonant_count += 1\n",
    "\n",
    "print(consonant_count)\n",
    "print(vowel_count)"
   ]
  },
  {
   "cell_type": "code",
   "execution_count": 8,
   "id": "95fddbc3-8682-4722-a6d8-74c2eba58815",
   "metadata": {},
   "outputs": [
    {
     "name": "stdin",
     "output_type": "stream",
     "text": [
      " 12\n",
      " 2\n"
     ]
    },
    {
     "name": "stdout",
     "output_type": "stream",
     "text": [
      "2\n"
     ]
    }
   ],
   "source": [
    "a = int(input())\n",
    "b = int(input())\n",
    "while b!=0:\n",
    "    remainder = a % b\n",
    "    a = b \n",
    "    b = remainder\n",
    "print(a)"
   ]
  },
  {
   "cell_type": "code",
   "execution_count": 17,
   "id": "f3872d17-93b0-47f5-b0c1-fe6f9fa0bd93",
   "metadata": {},
   "outputs": [
    {
     "name": "stdin",
     "output_type": "stream",
     "text": [
      " the is \n"
     ]
    },
    {
     "name": "stdout",
     "output_type": "stream",
     "text": [
      "2\n"
     ]
    }
   ],
   "source": [
    "sent = input().rstrip()\n",
    "word_count = 1\n",
    "for char in sent:\n",
    "    if char == ' ':\n",
    "        word_count += 1\n",
    "\n",
    "print(word_count)"
   ]
  },
  {
   "cell_type": "code",
   "execution_count": 22,
   "id": "af3f4989-d3cb-489d-b631-492f40b53e8b",
   "metadata": {},
   "outputs": [
    {
     "name": "stdin",
     "output_type": "stream",
     "text": [
      " 123\n"
     ]
    },
    {
     "name": "stdout",
     "output_type": "stream",
     "text": [
      "321\n"
     ]
    }
   ],
   "source": [
    "s = int(input())\n",
    "reversed_num = 0\n",
    "while s > 0 :\n",
    "    digit = s % 10\n",
    "    reversed_num = reversed_num * 10 + digit \n",
    "    s //= 10\n",
    "print(reversed_num)"
   ]
  },
  {
   "cell_type": "code",
   "execution_count": 24,
   "id": "64d98df2-c6d4-4d79-962d-d645621b6832",
   "metadata": {},
   "outputs": [
    {
     "name": "stdin",
     "output_type": "stream",
     "text": [
      " 12\n"
     ]
    },
    {
     "name": "stdout",
     "output_type": "stream",
     "text": [
      "not\n"
     ]
    }
   ],
   "source": [
    "num = int(input())\n",
    "is_prime = True\n",
    "if num < 2:\n",
    "    is_prime = False\n",
    "else:\n",
    "    if num % 2 == 0:\n",
    "        is_prime = False\n",
    "\n",
    "if is_prime:\n",
    "    print('prime')\n",
    "else:\n",
    "    print('not')"
   ]
  },
  {
   "cell_type": "code",
   "execution_count": 31,
   "id": "d15cf8ec-87f9-491b-a55e-2cf2553fe6d5",
   "metadata": {},
   "outputs": [
    {
     "name": "stdin",
     "output_type": "stream",
     "text": [
      " 3\n"
     ]
    },
    {
     "name": "stdout",
     "output_type": "stream",
     "text": [
      "6\n"
     ]
    }
   ],
   "source": [
    "num = int(input())\n",
    "factorial = 1\n",
    "for i in range(1, num+1):\n",
    "    factorial *= i\n",
    "    \n",
    "\n",
    "print(factorial)"
   ]
  },
  {
   "cell_type": "code",
   "execution_count": 39,
   "id": "68030355-470e-4440-a0c3-2ab153f8515d",
   "metadata": {},
   "outputs": [
    {
     "name": "stdout",
     "output_type": "stream",
     "text": [
      "67\n",
      "56\n"
     ]
    }
   ],
   "source": [
    "numbers = [15, 42, 8, 23, 56, 67]\n",
    "largest = numbers[0]\n",
    "second = numbers[0]\n",
    "for num in numbers:\n",
    "    if num > largest:\n",
    "        second = largest\n",
    "        largest = num\n",
    "\n",
    "    elif num > second :\n",
    "        second = num\n",
    "\n",
    "print(largest)\n",
    "print(second)"
   ]
  },
  {
   "cell_type": "code",
   "execution_count": 41,
   "id": "25a2f7ce-5003-461f-ace9-a665466ea9f1",
   "metadata": {},
   "outputs": [
    {
     "name": "stdin",
     "output_type": "stream",
     "text": [
      "Enter the main string:  their\n",
      "Enter the substring:  eth\n"
     ]
    },
    {
     "name": "stdout",
     "output_type": "stream",
     "text": [
      "The substring is not present.\n"
     ]
    }
   ],
   "source": [
    "string = input(\"Enter the main string: \")\n",
    "substring = input(\"Enter the substring: \")\n",
    "\n",
    "is_substring = False\n",
    "\n",
    "for i in range(len(string) - len(substring) + 1):\n",
    "    match = True\n",
    "    for j in range(len(substring)):\n",
    "        if string[i + j] != substring[j]:\n",
    "            match = False\n",
    "            break\n",
    "    if match:\n",
    "        is_substring = True\n",
    "        break\n",
    "\n",
    "if is_substring:\n",
    "    print(\"The substring is present.\")\n",
    "else:\n",
    "    print(\"The substring is not present.\")\n"
   ]
  },
  {
   "cell_type": "code",
   "execution_count": 45,
   "id": "69e8874a-8cca-4a0f-93f1-d7cbe6e2ce38",
   "metadata": {},
   "outputs": [
    {
     "name": "stdin",
     "output_type": "stream",
     "text": [
      " the\n",
      " eth\n"
     ]
    },
    {
     "name": "stdout",
     "output_type": "stream",
     "text": [
      "not\n"
     ]
    }
   ],
   "source": [
    "string = input()\n",
    "substring = input()\n",
    "is_substring = False\n",
    "\n",
    "for i in range(len(string) - len(substring)+1):\n",
    "    match = True\n",
    "    for j in range(len(substring)):\n",
    "        if string[i+j] != substring[j]:\n",
    "            match = False\n",
    "            break\n",
    "    if match:\n",
    "        is_substring = True\n",
    "        break\n",
    "\n",
    "if is_substring :\n",
    "    print('present')\n",
    "\n",
    "else:\n",
    "    print('not')\n",
    "    "
   ]
  },
  {
   "cell_type": "code",
   "execution_count": 46,
   "id": "7e965ddf-fa48-4297-a01f-958e98cf9994",
   "metadata": {},
   "outputs": [
    {
     "name": "stdin",
     "output_type": "stream",
     "text": [
      "Enter the first number:  4\n",
      "Enter the second number:  0\n"
     ]
    },
    {
     "name": "stdout",
     "output_type": "stream",
     "text": [
      "HCF is: 4\n"
     ]
    }
   ],
   "source": [
    "a = int(input(\"Enter the first number: \"))\n",
    "b = int(input(\"Enter the second number: \"))\n",
    "\n",
    "while b != 0:\n",
    "    remainder = a % b\n",
    "    a = b\n",
    "    b = remainder\n",
    "\n",
    "print(\"HCF is:\", a)\n"
   ]
  },
  {
   "cell_type": "code",
   "execution_count": 3,
   "id": "7eed4550-7733-4a85-8c55-26843e61e510",
   "metadata": {},
   "outputs": [
    {
     "name": "stdin",
     "output_type": "stream",
     "text": [
      " 5\n"
     ]
    },
    {
     "name": "stdout",
     "output_type": "stream",
     "text": [
      "1\n",
      "1  1\n",
      "1  2  1\n",
      "1  3  3  1\n",
      "1  4  6  4  1\n"
     ]
    }
   ],
   "source": [
    "num = int(input())\n",
    "for i in range(num):\n",
    "    row = [1]\n",
    "    for j in range(1, i+1):\n",
    "        row.append(row[j-1] * (i - j + 1)// j)\n",
    "\n",
    "    print(' '.join(map(str, row)))\n",
    "        \n",
    "    "
   ]
  },
  {
   "cell_type": "code",
   "execution_count": 4,
   "id": "b9e952a3-091e-44d5-b6f4-4c718e17b774",
   "metadata": {},
   "outputs": [
    {
     "name": "stdin",
     "output_type": "stream",
     "text": [
      " thhee\n"
     ]
    },
    {
     "name": "stdout",
     "output_type": "stream",
     "text": [
      "the\n"
     ]
    }
   ],
   "source": [
    "str1 = input()\n",
    "result = ''\n",
    "for char in str1:\n",
    "    if char not in result:\n",
    "        result += char\n",
    "\n",
    "print(result)"
   ]
  },
  {
   "cell_type": "code",
   "execution_count": 2,
   "id": "849f51be-655b-4029-81fb-1ec291f6f34a",
   "metadata": {},
   "outputs": [
    {
     "name": "stdin",
     "output_type": "stream",
     "text": [
      " 3\n",
      " 3\n"
     ]
    },
    {
     "name": "stdout",
     "output_type": "stream",
     "text": [
      "27\n"
     ]
    }
   ],
   "source": [
    "base = int(input())\n",
    "exponent = int(input())\n",
    "result = 1\n",
    "for i in range(exponent):\n",
    "    result *= base\n",
    "\n",
    "print(result)\n"
   ]
  },
  {
   "cell_type": "code",
   "execution_count": 7,
   "id": "00dae550-b560-4d7e-81bd-7a1e477a11c3",
   "metadata": {},
   "outputs": [
    {
     "name": "stdin",
     "output_type": "stream",
     "text": [
      " qwertyuiopasdfghjklzxcvbnm\n"
     ]
    },
    {
     "name": "stdout",
     "output_type": "stream",
     "text": [
      "not\n"
     ]
    }
   ],
   "source": [
    "str1 = input().lower()\n",
    "anagram = 'qwertyuiopasdfghjklzxcvbnm'\n",
    "is_panagram = True\n",
    "for char in anagram:\n",
    "    if char not in str1:\n",
    "        is_anagram = False \n",
    "        break\n",
    "\n",
    "if is_anagram :\n",
    "    print('anagram')\n",
    "\n",
    "else:\n",
    "    print('not')"
   ]
  },
  {
   "cell_type": "code",
   "execution_count": 3,
   "id": "5b47eede-1d43-4011-874b-189e6a16325c",
   "metadata": {},
   "outputs": [
    {
     "name": "stdin",
     "output_type": "stream",
     "text": [
      "Enter the value of k:  5\n"
     ]
    },
    {
     "name": "stdout",
     "output_type": "stream",
     "text": [
      "The 5th largest element is 2.\n"
     ]
    }
   ],
   "source": [
    "arr = [3, 2, 1, 5, 6, 4]\n",
    "k = int(input(\"Enter the value of k: \"))\n",
    "\n",
    "for i in range(len(arr)):\n",
    "    for j in range(i + 1, len(arr)):\n",
    "        if arr[i] < arr[j]:\n",
    "            arr[i], arr[j] = arr[j], arr[i]\n",
    "\n",
    "print(f\"The {k}th largest element is {arr[k - 1]}.\")\n"
   ]
  },
  {
   "cell_type": "code",
   "execution_count": 2,
   "id": "120df092-93cd-4d98-a588-4a2a3a6441e9",
   "metadata": {},
   "outputs": [
    {
     "name": "stdin",
     "output_type": "stream",
     "text": [
      " 3\n"
     ]
    },
    {
     "name": "stdout",
     "output_type": "stream",
     "text": [
      "1\n",
      "2\n",
      "3\n",
      "5\n"
     ]
    }
   ],
   "source": [
    "n = int(input())\n",
    "a,b = 0,1\n",
    "for i in range(n+1):\n",
    "    num = a+b\n",
    "    a = b\n",
    "    b = num\n",
    "    print(num)"
   ]
  },
  {
   "cell_type": "code",
   "execution_count": 5,
   "id": "fa414766-701c-46c2-b74a-366b2deed01f",
   "metadata": {},
   "outputs": [
    {
     "name": "stdout",
     "output_type": "stream",
     "text": [
      "5\n"
     ]
    }
   ],
   "source": [
    "def F(n):\n",
    "    if n <= 1:\n",
    "        return n\n",
    "    else:\n",
    "        return F(n - 1) + F(n - 2)\n",
    "\n",
    "print(F(5))"
   ]
  },
  {
   "cell_type": "code",
   "execution_count": 12,
   "id": "bba3d385-267f-4950-b8af-6446ea511cb8",
   "metadata": {},
   "outputs": [
    {
     "name": "stdout",
     "output_type": "stream",
     "text": [
      "[2, 4, 5, 8, 9, 10]\n"
     ]
    }
   ],
   "source": [
    "my_array = [2,5,4,8,10,9]\n",
    "n = len(my_array)\n",
    "for i in range(n-1):\n",
    "    swapped = False\n",
    "    for j in range(n-i-1):\n",
    "        if my_array[j] > my_array[j+1]:\n",
    "            my_array[j], my_array[j+1] = my_array[j+1], my_array[j]\n",
    "            swapped = True\n",
    "\n",
    "    if not swapped:\n",
    "        break\n",
    "\n",
    "    print(my_array)"
   ]
  },
  {
   "cell_type": "code",
   "execution_count": 10,
   "id": "d7963068-544e-4c2a-866f-7b2e72bf624e",
   "metadata": {},
   "outputs": [
    {
     "name": "stdout",
     "output_type": "stream",
     "text": [
      "Sorted array: [3, 7, 9, 11, 12]\n"
     ]
    }
   ],
   "source": [
    "my_array = [7, 3, 9, 12, 11]\n",
    "\n",
    "n = len(my_array)\n",
    "for i in range(n-1):\n",
    "    swapped = False\n",
    "    for j in range(n-i-1):\n",
    "        if my_array[j] > my_array[j+1]:\n",
    "            my_array[j], my_array[j+1] = my_array[j+1], my_array[j]\n",
    "            swapped = True\n",
    "    if not swapped:\n",
    "        break\n",
    "\n",
    "print(\"Sorted array:\", my_array) \n",
    " \n",
    " \n",
    " \n"
   ]
  },
  {
   "cell_type": "code",
   "execution_count": 5,
   "id": "59ccec28-db77-4a71-9fe1-8149f8f1aa9e",
   "metadata": {},
   "outputs": [
    {
     "name": "stdin",
     "output_type": "stream",
     "text": [
      " 5\n"
     ]
    },
    {
     "name": "stdout",
     "output_type": "stream",
     "text": [
      "5\n"
     ]
    }
   ],
   "source": [
    "#user input\n",
    "class Solution:\n",
    "    def printNumber(self):\n",
    "        num = int(input())\n",
    "        return num\n",
    "\n",
    "c = Solution()\n",
    "print(c.printNumber())"
   ]
  },
  {
   "cell_type": "code",
   "execution_count": 7,
   "id": "295ee52e-08f0-47f1-80d8-a07d38b98c3c",
   "metadata": {},
   "outputs": [
    {
     "name": "stdin",
     "output_type": "stream",
     "text": [
      " 7\n"
     ]
    },
    {
     "name": "stdout",
     "output_type": "stream",
     "text": [
      "not\n"
     ]
    }
   ],
   "source": [
    "class Age:\n",
    "    def agefinder(self):\n",
    "        age = int(input())\n",
    "        if age > 18:\n",
    "            return 'adult'\n",
    "\n",
    "        else: \n",
    "            return 'not'\n",
    "\n",
    "a = Age()\n",
    "print(a.agefinder())"
   ]
  },
  {
   "cell_type": "code",
   "execution_count": 14,
   "id": "d5cc27e4-07db-467e-9df6-da590504623d",
   "metadata": {},
   "outputs": [
    {
     "name": "stdout",
     "output_type": "stream",
     "text": [
      "****\n",
      "****\n",
      "****\n",
      "****\n"
     ]
    }
   ],
   "source": [
    "\n",
    "for i in range(4):\n",
    "    for j in range(4):\n",
    "        print('*', end='')\n",
    "\n",
    "    print()"
   ]
  },
  {
   "cell_type": "code",
   "execution_count": 509,
   "id": "8312543b-2084-48ab-99e8-87f3f62e067c",
   "metadata": {},
   "outputs": [
    {
     "name": "stdout",
     "output_type": "stream",
     "text": [
      "*****\n",
      "*****\n",
      "*****\n",
      "*****\n",
      "*****\n"
     ]
    }
   ],
   "source": [
    "class Solution:\n",
    "    def printPattern(self, n):\n",
    "        for i in range(n):\n",
    "            for j in range(n):\n",
    "                print('*', end='')\n",
    "            print()\n",
    "\n",
    "    def printPattern2(self, n):\n",
    "        for i in range(1,n+1):\n",
    "            for j in range(i):\n",
    "                print('*', end='')\n",
    "\n",
    "            print()\n",
    "\n",
    "    def printPattern3(self, n):\n",
    "        num = 1\n",
    "        for i in range(1, n+1):\n",
    "            \n",
    "            for j in range(1, i+1):\n",
    "                print(j, end=' ')\n",
    "            print()\n",
    "\n",
    "    def printPattern4(self, n):\n",
    "        for i in range(1,n+1):\n",
    "            for j in range(i):\n",
    "                print(i, end='')\n",
    "            print()\n",
    "\n",
    "    def printPattern5(self, n):\n",
    "        for i in range(n):\n",
    "            for j in range(i, n-1):\n",
    "                print('*', end='')\n",
    "            print()\n",
    "\n",
    "    def printPattern6(self, n):\n",
    "        for i in range(n,0, -1):\n",
    "            for j in range(1, i+1):\n",
    "                print(j, end='')\n",
    "            print()\n",
    "\n",
    "    def printPattern7(self, n):\n",
    "        for i in range(1, n+1):\n",
    "            for k in range(n-i):\n",
    "                print(' ', end='')\n",
    "            for j in range(2*i-1):\n",
    "                print('*', end='')\n",
    "            print()\n",
    "\n",
    "    def printPattern8(self, n):\n",
    "        for i in range(n, 0, -1):\n",
    "            for k in range(n-i):\n",
    "                print(' ', end='')\n",
    "            for j in range(2*i-1):\n",
    "                print('*', end='')\n",
    "            print()\n",
    "\n",
    "    def printPattern9(self, n):\n",
    "        for i in range(1, n+1):\n",
    "            for k in range(n-i):\n",
    "                print(' ', end='')\n",
    "            for j in range(2*i-1):\n",
    "                print('*', end='')\n",
    "            print()\n",
    "        for l in range(n, 0, -1):\n",
    "            for m in range(n-l):\n",
    "                print(' ', end='')\n",
    "            for o in range(2*l-1):\n",
    "                print('*', end='')\n",
    "            print()\n",
    "\n",
    "    def printPattern10(self, n):\n",
    "        for i in range(n):\n",
    "            for j in range(i):\n",
    "                print('*', end='')\n",
    "            print()\n",
    "        for k in range(n, 0, -1):\n",
    "            for l in range(k):\n",
    "                print('*', end='')\n",
    "            print()\n",
    "\n",
    "c = Solution()\n",
    "c.printPattern(5)"
   ]
  },
  {
   "cell_type": "code",
   "execution_count": 510,
   "id": "2b51c0f1-bac8-4419-a621-5ac4d48a8f60",
   "metadata": {},
   "outputs": [
    {
     "name": "stdout",
     "output_type": "stream",
     "text": [
      "*\n",
      "**\n",
      "***\n",
      "****\n",
      "*****\n"
     ]
    }
   ],
   "source": [
    "c.printPattern2(5)"
   ]
  },
  {
   "cell_type": "code",
   "execution_count": 511,
   "id": "69152d1b-5e44-41f6-8d15-6f0bb5e04626",
   "metadata": {},
   "outputs": [
    {
     "name": "stdout",
     "output_type": "stream",
     "text": [
      "1 \n",
      "1 2 \n",
      "1 2 3 \n",
      "1 2 3 4 \n",
      "1 2 3 4 5 \n",
      "1 2 3 4 5 6 \n"
     ]
    }
   ],
   "source": [
    "c.printPattern3(6)"
   ]
  },
  {
   "cell_type": "code",
   "execution_count": 512,
   "id": "f99da18d-452e-458c-9a17-0d2624e9a79a",
   "metadata": {},
   "outputs": [
    {
     "name": "stdout",
     "output_type": "stream",
     "text": [
      "1\n",
      "22\n",
      "333\n",
      "4444\n",
      "55555\n"
     ]
    }
   ],
   "source": [
    "c.printPattern4(5)"
   ]
  },
  {
   "cell_type": "code",
   "execution_count": 513,
   "id": "72badea1-db85-463e-89be-b5bd7265cf91",
   "metadata": {},
   "outputs": [
    {
     "name": "stdout",
     "output_type": "stream",
     "text": [
      "****\n",
      "***\n",
      "**\n",
      "*\n",
      "\n"
     ]
    }
   ],
   "source": [
    "c.printPattern5(5)"
   ]
  },
  {
   "cell_type": "code",
   "execution_count": 514,
   "id": "45d0b898-152b-4b8f-bb3c-c8cc188fdcbe",
   "metadata": {},
   "outputs": [
    {
     "name": "stdout",
     "output_type": "stream",
     "text": [
      "12345\n",
      "1234\n",
      "123\n",
      "12\n",
      "1\n"
     ]
    }
   ],
   "source": [
    "c.printPattern6(5)"
   ]
  },
  {
   "cell_type": "code",
   "execution_count": 515,
   "id": "10398e77-33f2-460f-9f5c-5139d3bb17f1",
   "metadata": {},
   "outputs": [
    {
     "name": "stdout",
     "output_type": "stream",
     "text": [
      "    *\n",
      "   ***\n",
      "  *****\n",
      " *******\n",
      "*********\n"
     ]
    }
   ],
   "source": [
    "c.printPattern7(5)"
   ]
  },
  {
   "cell_type": "code",
   "execution_count": 516,
   "id": "7e94758b-7faf-432a-a041-16a0dfa9e71f",
   "metadata": {},
   "outputs": [
    {
     "name": "stdout",
     "output_type": "stream",
     "text": [
      "*********\n",
      " *******\n",
      "  *****\n",
      "   ***\n",
      "    *\n"
     ]
    }
   ],
   "source": [
    "c.printPattern8(5)"
   ]
  },
  {
   "cell_type": "code",
   "execution_count": 517,
   "id": "ed4b5703-1543-4336-94d7-22cfa890652d",
   "metadata": {},
   "outputs": [
    {
     "name": "stdout",
     "output_type": "stream",
     "text": [
      "    *\n",
      "   ***\n",
      "  *****\n",
      " *******\n",
      "*********\n",
      "*********\n",
      " *******\n",
      "  *****\n",
      "   ***\n",
      "    *\n"
     ]
    }
   ],
   "source": [
    "c.printPattern9(5)"
   ]
  },
  {
   "cell_type": "code",
   "execution_count": 518,
   "id": "c2fe543f-ca75-4880-8f58-d797c461c36b",
   "metadata": {},
   "outputs": [
    {
     "name": "stdout",
     "output_type": "stream",
     "text": [
      "\n",
      "*\n",
      "**\n",
      "***\n",
      "****\n",
      "*****\n",
      "****\n",
      "***\n",
      "**\n",
      "*\n"
     ]
    }
   ],
   "source": [
    "c.printPattern10(5)"
   ]
  },
  {
   "cell_type": "code",
   "execution_count": 2,
   "id": "209e1dcd-3ae5-49e5-b07a-a1ff75d67ecb",
   "metadata": {},
   "outputs": [
    {
     "name": "stdout",
     "output_type": "stream",
     "text": [
      "9\n",
      "8\n",
      "7\n",
      "7\n"
     ]
    }
   ],
   "source": [
    "'''if any loop consist of divide by certain number like say 10 then the time complexity will always be log base 10 (n)\n",
    "or if divided by 2 it will be log base 2(n)\n",
    "'''\n",
    "n = 7789\n",
    "while n > 0:\n",
    "    print(n % 10)\n",
    "    n//=10\n",
    "    "
   ]
  },
  {
   "cell_type": "code",
   "execution_count": 9,
   "id": "5d8f5691-aaea-4c1d-a34b-3f5b031ee3a7",
   "metadata": {},
   "outputs": [
    {
     "name": "stdout",
     "output_type": "stream",
     "text": [
      "9877\n"
     ]
    }
   ],
   "source": [
    "n = 7789\n",
    "reverse = 0\n",
    "while n > 0:\n",
    "    last = n%10\n",
    "    \n",
    "    reverse = (reverse *10) + last\n",
    "    n = n//10\n",
    "print(reverse)"
   ]
  },
  {
   "cell_type": "code",
   "execution_count": 21,
   "id": "5f864668-6673-4fb5-bc52-29e12d8b2f08",
   "metadata": {},
   "outputs": [
    {
     "name": "stdout",
     "output_type": "stream",
     "text": [
      "true\n"
     ]
    }
   ],
   "source": [
    "#palindrome\n",
    "n = 878\n",
    "reverse = 0\n",
    "temp = n\n",
    "while n >0:\n",
    "    last = n%10\n",
    "    reverse = reverse*10+last\n",
    "    n//=10\n",
    "if temp == reverse:\n",
    "    print('true')\n",
    "else:\n",
    "    print('flase')"
   ]
  },
  {
   "cell_type": "code",
   "execution_count": 4,
   "id": "f7f49850-548d-440e-b534-5dd2a333fede",
   "metadata": {},
   "outputs": [
    {
     "name": "stdout",
     "output_type": "stream",
     "text": [
      "arm\n"
     ]
    }
   ],
   "source": [
    "n = 1634\n",
    "sum1 = 0\n",
    "reverse = 0\n",
    "temp = n\n",
    "digit = len(str(n))\n",
    "while n > 0:\n",
    "    last = n%10\n",
    "    sum1 = sum1 + (last ** digit)\n",
    "    n //=10\n",
    "\n",
    "if temp == sum1:\n",
    "    print('arm')\n",
    "\n",
    "else:\n",
    "    print('not')\n",
    "    "
   ]
  },
  {
   "cell_type": "code",
   "execution_count": 5,
   "id": "da5f87c8-d7b0-4dd8-8481-17bd80be1212",
   "metadata": {},
   "outputs": [
    {
     "name": "stdout",
     "output_type": "stream",
     "text": [
      "1\n",
      "2\n",
      "3\n",
      "4\n",
      "6\n",
      "9\n",
      "12\n",
      "18\n",
      "36\n"
     ]
    }
   ],
   "source": [
    "n = 36\n",
    "for i in range(1, n+1):\n",
    "    if n%i == 0:\n",
    "        print(i)"
   ]
  },
  {
   "cell_type": "code",
   "execution_count": 7,
   "id": "4ce40f4b-c8ab-4b37-bfd1-547abd65d444",
   "metadata": {},
   "outputs": [
    {
     "name": "stdout",
     "output_type": "stream",
     "text": [
      "not\n"
     ]
    }
   ],
   "source": [
    "n = 6\n",
    "count = 0\n",
    "for i in range(1, n+1):\n",
    "    if n%i == 0:\n",
    "        count+=1\n",
    "\n",
    "if count == 2:\n",
    "    print('prime')\n",
    "\n",
    "else:\n",
    "    print('not')"
   ]
  },
  {
   "cell_type": "code",
   "execution_count": 11,
   "id": "f61fe054-9eb8-4beb-92ce-78dd6c5386b6",
   "metadata": {},
   "outputs": [
    {
     "name": "stdout",
     "output_type": "stream",
     "text": [
      "4\n"
     ]
    }
   ],
   "source": [
    "n1 = 12\n",
    "n2 = 16\n",
    "for i in range(1, min(n1,n2)+1):\n",
    "    if n1%i==0 and n2%i==0:\n",
    "        gcd = i\n",
    "    \n",
    "print(gcd)"
   ]
  },
  {
   "cell_type": "code",
   "execution_count": 16,
   "id": "bee7b358-916e-4335-998f-72c020f5c5de",
   "metadata": {},
   "outputs": [
    {
     "name": "stdout",
     "output_type": "stream",
     "text": [
      "20\n"
     ]
    }
   ],
   "source": [
    "a = 20\n",
    "b = 40\n",
    "while a > 0  and b > 0:\n",
    "    if a>b:\n",
    "        a = a%b\n",
    "    else :\n",
    "        b = b%a\n",
    "\n",
    "if a == 0:\n",
    "    print(b)\n",
    "else:\n",
    "    print(a)"
   ]
  },
  {
   "cell_type": "code",
   "execution_count": 18,
   "id": "1c013446-da08-4c87-8252-75409f02962a",
   "metadata": {},
   "outputs": [
    {
     "data": {
      "text/plain": [
       "321"
      ]
     },
     "execution_count": 18,
     "metadata": {},
     "output_type": "execute_result"
    }
   ],
   "source": [
    "class Solution(object):\n",
    "    def reverse(self, x):\n",
    "        reverse = 0\n",
    "        x = abs(x)\n",
    "        while x >= 1:\n",
    "            last = x %10\n",
    "            x//=10\n",
    "            reverse = reverse * 10 + last\n",
    "        return reverse\n",
    "\n",
    "s = Solution()\n",
    "s.reverse(123)"
   ]
  },
  {
   "cell_type": "code",
   "execution_count": null,
   "id": "0bdd3477-dd25-42d2-a0a7-07b83bc8ba1c",
   "metadata": {},
   "outputs": [],
   "source": []
  }
 ],
 "metadata": {
  "kernelspec": {
   "display_name": "Python 3 (ipykernel)",
   "language": "python",
   "name": "python3"
  },
  "language_info": {
   "codemirror_mode": {
    "name": "ipython",
    "version": 3
   },
   "file_extension": ".py",
   "mimetype": "text/x-python",
   "name": "python",
   "nbconvert_exporter": "python",
   "pygments_lexer": "ipython3",
   "version": "3.12.2"
  }
 },
 "nbformat": 4,
 "nbformat_minor": 5
}

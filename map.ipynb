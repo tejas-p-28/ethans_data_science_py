{
 "cells": [
  {
   "cell_type": "code",
   "execution_count": 1,
   "id": "67eb5aaf-0933-4f38-b105-4f145c4e1f17",
   "metadata": {},
   "outputs": [],
   "source": [
    "def test(n):\n",
    "    return n**3\n"
   ]
  },
  {
   "cell_type": "code",
   "execution_count": 3,
   "id": "65dded15-55d4-46fe-a097-4cdeb5622a29",
   "metadata": {},
   "outputs": [
    {
     "name": "stdout",
     "output_type": "stream",
     "text": [
      "[1, 2, 3, 4, 5, 6, 7]\n"
     ]
    }
   ],
   "source": [
    "list1 = [i for i in range(1,8)]\n",
    "print(list1)"
   ]
  },
  {
   "cell_type": "code",
   "execution_count": 4,
   "id": "024a07ef-fbff-438c-ae30-ce770880a584",
   "metadata": {},
   "outputs": [
    {
     "name": "stdout",
     "output_type": "stream",
     "text": [
      "[1, 8, 27, 64, 125, 216, 343]\n"
     ]
    }
   ],
   "source": [
    "list2 = list(map(test,list1))\n",
    "print(list2)"
   ]
  },
  {
   "cell_type": "code",
   "execution_count": 9,
   "id": "c37df834-fc6f-4a55-a167-b806d6931345",
   "metadata": {},
   "outputs": [
    {
     "name": "stdin",
     "output_type": "stream",
     "text": [
      "enter number 7,6,5\n"
     ]
    },
    {
     "name": "stdout",
     "output_type": "stream",
     "text": [
      "7 6 5\n"
     ]
    }
   ],
   "source": [
    "n1,n2,n3 = map(int,input('enter number').split(','))\n",
    "print(n1,n2,n3)"
   ]
  },
  {
   "cell_type": "code",
   "execution_count": 10,
   "id": "b55138b6-6398-481a-9ab6-b725be043e02",
   "metadata": {},
   "outputs": [
    {
     "name": "stdout",
     "output_type": "stream",
     "text": [
      "[1, 4, 9, 16, 25, 36, 49]\n"
     ]
    }
   ],
   "source": [
    "list1 = [1,2,3,4,5,6,7]\n",
    "list2 = list(map(lambda n:n**2, list1))\n",
    "print(list2)"
   ]
  },
  {
   "cell_type": "code",
   "execution_count": 7,
   "id": "20d3a407-3d62-4bb8-b522-c56da05696e6",
   "metadata": {},
   "outputs": [
    {
     "name": "stdout",
     "output_type": "stream",
     "text": [
      "[8, 10, 14, 14]\n"
     ]
    }
   ],
   "source": [
    "list1 = [2,5,6,7]\n",
    "list2 = [6,5,8,7]\n",
    "result = list(map(lambda x,y:x+y, list1,list2))\n",
    "print(result)"
   ]
  },
  {
   "cell_type": "code",
   "execution_count": 11,
   "id": "3fa92c19-0abb-429c-86d4-c706aef5514c",
   "metadata": {},
   "outputs": [],
   "source": [
    "def get_even_square(n):\n",
    "    if n%2==0:\n",
    "        result = n**2\n",
    "        print(result)"
   ]
  },
  {
   "cell_type": "code",
   "execution_count": 23,
   "id": "2eda8a79-2bf7-48af-abe1-15c2490d7d08",
   "metadata": {},
   "outputs": [
    {
     "name": "stdout",
     "output_type": "stream",
     "text": [
      "4\n",
      "16\n",
      "64\n",
      "<function get_even_square at 0x0000013472755EE0>\n"
     ]
    }
   ],
   "source": [
    "list1 = [1,2,3,5,4,8]\n",
    "even_sqaure = list(map(get_even_square,list1))\n",
    "print(get_even_square)"
   ]
  },
  {
   "cell_type": "code",
   "execution_count": null,
   "id": "04d51baf-d6d8-48d3-bd9e-136ef19aa88e",
   "metadata": {},
   "outputs": [],
   "source": []
  }
 ],
 "metadata": {
  "kernelspec": {
   "display_name": "Python 3 (ipykernel)",
   "language": "python",
   "name": "python3"
  },
  "language_info": {
   "codemirror_mode": {
    "name": "ipython",
    "version": 3
   },
   "file_extension": ".py",
   "mimetype": "text/x-python",
   "name": "python",
   "nbconvert_exporter": "python",
   "pygments_lexer": "ipython3",
   "version": "3.12.2"
  }
 },
 "nbformat": 4,
 "nbformat_minor": 5
}

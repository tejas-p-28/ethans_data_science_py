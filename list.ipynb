{
 "cells": [
  {
   "cell_type": "code",
   "execution_count": 1,
   "id": "707d5e78-b3e6-4cce-837d-620120e6362c",
   "metadata": {},
   "outputs": [
    {
     "name": "stdout",
     "output_type": "stream",
     "text": [
      "<class 'int'>\n"
     ]
    }
   ],
   "source": [
    "#typecasting\n",
    "a= '56'\n",
    "b = int(a)\n",
    "print(type(b))\n"
   ]
  },
  {
   "cell_type": "code",
   "execution_count": 2,
   "id": "68fc2f75-be95-447d-b340-c107267e08b6",
   "metadata": {},
   "outputs": [
    {
     "name": "stdout",
     "output_type": "stream",
     "text": [
      "['tejas', 56, 23, 'python']\n",
      "4\n",
      "<class 'list'>\n"
     ]
    }
   ],
   "source": [
    "my_list = ['tejas',56,23,'python']\n",
    "print(my_list)\n",
    "print(len(my_list))\n",
    "print(type(my_list))"
   ]
  },
  {
   "cell_type": "code",
   "execution_count": 3,
   "id": "bbafd4ad-b40e-490b-828c-40396e4c10a3",
   "metadata": {},
   "outputs": [
    {
     "name": "stdout",
     "output_type": "stream",
     "text": [
      "['tejas', 56, 23, 'python', 'this is new data']\n"
     ]
    }
   ],
   "source": [
    "new_list = my_list + ['this is new data']\n",
    "print(new_list)"
   ]
  },
  {
   "cell_type": "code",
   "execution_count": 4,
   "id": "8a014347-7d97-4cbb-bbd6-64d9cac2e649",
   "metadata": {},
   "outputs": [
    {
     "name": "stdout",
     "output_type": "stream",
     "text": [
      "['tejas', 56, 23, 'python', 'patil']\n"
     ]
    }
   ],
   "source": [
    "#append\n",
    "my_list.append('patil')\n",
    "print(my_list)"
   ]
  },
  {
   "cell_type": "code",
   "execution_count": 5,
   "id": "c3023dd9-8a42-4480-8a0c-14527a63c279",
   "metadata": {},
   "outputs": [
    {
     "name": "stdout",
     "output_type": "stream",
     "text": [
      "['tejas', 56, 23, 'python']\n",
      "['tejas', 56, 'python']\n"
     ]
    }
   ],
   "source": [
    "#pop\n",
    "my_list.pop()\n",
    "print(my_list)\n",
    "my_list.pop(2)\n",
    "print(my_list)"
   ]
  },
  {
   "cell_type": "code",
   "execution_count": 17,
   "id": "5837458c-c2a4-433a-8516-86b3a82b1f14",
   "metadata": {},
   "outputs": [
    {
     "name": "stdout",
     "output_type": "stream",
     "text": [
      "[1, 2, 5, 6, 7]\n",
      "[18, 15, 13, 13, 13, 10]\n"
     ]
    }
   ],
   "source": [
    "list1 = [2,5,1,7,6]\n",
    "list1.sort()\n",
    "print(list1)\n",
    "list2 = [13,10,18,15,13,13]\n",
    "list2.sort(reverse = True)\n",
    "print(list2)"
   ]
  },
  {
   "cell_type": "code",
   "execution_count": 18,
   "id": "7d5104d5-05b0-4be9-b992-c70315c29b09",
   "metadata": {},
   "outputs": [
    {
     "name": "stdout",
     "output_type": "stream",
     "text": [
      "3\n"
     ]
    }
   ],
   "source": [
    "#count\n",
    "print(list2.count(13))"
   ]
  },
  {
   "cell_type": "code",
   "execution_count": 6,
   "id": "b6d7c17e-a06f-4fcf-a7cf-5cadbfaaf759",
   "metadata": {},
   "outputs": [
    {
     "name": "stdout",
     "output_type": "stream",
     "text": [
      "[1, 3, 'tejas', 'patil']\n"
     ]
    }
   ],
   "source": [
    "my_list = [1,3,'tejas', 'patil']\n",
    "print(my_list)"
   ]
  },
  {
   "cell_type": "code",
   "execution_count": 7,
   "id": "4c6561b0-1db8-4242-9373-889be01c5807",
   "metadata": {},
   "outputs": [
    {
     "data": {
      "text/plain": [
       "'tejas'"
      ]
     },
     "execution_count": 7,
     "metadata": {},
     "output_type": "execute_result"
    }
   ],
   "source": [
    "my_list[2]"
   ]
  },
  {
   "cell_type": "code",
   "execution_count": 8,
   "id": "b057adff-51f9-4b85-9759-033d04d44f97",
   "metadata": {},
   "outputs": [
    {
     "ename": "TypeError",
     "evalue": "'int' object is not subscriptable",
     "output_type": "error",
     "traceback": [
      "\u001b[1;31m---------------------------------------------------------------------------\u001b[0m",
      "\u001b[1;31mTypeError\u001b[0m                                 Traceback (most recent call last)",
      "Cell \u001b[1;32mIn[8], line 1\u001b[0m\n\u001b[1;32m----> 1\u001b[0m \u001b[38;5;28mprint\u001b[39m(\u001b[43mmy_list\u001b[49m\u001b[43m[\u001b[49m\u001b[38;5;241;43m1\u001b[39;49m\u001b[43m]\u001b[49m\u001b[43m[\u001b[49m\u001b[38;5;241;43m0\u001b[39;49m\u001b[43m]\u001b[49m)\n",
      "\u001b[1;31mTypeError\u001b[0m: 'int' object is not subscriptable"
     ]
    }
   ],
   "source": [
    "print(my_list[1][0])"
   ]
  },
  {
   "cell_type": "code",
   "execution_count": 9,
   "id": "961752ef-4e72-4074-894a-d51a6912bc9f",
   "metadata": {},
   "outputs": [
    {
     "name": "stdout",
     "output_type": "stream",
     "text": [
      "[1, 2, 3, [4, 5, 6]]\n"
     ]
    }
   ],
   "source": [
    "#append\n",
    "l1 = [1,2,3]\n",
    "l2=[4,5,6]\n",
    "l1.append(l2)\n",
    "print(l1)"
   ]
  },
  {
   "cell_type": "code",
   "execution_count": 13,
   "id": "a669ae62-8173-458c-835c-bcf20af8edb6",
   "metadata": {},
   "outputs": [
    {
     "name": "stdout",
     "output_type": "stream",
     "text": [
      "[4, 5, 6, [1, 2, 3]]\n"
     ]
    }
   ],
   "source": [
    "l3 = [1,2,3]\n",
    "l4=[4,5,6]\n",
    "l4.append(l3)\n",
    "print(l4)"
   ]
  },
  {
   "cell_type": "code",
   "execution_count": 3,
   "id": "18d28e71-70d9-42f7-957b-3f560a45017c",
   "metadata": {},
   "outputs": [
    {
     "name": "stdout",
     "output_type": "stream",
     "text": [
      "[1, 2, 3, [4, 5, 6], 'tejas', 'patil', 't', 'e', 'j', 'a', 's', 'tejas', 'patil']\n",
      "[1, 2, 3, [4, 5, 6], 'tejas', 'patil', 't', 'e', 'j', 'a', 's', 'tejas', 'patil', 't', 'e', 'j', 'a', 's']\n"
     ]
    }
   ],
   "source": [
    "l1.extend(['tejas','patil'])\n",
    "print(l1)\n",
    "#l1.extend(55) #will give error\n",
    "l1.extend('tejas')\n",
    "print(l1)"
   ]
  },
  {
   "cell_type": "code",
   "execution_count": 2,
   "id": "c551be83-25cd-4a7b-ac74-d422ca24c659",
   "metadata": {},
   "outputs": [
    {
     "name": "stdout",
     "output_type": "stream",
     "text": [
      "[1, 'tejas', 2, 3, [4, 5, 6]]\n"
     ]
    }
   ],
   "source": [
    "#insert \n",
    "l1.insert(1,'tejas')\n",
    "print(l1)"
   ]
  },
  {
   "cell_type": "code",
   "execution_count": 16,
   "id": "4461c259-89d6-4ab2-a32f-954f0ae9c5af",
   "metadata": {},
   "outputs": [
    {
     "name": "stdout",
     "output_type": "stream",
     "text": [
      "[1, 2, 3, 'patil', 'patil', 'patil', 'patil', [4, 5, 6]]\n",
      "[1, 2, 3, 'patil', 'patil', 'patil', [4, 5, 6]]\n"
     ]
    }
   ],
   "source": [
    "#insert at -1 index\n",
    "l1.insert(-1,'patil')\n",
    "print(l1)\n",
    "l1.remove('patil')\n",
    "print(l1)"
   ]
  },
  {
   "cell_type": "code",
   "execution_count": 2,
   "id": "1ee255f1-8088-4af3-8fed-ab7abab7302b",
   "metadata": {},
   "outputs": [
    {
     "name": "stdout",
     "output_type": "stream",
     "text": [
      "Tanya\n"
     ]
    }
   ],
   "source": [
    "#nested list\n",
    "l10 = [1,2,3,[4,[5,6, 'Tanya',[44,66,88]]]]\n",
    "print(l10[3][1][2])"
   ]
  },
  {
   "cell_type": "code",
   "execution_count": 26,
   "id": "fed5d634-332f-40ab-a5bd-c756fbea45d3",
   "metadata": {},
   "outputs": [
    {
     "name": "stdout",
     "output_type": "stream",
     "text": [
      "2586343937728\n",
      "2586343709056\n",
      "2586343937728\n"
     ]
    }
   ],
   "source": [
    "list3 = [3,4,5,[6,7,8]]\n",
    "list4 = list3\n",
    "print(id(list3))\n",
    "print(id(list3[3]))\n",
    "print(id(list4))"
   ]
  },
  {
   "cell_type": "code",
   "execution_count": null,
   "id": "7765f62a-0e37-4af3-a64e-ac9ae359d997",
   "metadata": {},
   "outputs": [],
   "source": []
  }
 ],
 "metadata": {
  "kernelspec": {
   "display_name": "Python 3 (ipykernel)",
   "language": "python",
   "name": "python3"
  },
  "language_info": {
   "codemirror_mode": {
    "name": "ipython",
    "version": 3
   },
   "file_extension": ".py",
   "mimetype": "text/x-python",
   "name": "python",
   "nbconvert_exporter": "python",
   "pygments_lexer": "ipython3",
   "version": "3.12.2"
  }
 },
 "nbformat": 4,
 "nbformat_minor": 5
}

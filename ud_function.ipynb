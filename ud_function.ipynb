{
 "cells": [
  {
   "cell_type": "code",
   "execution_count": 1,
   "id": "6a74d01f-d29d-4478-9f4a-dbe4705efb13",
   "metadata": {},
   "outputs": [
    {
     "name": "stdout",
     "output_type": "stream",
     "text": [
      "hello\n"
     ]
    }
   ],
   "source": [
    "def hello():\n",
    "    print('hello')\n",
    "hello()"
   ]
  },
  {
   "cell_type": "code",
   "execution_count": 2,
   "id": "7389455a-f00e-49b7-9011-48b77bb8467b",
   "metadata": {},
   "outputs": [
    {
     "name": "stdout",
     "output_type": "stream",
     "text": [
      "hello\n"
     ]
    }
   ],
   "source": [
    "hello()"
   ]
  },
  {
   "cell_type": "code",
   "execution_count": 4,
   "id": "0ac86a0c-a793-4358-8028-15c8909e3720",
   "metadata": {},
   "outputs": [
    {
     "name": "stdout",
     "output_type": "stream",
     "text": [
      "Hi Tejas\n",
      "your course is Python\n"
     ]
    }
   ],
   "source": [
    "def greet(name,course): #positional argument\n",
    "    print(f'Hi {name}')\n",
    "    print(f'your course is {course}')\n",
    "greet('Tejas','Python')"
   ]
  },
  {
   "cell_type": "code",
   "execution_count": 10,
   "id": "295a44e4-8c1c-4258-b2be-92af851896a6",
   "metadata": {},
   "outputs": [
    {
     "name": "stdout",
     "output_type": "stream",
     "text": [
      "Hi Tejas\n",
      "your course is Data Science\n"
     ]
    }
   ],
   "source": [
    "def greet(name= 'Tejas',msg = 'Data Science'):   #named argument\n",
    "    print(f'Hi {name}')\n",
    "    print(f'your course is {msg}')\n",
    "greet('Tejas')"
   ]
  },
  {
   "cell_type": "code",
   "execution_count": 8,
   "id": "b781fad9-89c8-4046-b436-29ea5e6d88df",
   "metadata": {},
   "outputs": [
    {
     "name": "stdout",
     "output_type": "stream",
     "text": [
      "Hi Tejas\n",
      "your course is Data Science\n"
     ]
    }
   ],
   "source": [
    "def greet(name,msg = 'Data Science'):   #default argument\n",
    "    print(f'Hi {name}')\n",
    "    print(f'your course is {msg}')\n",
    "greet('Tejas')"
   ]
  },
  {
   "cell_type": "code",
   "execution_count": 12,
   "id": "ca68e44d-5926-4c11-9268-5531a857253c",
   "metadata": {},
   "outputs": [
    {
     "name": "stdin",
     "output_type": "stream",
     "text": [
      "enter username gv\n",
      "enter password df\n"
     ]
    },
    {
     "name": "stdout",
     "output_type": "stream",
     "text": [
      "failed\n"
     ]
    }
   ],
   "source": [
    "def user_login():\n",
    "    username = input('enter username')\n",
    "    pwd = input('enter password')\n",
    "    if username == 'tejas' and pwd == '123':\n",
    "        print('successful')\n",
    "    else:\n",
    "        print('failed')\n",
    "user_login()"
   ]
  },
  {
   "cell_type": "code",
   "execution_count": 14,
   "id": "9efa5606-6d00-4a51-814f-5020a2027286",
   "metadata": {},
   "outputs": [
    {
     "name": "stdout",
     "output_type": "stream",
     "text": [
      "30\n"
     ]
    }
   ],
   "source": [
    "def area(l,w):\n",
    "    area = l*w\n",
    "    print(area)\n",
    "area(5,6)"
   ]
  },
  {
   "cell_type": "code",
   "execution_count": 1,
   "id": "6cd75f03-6970-48f7-a4f7-eb76b84d5f5c",
   "metadata": {},
   "outputs": [
    {
     "name": "stdout",
     "output_type": "stream",
     "text": [
      "30\n",
      "30\n"
     ]
    }
   ],
   "source": [
    "def area(l,w):\n",
    "    area = l*w\n",
    "    return area\n",
    "a = area(5,6)\n",
    "print(a)\n",
    "print(a)"
   ]
  },
  {
   "cell_type": "code",
   "execution_count": 22,
   "id": "7c2f8475-1b58-4f78-bcc1-1455c6ac1e55",
   "metadata": {},
   "outputs": [
    {
     "name": "stdout",
     "output_type": "stream",
     "text": [
      "210\n"
     ]
    }
   ],
   "source": [
    "def volume(l,w,h):\n",
    "    a = area(l,w)\n",
    "    return a * h\n",
    "v= volume(5,6,7)\n",
    "print(v)"
   ]
  },
  {
   "cell_type": "code",
   "execution_count": 24,
   "id": "7058a8ae-2674-4f47-b6b3-5490a1bdfa85",
   "metadata": {},
   "outputs": [
    {
     "data": {
      "text/plain": [
       "(5, 3, 5, [5, 46, 5])"
      ]
     },
     "execution_count": 24,
     "metadata": {},
     "output_type": "execute_result"
    }
   ],
   "source": [
    "def demo():\n",
    "    return 5,3,5,[5,46,5]\n",
    "demo()"
   ]
  },
  {
   "cell_type": "code",
   "execution_count": 4,
   "id": "c8b40e16-afe6-4870-a37e-e79c7c85d7a1",
   "metadata": {},
   "outputs": [
    {
     "name": "stdout",
     "output_type": "stream",
     "text": [
      "None\n"
     ]
    }
   ],
   "source": [
    "def area(l,w):\n",
    "    area = l*w\n",
    "    return\n",
    "a = area(5,6)\n",
    "print(a)"
   ]
  },
  {
   "cell_type": "code",
   "execution_count": 1,
   "id": "9a8a0dc9-18fd-4d60-a674-1b9be6261f21",
   "metadata": {},
   "outputs": [
    {
     "name": "stdin",
     "output_type": "stream",
     "text": [
      " abc\n",
      " xyz\n"
     ]
    },
    {
     "name": "stdout",
     "output_type": "stream",
     "text": [
      "cxy zab\n"
     ]
    }
   ],
   "source": [
    "string1 = input('')\n",
    "string2 = input('')\n",
    "word = string1[2:]  + string2[:2] + ' ' + string2[2:] + string1[:2]\n",
    "print(word)"
   ]
  },
  {
   "cell_type": "code",
   "execution_count": null,
   "id": "abf19f60-5157-495d-ae81-edfc5b26c27e",
   "metadata": {},
   "outputs": [],
   "source": []
  }
 ],
 "metadata": {
  "kernelspec": {
   "display_name": "Python 3 (ipykernel)",
   "language": "python",
   "name": "python3"
  },
  "language_info": {
   "codemirror_mode": {
    "name": "ipython",
    "version": 3
   },
   "file_extension": ".py",
   "mimetype": "text/x-python",
   "name": "python",
   "nbconvert_exporter": "python",
   "pygments_lexer": "ipython3",
   "version": "3.12.2"
  }
 },
 "nbformat": 4,
 "nbformat_minor": 5
}

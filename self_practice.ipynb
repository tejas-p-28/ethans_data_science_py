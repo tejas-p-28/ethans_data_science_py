{
 "cells": [
  {
   "cell_type": "code",
   "execution_count": 7,
   "id": "f61852c0-ef5b-45af-8189-b8e2447e08c3",
   "metadata": {},
   "outputs": [
    {
     "name": "stdin",
     "output_type": "stream",
     "text": [
      " tp817764\n"
     ]
    },
    {
     "name": "stdout",
     "output_type": "stream",
     "text": [
      "invalid\n"
     ]
    }
   ],
   "source": [
    "#validate the password \n",
    "password = input()\n",
    "has_valid_length = False\n",
    "has_upper_case = False\n",
    "has_lower_case = False\n",
    "has_special_char = False\n",
    "has_digit = False\n",
    "if (len(password)>=8) and (len(password)<=16):\n",
    "    has_valid_length = True\n",
    "    for i in password:\n",
    "        if (i.islower()):\n",
    "            has_lower_case = True\n",
    "        if(i.isupper()):\n",
    "            has_upper_case = True\n",
    "        if(i=='!' or i=='@' or i == '#' or i == '$' or i == '%' or i == '^' or i == '&' or i == '*' ):\n",
    "            has_special_char = True\n",
    "        if(i.isdigit()):\n",
    "            has_digit = True\n",
    "    if(has_valid_length == True and has_upper_case == True and has_lower_case == True and has_special_char == True and has_digit == True):\n",
    "        print('valid')\n",
    "    else:\n",
    "        print('invalid')"
   ]
  },
  {
   "cell_type": "code",
   "execution_count": 14,
   "id": "3690686a-df92-4a00-bfca-f266707cb3d6",
   "metadata": {},
   "outputs": [
    {
     "name": "stdout",
     "output_type": "stream",
     "text": [
      "no. of days is 31\n",
      "no. of days is 28\n",
      "no. of days is 31\n",
      "no.of days is 30\n",
      "no. of days is 31\n",
      "no. of days is 31\n",
      "no.of days is 30\n",
      "no. of days is 31\n"
     ]
    }
   ],
   "source": [
    "#for no. of days in month\n",
    "month = ['january','february','may','june','july','august','november','december']\n",
    "\n",
    "for i in month:\n",
    "    if (i=='february'):\n",
    "        print('no. of days is 28')\n",
    "    elif i in ('january','march','may','july','august','october','december'):\n",
    "        print('no. of days is 31')\n",
    "    else:\n",
    "        print('no.of days is 30')"
   ]
  },
  {
   "cell_type": "code",
   "execution_count": 9,
   "id": "e5a7b6ac-4bbb-429b-a75a-65d323ec19e0",
   "metadata": {},
   "outputs": [
    {
     "name": "stdin",
     "output_type": "stream",
     "text": [
      " [{]}\n"
     ]
    },
    {
     "name": "stdout",
     "output_type": "stream",
     "text": [
      "in\n"
     ]
    }
   ],
   "source": [
    "brackets = input('')\n",
    "list1 = []\n",
    "is_valid = True\n",
    "opening = '({['\n",
    "closing = ')}]'\n",
    "for i in brackets:\n",
    "    if i in opening:\n",
    "        list1.append(i)\n",
    "    elif i in closing:\n",
    "        if not list1:\n",
    "            is_valid = False\n",
    "            break\n",
    "        popped = list1.pop()\n",
    "        if opening.index(popped) != closing.index(i):\n",
    "            is_valid = False\n",
    "\n",
    "if is_valid:\n",
    "    print('valid')\n",
    "else:\n",
    "    print('in')"
   ]
  },
  {
   "cell_type": "code",
   "execution_count": 1,
   "id": "8150781c-28be-4eff-9a5e-60db80321ef5",
   "metadata": {},
   "outputs": [
    {
     "name": "stdin",
     "output_type": "stream",
     "text": [
      " []\n"
     ]
    },
    {
     "name": "stdout",
     "output_type": "stream",
     "text": [
      "invalid\n",
      "invalid\n"
     ]
    }
   ],
   "source": [
    "brackets = input('')\n",
    "list1 = []\n",
    "is_balanced = False\n",
    "for char in brackets:\n",
    "    \n",
    "    \n",
    "    if char == '[':\n",
    "        list1.append('[')\n",
    "    elif char == '{':\n",
    "        list1.append('{')\n",
    "    elif char == '(':\n",
    "        list1.append('(')\n",
    "    elif char == ')' or list1.pop() != ')':\n",
    "        print('invalid')\n",
    "    elif char == '}' or list1.pop() != '}':\n",
    "        print('invalid')\n",
    "    elif char == ']' or list1.pop() != ']':\n",
    "        print('invalid')\n",
    "else:\n",
    "    if list1 == 0:\n",
    "        print('valid')\n",
    "    else:\n",
    "        print('invalid')"
   ]
  },
  {
   "cell_type": "code",
   "execution_count": null,
   "id": "f64f612f-5721-401f-81c6-5375f8dc876d",
   "metadata": {},
   "outputs": [],
   "source": [
    "brackets = input('')\n",
    "list1 = []\n",
    "is_balanced = False\n",
    "for char in brackets:\n",
    "    \n",
    "    \n",
    "    if char == '[':\n",
    "        list1.append('[')\n",
    "    elif char == '{':\n",
    "        list1.append('{')\n",
    "    elif char == '(':\n",
    "        list1.append('(')\n",
    "    elif char == ')' or list1.pop() != ')':\n",
    "        print('invalid')\n",
    "    elif char == '}' or list1.pop() != '}':\n",
    "        print('invalid')\n",
    "    elif char == ']' or list1.pop() != ']':\n",
    "        print('invalid')\n",
    "else:\n",
    "    if list1 == 0:\n",
    "        print('valid')\n",
    "    else:\n",
    "        print('invalid')"
   ]
  },
  {
   "cell_type": "code",
   "execution_count": 27,
   "id": "b05eb5ef-4c83-4b1a-9770-50caedd92abe",
   "metadata": {},
   "outputs": [
    {
     "name": "stdout",
     "output_type": "stream",
     "text": [
      "3\n"
     ]
    }
   ],
   "source": [
    "brackets = '[{()}]'\n",
    "char = len(brackets)//2\n",
    "print(char)"
   ]
  },
  {
   "cell_type": "code",
   "execution_count": 8,
   "id": "63e4fdbe-f5d4-4754-858f-ff56e87c06e8",
   "metadata": {},
   "outputs": [
    {
     "name": "stdin",
     "output_type": "stream",
     "text": [
      " {{(})}\n"
     ]
    },
    {
     "ename": "TypeError",
     "evalue": "unsupported operand type(s) for //: 'list' and 'int'",
     "output_type": "error",
     "traceback": [
      "\u001b[1;31m---------------------------------------------------------------------------\u001b[0m",
      "\u001b[1;31mTypeError\u001b[0m                                 Traceback (most recent call last)",
      "Cell \u001b[1;32mIn[8], line 5\u001b[0m\n\u001b[0;32m      3\u001b[0m \u001b[38;5;28;01mfor\u001b[39;00m i \u001b[38;5;129;01min\u001b[39;00m brakcets:\n\u001b[0;32m      4\u001b[0m     length\u001b[38;5;241m.\u001b[39mappend(i)\n\u001b[1;32m----> 5\u001b[0m     leng \u001b[38;5;241m=\u001b[39m \u001b[43mlength\u001b[49m\u001b[43m \u001b[49m\u001b[38;5;241;43m/\u001b[39;49m\u001b[38;5;241;43m/\u001b[39;49m\u001b[43m \u001b[49m\u001b[38;5;241;43m2\u001b[39;49m \n\u001b[0;32m      6\u001b[0m     \u001b[38;5;28;01mif\u001b[39;00m leng[\u001b[38;5;241m0\u001b[39m] \u001b[38;5;241m==\u001b[39m leng[\u001b[38;5;241m1\u001b[39m]:\n\u001b[0;32m      7\u001b[0m         \u001b[38;5;28mprint\u001b[39m(\u001b[38;5;124m'\u001b[39m\u001b[38;5;124mvalid\u001b[39m\u001b[38;5;124m'\u001b[39m)\n",
      "\u001b[1;31mTypeError\u001b[0m: unsupported operand type(s) for //: 'list' and 'int'"
     ]
    }
   ],
   "source": [
    "brakcets = input('')\n",
    "# length = []\n",
    "# for i in brakcets:\n",
    "#     length.append(i)\n",
    "#     leng = length // 2 \n",
    "#     if leng[0] == leng[1]:\n",
    "#         print('valid')\n",
    "#     else:\n",
    "#         print('invalid')\n",
    "pattern = '[]  "
   ]
  },
  {
   "cell_type": "code",
   "execution_count": 9,
   "id": "cee791bf-1deb-4059-9158-dd9a5a9c139e",
   "metadata": {},
   "outputs": [
    {
     "name": "stdin",
     "output_type": "stream",
     "text": [
      " november\n"
     ]
    },
    {
     "name": "stdout",
     "output_type": "stream",
     "text": [
      "winter\n"
     ]
    }
   ],
   "source": [
    "summer = ['march','april','may','june']\n",
    "winter = ['november','december','january','february']\n",
    "rainy = ['july','august','september','october']\n",
    "ans = input('')\n",
    "for i in summer:\n",
    "    if ans == i:\n",
    "        print('summer')\n",
    "for i in winter:\n",
    "    if ans == i:\n",
    "        print('winter')\n",
    "for i in rainy:\n",
    "    if ans == i:\n",
    "        print('rainy')"
   ]
  },
  {
   "cell_type": "code",
   "execution_count": 13,
   "id": "35401b0b-0ebf-401a-ab55-29b0cd624848",
   "metadata": {},
   "outputs": [
    {
     "name": "stdout",
     "output_type": "stream",
     "text": [
      "5\n",
      "(1, 'tejas', 5, 6, 'python', 4, 6, 3)\n",
      "4\n"
     ]
    }
   ],
   "source": [
    "tuple1 = (1,'tejas',5,6,'python')\n",
    "tuple2 = (4,6,3)\n",
    "print(len(tuple1))\n",
    "print(tuple1 + tuple2)\n",
    "print(tuple2[0])"
   ]
  },
  {
   "cell_type": "code",
   "execution_count": 1,
   "id": "496c2117-9e90-4cad-9705-bd0e4ee16637",
   "metadata": {},
   "outputs": [
    {
     "name": "stdout",
     "output_type": "stream",
     "text": [
      "(3, 5, 4, 5, 4, 5, 4)\n",
      "do not exist\n"
     ]
    }
   ],
   "source": [
    "tuple2 = (3,5,4,5,4,5,4)\n",
    "tuple2.count(4)\n",
    "string = str(tuple2)\n",
    "print(string)\n",
    "for i in tuple2:\n",
    "    exists = 1\n",
    "    if i == exists:\n",
    "        print('exist')\n",
    "else:\n",
    "    print('do not exist')    "
   ]
  },
  {
   "cell_type": "code",
   "execution_count": 3,
   "id": "52860b97-dab2-4146-bda7-ecc3e72ae2ea",
   "metadata": {},
   "outputs": [
    {
     "name": "stdout",
     "output_type": "stream",
     "text": [
      "3\n",
      "(3, 5, 4, 5, 4, 5, 4)\n",
      "<class 'str'>\n",
      "(1, 3, 4)\n"
     ]
    }
   ],
   "source": [
    "tuple2 = (3,5,4,5,4,5,4)\n",
    "print(tuple2.count(4))\n",
    "string = str(tuple2)\n",
    "print(string)\n",
    "print(type(string))\n",
    "list1 = [1,3,4]\n",
    "tup = tuple(list1)\n",
    "print(tup)"
   ]
  },
  {
   "cell_type": "code",
   "execution_count": 4,
   "id": "8b56e1c6-f27c-4749-9cb1-516bcc98f4eb",
   "metadata": {},
   "outputs": [
    {
     "name": "stdout",
     "output_type": "stream",
     "text": [
      "1\n",
      "2\n",
      "3\n",
      "4\n",
      "5\n",
      "6\n",
      "7\n",
      "8\n",
      "9\n",
      "10\n"
     ]
    }
   ],
   "source": [
    "for i in range(1,11):\n",
    "    print(i)"
   ]
  },
  {
   "cell_type": "code",
   "execution_count": 36,
   "id": "3fe6c62b-fd95-4585-b014-ac1f43adb9df",
   "metadata": {},
   "outputs": [
    {
     "name": "stdout",
     "output_type": "stream",
     "text": [
      "                    &                   \n",
      "                   & &                  \n",
      "                  & & &                 \n",
      "                 & & & &                \n",
      "                & & & & &               \n"
     ]
    }
   ],
   "source": [
    "width = 40\n",
    "for i in range(1,6):\n",
    "    pattern = ' &'* i\n",
    "    print(pattern.center(width))"
   ]
  },
  {
   "cell_type": "code",
   "execution_count": 21,
   "id": "1848f396-a9bb-4a05-8272-6fc25ffaf30a",
   "metadata": {},
   "outputs": [
    {
     "name": "stdin",
     "output_type": "stream",
     "text": [
      " 4\n"
     ]
    },
    {
     "name": "stdout",
     "output_type": "stream",
     "text": [
      "4 : 11\n"
     ]
    }
   ],
   "source": [
    "count = 1\n",
    "num = int(input(''))\n",
    "for i in range(1,num+1,1):\n",
    "    count+=i\n",
    "print(i ,':' ,count)\n"
   ]
  },
  {
   "cell_type": "code",
   "execution_count": 53,
   "id": "db96767a-5837-49c5-88bf-7a8c9aef3426",
   "metadata": {},
   "outputs": [
    {
     "name": "stdin",
     "output_type": "stream",
     "text": [
      " 5\n"
     ]
    },
    {
     "name": "stdout",
     "output_type": "stream",
     "text": [
      "5\n",
      "10\n",
      "15\n",
      "20\n",
      "25\n",
      "30\n",
      "35\n",
      "40\n",
      "45\n",
      "50\n"
     ]
    }
   ],
   "source": [
    "num = int(input(''))\n",
    "for i in range(1,11):\n",
    "    res = i * num\n",
    "    print(res)"
   ]
  },
  {
   "cell_type": "code",
   "execution_count": 54,
   "id": "ab691053-8dec-4065-b7b2-552663384516",
   "metadata": {},
   "outputs": [
    {
     "name": "stdout",
     "output_type": "stream",
     "text": [
      "34\n",
      "65\n",
      "56\n",
      "43\n",
      "65\n",
      "67\n"
     ]
    }
   ],
   "source": [
    "list1 = [34,65,56,43,65,67]\n",
    "for i in list1:\n",
    "    print(i)"
   ]
  },
  {
   "cell_type": "code",
   "execution_count": 72,
   "id": "bdda0b22-2a32-4e1a-a565-2faef9442fee",
   "metadata": {},
   "outputs": [
    {
     "name": "stdin",
     "output_type": "stream",
     "text": [
      " 564\n"
     ]
    },
    {
     "name": "stdout",
     "output_type": "stream",
     "text": [
      "3\n"
     ]
    }
   ],
   "source": [
    "n = int(input(''))\n",
    "num = 0\n",
    "while n != 0:\n",
    "    n = n//10\n",
    "    num+=1\n",
    "print(num)"
   ]
  },
  {
   "cell_type": "code",
   "execution_count": 75,
   "id": "131dbb80-81d1-40eb-8c06-af007c802f27",
   "metadata": {},
   "outputs": [
    {
     "name": "stdout",
     "output_type": "stream",
     "text": [
      "5 4 3 2 1 \n",
      "4 3 2 1 \n",
      "3 2 1 \n",
      "2 1 \n",
      "1 \n"
     ]
    }
   ],
   "source": [
    "for i in range(5):\n",
    "    for j in range(5-i, 0 , -1):\n",
    "        print(j,end=' ')\n",
    "    print()"
   ]
  },
  {
   "cell_type": "code",
   "execution_count": 83,
   "id": "46eea50d-4e0a-4f2d-9d02-b9641583466c",
   "metadata": {},
   "outputs": [
    {
     "data": {
      "text/plain": [
       "[50, 40, 30, 20, 10]"
      ]
     },
     "execution_count": 83,
     "metadata": {},
     "output_type": "execute_result"
    }
   ],
   "source": [
    "list1 = [10,20,30,40,50]\n",
    "list1[::-1]"
   ]
  },
  {
   "cell_type": "code",
   "execution_count": 86,
   "id": "b125f801-0021-4a11-87f8-0e3149dd2cd7",
   "metadata": {},
   "outputs": [
    {
     "name": "stdout",
     "output_type": "stream",
     "text": [
      "-10\n",
      "-9\n",
      "-8\n",
      "-7\n",
      "-6\n",
      "-5\n",
      "-4\n",
      "-3\n",
      "-2\n"
     ]
    }
   ],
   "source": [
    "count -=1\n",
    "for i in range (-10,-1):\n",
    "    print(i)\n",
    "    count -+1"
   ]
  },
  {
   "cell_type": "code",
   "execution_count": 89,
   "id": "06a23f33-778d-49bd-9f0e-7a699256e4ca",
   "metadata": {},
   "outputs": [
    {
     "name": "stdout",
     "output_type": "stream",
     "text": [
      "0\n",
      "1\n",
      "2\n",
      "3\n",
      "4\n",
      "done\n"
     ]
    }
   ],
   "source": [
    "for i in range(0,5):\n",
    "    print(i)\n",
    "else:\n",
    "    print('done')"
   ]
  },
  {
   "cell_type": "code",
   "execution_count": 103,
   "id": "ef78e3e9-7fd5-4737-990b-72ed318bd98f",
   "metadata": {},
   "outputs": [
    {
     "name": "stdout",
     "output_type": "stream",
     "text": [
      "29\n",
      "31\n",
      "37\n",
      "41\n",
      "43\n",
      "47\n"
     ]
    }
   ],
   "source": [
    "for i in range(25,51):\n",
    "    if i > 25:\n",
    "        for j in range(2,i):\n",
    "            if (i % j)==0:\n",
    "                break\n",
    "        else:\n",
    "            print(i)\n",
    "        "
   ]
  },
  {
   "cell_type": "code",
   "execution_count": 106,
   "id": "cc773489-7318-43f1-baa7-2204ddd8e09b",
   "metadata": {},
   "outputs": [
    {
     "name": "stdin",
     "output_type": "stream",
     "text": [
      " 6\n"
     ]
    },
    {
     "name": "stdout",
     "output_type": "stream",
     "text": [
      "2\n",
      "4\n",
      "6\n",
      "8\n",
      "10\n",
      "12\n",
      "14\n",
      "16\n",
      "18\n"
     ]
    }
   ],
   "source": [
    "n = int(input(''))\n",
    "for i in range(1,10):\n",
    "    if i >=n:\n",
    "        i,n = n,i+\n",
    "    print(res)"
   ]
  },
  {
   "cell_type": "code",
   "execution_count": 107,
   "id": "458aef83-9197-4e3a-ab1f-d58e9dfb5cf4",
   "metadata": {},
   "outputs": [
    {
     "name": "stdin",
     "output_type": "stream",
     "text": [
      "Enter the number of terms:  6\n"
     ]
    },
    {
     "name": "stdout",
     "output_type": "stream",
     "text": [
      "Fibonacci series:\n",
      "0 1 1 2 3 5 "
     ]
    }
   ],
   "source": [
    "n_terms = int(input(\"Enter the number of terms: \"))\n",
    "a, b = 0, 1\n",
    "\n",
    "\n",
    "print(\"Fibonacci series:\")\n",
    "for _ in range(n_terms):\n",
    "    print(a, end=' ')\n",
    "    a, b = b, a + b"
   ]
  },
  {
   "cell_type": "code",
   "execution_count": 13,
   "id": "c5467824-9e81-4c0b-8c78-7d82fed74a34",
   "metadata": {},
   "outputs": [
    {
     "name": "stdin",
     "output_type": "stream",
     "text": [
      "enter string []{}()\n"
     ]
    },
    {
     "name": "stdout",
     "output_type": "stream",
     "text": [
      "valid\n"
     ]
    }
   ],
   "source": [
    "string = input('enter string')\n",
    "temp = []\n",
    "closing = [']','}',')']\n",
    "opening = ['(','{','[']\n",
    "combo = ['()','{}','[]']\n",
    "invalid = False \n",
    "for i in string:\n",
    "    if opening:\n",
    "        temp.append(i)\n",
    "    elif i in closing:\n",
    "        if temp:\n",
    "            pair = temp.pop() + i\n",
    "        else:\n",
    "            invalid = True\n",
    "            print('invalid pair')\n",
    "        if pair not in combo:\n",
    "            print('invalid pair')\n",
    "            invalid = True\n",
    "if not invalid :\n",
    "    print('valid')"
   ]
  },
  {
   "cell_type": "code",
   "execution_count": 21,
   "id": "6921d8ab-3ebe-43fc-9c98-da8de5392643",
   "metadata": {},
   "outputs": [
    {
     "name": "stdout",
     "output_type": "stream",
     "text": [
      "{'name': 'tejas', 'id': 12, 'course': 'python', 'colors': 'white'}\n",
      "{'name': 'tejas', 'id': 12, 'course': 'python', 'color': 'white'}\n"
     ]
    }
   ],
   "source": [
    "z = {'name':'tejas','id':12}\n",
    "z['course'] = 'python'\n",
    "print(d)\n",
    "z.update({'color':'white'})\n",
    "print(z)"
   ]
  },
  {
   "cell_type": "code",
   "execution_count": 16,
   "id": "2eb73516-55e9-44b4-a6ab-dcf36b266a7f",
   "metadata": {},
   "outputs": [
    {
     "name": "stdout",
     "output_type": "stream",
     "text": [
      "{'name': 'tejas', 'id': 12, 'course': 'python', 'color': 'white'}\n"
     ]
    }
   ],
   "source": [
    "print(d)"
   ]
  },
  {
   "cell_type": "code",
   "execution_count": 30,
   "id": "1beba08f-0852-44ca-a051-f8f83de5c20b",
   "metadata": {},
   "outputs": [
    {
     "name": "stdout",
     "output_type": "stream",
     "text": [
      "{'name': 'tejas', 'id': 12, 'course': 'python', 'color': 'white'}\n",
      "{'name': 'tejas', 'id': 12, 'course': 'python', 'color': 'white', 'o': 'green'}\n"
     ]
    }
   ],
   "source": [
    "d = {'name': 'tejas', 'id': 12, 'course': 'python', 'color': 'white'}\n",
    "d['course'] = 'python'\n",
    "print(d)\n",
    "d['color'] = 'white'\n",
    "d.update({'color'[1]:'green'})\n",
    "print(d)"
   ]
  },
  {
   "cell_type": "code",
   "execution_count": 8,
   "id": "39411a13-1da9-4184-a85f-0b8c7e662e90",
   "metadata": {},
   "outputs": [
    {
     "name": "stdout",
     "output_type": "stream",
     "text": [
      "67\n"
     ]
    }
   ],
   "source": [
    "d = {'a':23,'b':12,'c':56,'d':34,'e':67,'f':65}\n",
    "list1 = []\n",
    "for i in d.values():\n",
    "    list1.append(i)\n",
    "    list1.sort()\n",
    "print(f'your maximum no. is {list1[0]}')\n",
    "print(f'your minimum no. is {list1[-1]}')"
   ]
  },
  {
   "cell_type": "code",
   "execution_count": 16,
   "id": "c604bb7e-a3b2-4d22-a391-84cdab8182d3",
   "metadata": {},
   "outputs": [
    {
     "name": "stdout",
     "output_type": "stream",
     "text": [
      "{1: 10, 2: 20, 3: 30, 4: 40, 5: 50, 6: 60}\n"
     ]
    }
   ],
   "source": [
    "#update dict to new dicr\n",
    "dic1={1:10, 2:20}\n",
    "dic2={3:30, 4:40}\n",
    "dic3={5:50,6:60}\n",
    "dict4 ={}\n",
    "for i in (dic1,dic2,dic3):\n",
    "    dict4.update(i)\n",
    "print(dict4)"
   ]
  },
  {
   "cell_type": "code",
   "execution_count": 20,
   "id": "b8dd7251-a285-4f67-8ffc-70c6b0b85716",
   "metadata": {},
   "outputs": [
    {
     "name": "stdout",
     "output_type": "stream",
     "text": [
      "key available\n"
     ]
    }
   ],
   "source": [
    "d = {1: 10, 2: 20, 3: 30, 4: 40, 5: 50, 6: 60}\n",
    "x = 4\n",
    "if x in d.keys():\n",
    "    print('key available')"
   ]
  },
  {
   "cell_type": "code",
   "execution_count": 31,
   "id": "f0e23bc4-4d8e-489d-b782-bbcabf23a614",
   "metadata": {},
   "outputs": [
    {
     "name": "stdout",
     "output_type": "stream",
     "text": [
      "dict_items([('Red', 1), ('Green', 3), ('White', 5), ('Black', 2), ('Pink', 4)])\n"
     ]
    }
   ],
   "source": [
    "d = {'Red': 1, 'Green': 3, 'White': 5, 'Black': 2, 'Pink': 4}\n",
    "keys = []\n",
    "print(d.items())"
   ]
  },
  {
   "cell_type": "code",
   "execution_count": 3,
   "id": "77caa430-3427-4ab0-8e5c-e55a6bcd8f99",
   "metadata": {},
   "outputs": [
    {
     "name": "stdout",
     "output_type": "stream",
     "text": [
      "fl\n"
     ]
    }
   ],
   "source": [
    "def longest_common_prefix(strings):\n",
    "    if not strings:\n",
    "        return \"\"\n",
    "    \n",
    "    # Sort the array to bring similar prefixes together\n",
    "    strings.sort()\n",
    "    \n",
    "    # Compare the first and the last string in the sorted array\n",
    "    first = strings[0]\n",
    "    last = strings[-1]\n",
    "    common_prefix_length = 0\n",
    "    \n",
    "    # The longest common prefix can only be as long as the shortest string\n",
    "    for i in range(min(len(first), len(last))):\n",
    "        if first[i] == last[i]:\n",
    "            common_prefix_length += 1\n",
    "        else:\n",
    "            break\n",
    "    \n",
    "    # Return the common prefix\n",
    "    return first[:common_prefix_length]\n",
    "\n",
    "# Example usage:\n",
    "strings = [\"flower\", \"flow\", \"flight\"]\n",
    "print(longest_common_prefix(strings))  # Output: \"fl\"\n"
   ]
  },
  {
   "cell_type": "code",
   "execution_count": 12,
   "id": "5285ca39-2bec-4cb3-901d-6519e9c8b10b",
   "metadata": {},
   "outputs": [
    {
     "name": "stdout",
     "output_type": "stream",
     "text": [
      "['flight', 'flow', 'flower']\n"
     ]
    }
   ],
   "source": [
    "strings = [\"flower\", \"flow\", \"flight\"]\n",
    "strings.sort()\n",
    "print(strings)"
   ]
  },
  {
   "cell_type": "code",
   "execution_count": 7,
   "id": "0d20092d-3e05-465b-b457-b4ef1f36e7d6",
   "metadata": {},
   "outputs": [
    {
     "name": "stdin",
     "output_type": "stream",
     "text": [
      " 1992\n"
     ]
    },
    {
     "name": "stdout",
     "output_type": "stream",
     "text": [
      "True\n"
     ]
    }
   ],
   "source": [
    "def is_leap(year):\n",
    "    leap = False\n",
    "    if year%4==0 :\n",
    "        if year%100==0:\n",
    "            if year%400==0:\n",
    "                return True\n",
    "            else:\n",
    "                return False\n",
    "        else:\n",
    "            return True\n",
    "    else:\n",
    "        return False\n",
    "    # Write your logic here\n",
    "    \n",
    "    return leap\n",
    "\n",
    "year = int(input())\n",
    "print(is_leap(year))"
   ]
  },
  {
   "cell_type": "code",
   "execution_count": 2,
   "id": "a1ab788f-8274-4f81-ad14-9e418f2c25b4",
   "metadata": {},
   "outputs": [
    {
     "name": "stdin",
     "output_type": "stream",
     "text": [
      " tejasp@123\n"
     ]
    },
    {
     "name": "stdout",
     "output_type": "stream",
     "text": [
      "invalid\n"
     ]
    }
   ],
   "source": [
    "#validate the password \n",
    "password = input()\n",
    "has_valid_length = False\n",
    "has_upper_case = False\n",
    "has_lower_case = False\n",
    "has_special_char = False\n",
    "has_digit = False\n",
    "if (len(password)>=8) and (len(password)<=16):\n",
    "    has_valid_length = True\n",
    "    for i in password:\n",
    "        if (i.islower()):\n",
    "            has_lower_case = True\n",
    "        if(i.isupper()):\n",
    "            has_upper_case = True\n",
    "        if(i=='!' or i=='@' or i == '#' or i == '$' or i == '%' or i == '^' or i == '&' or i == '*' ):\n",
    "            has_special_char = True\n",
    "        if(i.isdigit()):\n",
    "            has_digit = True\n",
    "    if(has_valid_length == True and has_upper_case == True and has_lower_case == True and has_special_char == True and has_digit == True):\n",
    "        print('valid')\n",
    "    else:\n",
    "        print('invalid')"
   ]
  },
  {
   "cell_type": "code",
   "execution_count": 4,
   "id": "9c641f14-1004-47b5-9f34-cff7cbcecdb9",
   "metadata": {},
   "outputs": [
    {
     "name": "stdout",
     "output_type": "stream",
     "text": [
      "1) p\n",
      "2) y\n",
      "3) t\n",
      "4) h\n",
      "5) o\n",
      "6) n\n"
     ]
    }
   ],
   "source": [
    "name = 'python'\n",
    "count = 1\n",
    "for i in name:\n",
    "    print(f'{count}) {i}')\n",
    "    count+=1"
   ]
  },
  {
   "cell_type": "code",
   "execution_count": 9,
   "id": "29b9a80b-cc66-445a-8737-9d527b205b9d",
   "metadata": {},
   "outputs": [],
   "source": [
    "import mysql.connector\n",
    "mydb = mysql.connector.connect(\n",
    "    host = 'localhost',\n",
    "    username = 'root',\n",
    "    password = 'Tp8177665@')\n",
    "mycursor = mydb.cursor()\n",
    "mycursor.execute('create database sample_database;')"
   ]
  },
  {
   "cell_type": "code",
   "execution_count": 22,
   "id": "3279ce3b-c936-48d0-b483-baffc27e15cc",
   "metadata": {},
   "outputs": [
    {
     "name": "stdout",
     "output_type": "stream",
     "text": [
      "[10]\n",
      "[10, 4]\n",
      "[10, 4, 5]\n",
      "[10, 4, 5, 3]\n",
      "[10, 4, 5, 3, 7]\n",
      "[10, 4, 5, 3, 7, 4]\n",
      "[10, 4, 5, 3, 7, 4, 3]\n"
     ]
    }
   ],
   "source": [
    "list1 = [10,4,5,3,7,4,3]\n",
    "max_value = list1[0]\n",
    "new_list=[]\n",
    "for num in list1:\n",
    "    if num >= max_value or num <=max_value:\n",
    "        new_list.append(num)\n",
    "        print(new_list)"
   ]
  },
  {
   "cell_type": "code",
   "execution_count": 14,
   "id": "9f9ae2bc-6593-42a0-8069-6e3ed9db5a52",
   "metadata": {},
   "outputs": [
    {
     "data": {
      "text/html": [
       "<div>\n",
       "<style scoped>\n",
       "    .dataframe tbody tr th:only-of-type {\n",
       "        vertical-align: middle;\n",
       "    }\n",
       "\n",
       "    .dataframe tbody tr th {\n",
       "        vertical-align: top;\n",
       "    }\n",
       "\n",
       "    .dataframe thead th {\n",
       "        text-align: right;\n",
       "    }\n",
       "</style>\n",
       "<table border=\"1\" class=\"dataframe\">\n",
       "  <thead>\n",
       "    <tr style=\"text-align: right;\">\n",
       "      <th></th>\n",
       "      <th>Name</th>\n",
       "      <th>degree</th>\n",
       "      <th>mail</th>\n",
       "    </tr>\n",
       "  </thead>\n",
       "  <tbody>\n",
       "    <tr>\n",
       "      <th>0</th>\n",
       "      <td>Tejas</td>\n",
       "      <td>MCA</td>\n",
       "      <td>email@email.com</td>\n",
       "    </tr>\n",
       "    <tr>\n",
       "      <th>1</th>\n",
       "      <td>Shubhi</td>\n",
       "      <td>MCA</td>\n",
       "      <td>mail</td>\n",
       "    </tr>\n",
       "  </tbody>\n",
       "</table>\n",
       "</div>"
      ],
      "text/plain": [
       "     Name degree             mail\n",
       "0   Tejas    MCA  email@email.com\n",
       "1  Shubhi    MCA             mail"
      ]
     },
     "execution_count": 14,
     "metadata": {},
     "output_type": "execute_result"
    }
   ],
   "source": [
    "import pandas as pd\n",
    "dict1 = {'Name':['Tejas','Shubhi'],'degree':['MCA','MCA'],'mail':['email@email.com','mail']}\n",
    "df = pd.DataFrame(dict1)\n",
    "df\n"
   ]
  },
  {
   "cell_type": "code",
   "execution_count": 6,
   "id": "1434f395-6e31-4803-8cd8-df1b200df947",
   "metadata": {},
   "outputs": [
    {
     "data": {
      "text/html": [
       "<div>\n",
       "<style scoped>\n",
       "    .dataframe tbody tr th:only-of-type {\n",
       "        vertical-align: middle;\n",
       "    }\n",
       "\n",
       "    .dataframe tbody tr th {\n",
       "        vertical-align: top;\n",
       "    }\n",
       "\n",
       "    .dataframe thead th {\n",
       "        text-align: right;\n",
       "    }\n",
       "</style>\n",
       "<table border=\"1\" class=\"dataframe\">\n",
       "  <thead>\n",
       "    <tr style=\"text-align: right;\">\n",
       "      <th></th>\n",
       "      <th>0</th>\n",
       "    </tr>\n",
       "  </thead>\n",
       "  <tbody>\n",
       "    <tr>\n",
       "      <th>0</th>\n",
       "      <td>1</td>\n",
       "    </tr>\n",
       "    <tr>\n",
       "      <th>1</th>\n",
       "      <td>2</td>\n",
       "    </tr>\n",
       "    <tr>\n",
       "      <th>2</th>\n",
       "      <td>3</td>\n",
       "    </tr>\n",
       "    <tr>\n",
       "      <th>3</th>\n",
       "      <td>4</td>\n",
       "    </tr>\n",
       "    <tr>\n",
       "      <th>4</th>\n",
       "      <td>5</td>\n",
       "    </tr>\n",
       "  </tbody>\n",
       "</table>\n",
       "</div>"
      ],
      "text/plain": [
       "   0\n",
       "0  1\n",
       "1  2\n",
       "2  3\n",
       "3  4\n",
       "4  5"
      ]
     },
     "execution_count": 6,
     "metadata": {},
     "output_type": "execute_result"
    }
   ],
   "source": [
    "list1 = {1,2,3,4,5}\n",
    "df = pd.DataFrame(list1)\n",
    "df"
   ]
  },
  {
   "cell_type": "code",
   "execution_count": 12,
   "id": "9e4680e3-a7d8-4857-b99c-7cd1a3b48797",
   "metadata": {},
   "outputs": [],
   "source": [
    "import pandas as pd\n",
    "\n",
    "def add_column_to_dataframe(df, column_name, data):\n",
    "    \"\"\"\n",
    "    Adds a new column to an existing DataFrame.\n",
    "\n",
    "    Parameters:\n",
    "    df (pd.DataFrame): The DataFrame to which the column will be added.\n",
    "    column_name (str): The name of the new column.\n",
    "    data (list or pd.Series): The data to be added as the new column.\n",
    "\n",
    "    Returns:\n",
    "    pd.DataFrame: The DataFrame with the new column added.\n",
    "    \"\"\"\n",
    "    df[column_name] = data\n",
    "    return df\n"
   ]
  },
  {
   "cell_type": "code",
   "execution_count": 15,
   "id": "341388df-4720-4195-bed6-19ac3775652a",
   "metadata": {},
   "outputs": [
    {
     "data": {
      "text/html": [
       "<div>\n",
       "<style scoped>\n",
       "    .dataframe tbody tr th:only-of-type {\n",
       "        vertical-align: middle;\n",
       "    }\n",
       "\n",
       "    .dataframe tbody tr th {\n",
       "        vertical-align: top;\n",
       "    }\n",
       "\n",
       "    .dataframe thead th {\n",
       "        text-align: right;\n",
       "    }\n",
       "</style>\n",
       "<table border=\"1\" class=\"dataframe\">\n",
       "  <thead>\n",
       "    <tr style=\"text-align: right;\">\n",
       "      <th></th>\n",
       "      <th>Name</th>\n",
       "      <th>degree</th>\n",
       "      <th>mail</th>\n",
       "      <th>year</th>\n",
       "    </tr>\n",
       "  </thead>\n",
       "  <tbody>\n",
       "    <tr>\n",
       "      <th>0</th>\n",
       "      <td>Tejas</td>\n",
       "      <td>MCA</td>\n",
       "      <td>email@email.com</td>\n",
       "      <td>1</td>\n",
       "    </tr>\n",
       "    <tr>\n",
       "      <th>1</th>\n",
       "      <td>Shubhi</td>\n",
       "      <td>MCA</td>\n",
       "      <td>mail</td>\n",
       "      <td>1</td>\n",
       "    </tr>\n",
       "  </tbody>\n",
       "</table>\n",
       "</div>"
      ],
      "text/plain": [
       "     Name degree             mail  year\n",
       "0   Tejas    MCA  email@email.com     1\n",
       "1  Shubhi    MCA             mail     1"
      ]
     },
     "execution_count": 15,
     "metadata": {},
     "output_type": "execute_result"
    }
   ],
   "source": [
    "df['year'] = 1\n",
    "df"
   ]
  },
  {
   "cell_type": "code",
   "execution_count": 24,
   "id": "be64e8a8-6cd6-495a-ba1a-3dda11d3536f",
   "metadata": {},
   "outputs": [
    {
     "data": {
      "image/png": "[encoded data removed]",
      "text/plain": [
       "<Figure size 640x480 with 1 Axes>"
      ]
     },
     "metadata": {},
     "output_type": "display_data"
    }
   ],
   "source": [
    "import matplotlib.pyplot as plt\n",
    "data = [1,2]\n",
    "y = ['tejas','shubhi']\n",
    "plt.bar(y,data,width= 0.5)\n",
    "plt.show()"
   ]
  },
  {
   "cell_type": "code",
   "execution_count": 28,
   "id": "9b236ef8-4609-4f9a-94a8-0b3f39e9052d",
   "metadata": {},
   "outputs": [
    {
     "data": {
      "image/png": "[encoded data removed]",
      "text/plain": [
       "<Figure size 640x480 with 1 Axes>"
      ]
     },
     "metadata": {},
     "output_type": "display_data"
    }
   ],
   "source": [
    "data = [3,5]\n",
    "plt.plot(data,y)\n",
    "plt.show()"
   ]
  },
  {
   "cell_type": "code",
   "execution_count": 2,
   "id": "88894341-0979-4c36-b093-8b6b8eee214c",
   "metadata": {},
   "outputs": [
    {
     "name": "stdout",
     "output_type": "stream",
     "text": [
      "1\n",
      "when\n",
      "what\n",
      "why\n",
      "2\n",
      "when\n",
      "what\n",
      "why\n",
      "3\n",
      "when\n",
      "what\n",
      "why\n"
     ]
    }
   ],
   "source": [
    "question  = ['when','what','why']\n",
    "numbers = [1,2,3]\n",
    "for i in numbers:\n",
    "    print(i)\n",
    "    for j in question:\n",
    "        print(j)"
   ]
  },
  {
   "cell_type": "code",
   "execution_count": 5,
   "id": "cf55cff8-e6d3-435e-8179-3cb2749acbe9",
   "metadata": {},
   "outputs": [
    {
     "name": "stdout",
     "output_type": "stream",
     "text": [
      "1\n",
      "2\n",
      "4\n",
      "4\n",
      "5\n",
      "6\n"
     ]
    }
   ],
   "source": [
    "list = [[1,2,4],[4,5,6]]\n",
    "for i in list:\n",
    "    for j in i:\n",
    "        print(j)"
   ]
  },
  {
   "cell_type": "code",
   "execution_count": 16,
   "id": "22e12469-5489-45d1-8782-7743621b39c8",
   "metadata": {},
   "outputs": [
    {
     "name": "stdout",
     "output_type": "stream",
     "text": [
      "1 \n",
      "2 2 \n",
      "3 3 3 \n",
      "4 4 4 4 \n"
     ]
    }
   ],
   "source": [
    "for i in range(1,5):\n",
    "    for j in range(i) :\n",
    "        print(i,end=\" \")\n",
    "    print()"
   ]
  },
  {
   "cell_type": "code",
   "execution_count": 21,
   "id": "09a16f09-ee4c-4453-8648-56e4afdf65a1",
   "metadata": {},
   "outputs": [
    {
     "name": "stdout",
     "output_type": "stream",
     "text": [
      "pythn lgc fr cdng"
     ]
    }
   ],
   "source": [
    "string = 'python logic for coding'\n",
    "for i in string:\n",
    "    if i == 'a' or i == 'e' or i == 'i' or i == 'o' or i == 'u':\n",
    "        continue\n",
    "    print(i, end='')   "
   ]
  },
  {
   "cell_type": "code",
   "execution_count": 28,
   "id": "2b13dc0f-11f0-4c9f-b926-edf23bb7aae9",
   "metadata": {},
   "outputs": [
    {
     "name": "stdin",
     "output_type": "stream",
     "text": [
      " 4\n"
     ]
    },
    {
     "name": "stdout",
     "output_type": "stream",
     "text": [
      "\n",
      "* \n",
      "* * \n",
      "* * * \n",
      "* * * * \n",
      "* * * \n",
      "* * \n",
      "* \n"
     ]
    }
   ],
   "source": [
    "n = int(input())\n",
    "for i in range(n):\n",
    "    for j in range(i):\n",
    "        print('* ',end='')\n",
    "    print('')\n",
    "for i in range(n,0,-1):\n",
    "    for j in range(i):\n",
    "        print('* ',end='')\n",
    "    print('')"
   ]
  },
  {
   "cell_type": "code",
   "execution_count": 2,
   "id": "baef6a3f-c9bb-451e-8c7f-93b0ee03adce",
   "metadata": {},
   "outputs": [
    {
     "name": "stdin",
     "output_type": "stream",
     "text": [
      " 5\n"
     ]
    },
    {
     "name": "stdout",
     "output_type": "stream",
     "text": [
      "\n",
      "* \n",
      "* * \n",
      "* * * \n",
      "* * * * \n",
      "* * * * * \n",
      "* * * * \n",
      "* * * \n",
      "* * \n",
      "* \n"
     ]
    }
   ],
   "source": [
    "n = int(input())\n",
    "for i in range(n):\n",
    "    for j in range(i):\n",
    "        print('* ',end='')\n",
    "    print('')\n",
    "for i in range(n,0,-1):\n",
    "    for j in range(i):\n",
    "        print('* ',end='')\n",
    "    print('')"
   ]
  },
  {
   "cell_type": "code",
   "execution_count": 5,
   "id": "8d5568ae-9830-4285-9da5-8b83f04abe08",
   "metadata": {},
   "outputs": [
    {
     "name": "stdout",
     "output_type": "stream",
     "text": [
      "True\n"
     ]
    }
   ],
   "source": [
    "def are_anagrams(s1, s2):\n",
    "    return sorted(s1) == sorted(s2)\n",
    "a = are_anagrams('silent','listen')\n",
    "print(a)"
   ]
  },
  {
   "cell_type": "code",
   "execution_count": 7,
   "id": "1e9746f0-15f8-481d-a3be-40a55816bc0f",
   "metadata": {},
   "outputs": [
    {
     "name": "stdout",
     "output_type": "stream",
     "text": [
      "7\n"
     ]
    }
   ],
   "source": [
    "def second_largest(arr):\n",
    "    unique_arr = list(set(arr))\n",
    "    unique_arr.sort()\n",
    "    return unique_arr[-2]\n",
    "s = second_largest([2,3,4,2,5,5,4,7,10])\n",
    "print(s)"
   ]
  },
  {
   "cell_type": "code",
   "execution_count": 16,
   "id": "f40ab3d0-e887-4bef-8475-31033faa1a82",
   "metadata": {},
   "outputs": [
    {
     "name": "stdin",
     "output_type": "stream",
     "text": [
      " {[}]\n"
     ]
    },
    {
     "name": "stdout",
     "output_type": "stream",
     "text": [
      "invalid\n"
     ]
    }
   ],
   "source": [
    "bracket = input('')\n",
    "list1 = []\n",
    "opening = '({['\n",
    "closing = ')}]'\n",
    "is_valid = True\n",
    "for i in bracket:\n",
    "    if i in opening:\n",
    "        list1.append(i)\n",
    "    elif i in closing:\n",
    "        if not list1:\n",
    "            is_valid = False\n",
    "            break\n",
    "        popped = list1.pop()\n",
    "        if opening.index(popped) != closing.index(i):\n",
    "            is_valid = False\n",
    "if is_valid:\n",
    "    print('valid')\n",
    "else:\n",
    "    print('invalid')"
   ]
  },
  {
   "cell_type": "code",
   "execution_count": null,
   "id": "c78a8b6a-5ab5-466f-9cf2-c0d4649329ea",
   "metadata": {},
   "outputs": [],
   "source": [
    "import mysql.connector\n",
    "mydb = mysql.connector.connect(\n",
    "    host = 'localhost',\n",
    "    username = 'root',\n",
    "    password = 'Tp8177665@')\n",
    "mycursor = mydb.cursor()\n",
    "mycursor.execute('create database sample_database;')"
   ]
  },
  {
   "cell_type": "code",
   "execution_count": 23,
   "id": "f0e744f6-bfb4-46f5-a0fd-fe64ac4de761",
   "metadata": {},
   "outputs": [
    {
     "name": "stdout",
     "output_type": "stream",
     "text": [
      "successfull\n"
     ]
    }
   ],
   "source": [
    "import mysql.connector\n",
    "mydb = mysql.connector.connect(\n",
    "    host = 'localhost',\n",
    "    username = 'root',\n",
    "    password = 'Tp8177665@')\n",
    "mycursor = mydb.cursor()\n",
    "mycursor.execute('create database samplle;')\n",
    "if mycursor.execute:\n",
    "    print('successfull')\n",
    "else:\n",
    "    print('un')"
   ]
  },
  {
   "cell_type": "code",
   "execution_count": null,
   "id": "f2993228-09e8-4b87-87d4-24cdee714b17",
   "metadata": {},
   "outputs": [],
   "source": [
    "import mysql.connector\n",
    "mydb = mysql.connector.connect(\n",
    "    host = 'localhost',\n",
    "    username = 'root',\n",
    "    password = 'Tp8177665@'\n",
    ")\n",
    "mycursor = db.cursor()\n",
    "mycursor.execute('create database trial')"
   ]
  },
  {
   "cell_type": "code",
   "execution_count": 1,
   "id": "172d0b58-76b6-4292-ac41-f63f196574e1",
   "metadata": {},
   "outputs": [
    {
     "ename": "SyntaxError",
     "evalue": "incomplete input (234650524.py, line 1)",
     "output_type": "error",
     "traceback": [
      "\u001b[1;36m  Cell \u001b[1;32mIn[1], line 1\u001b[1;36m\u001b[0m\n\u001b[1;33m    class variance(self):\u001b[0m\n\u001b[1;37m                         ^\u001b[0m\n\u001b[1;31mSyntaxError\u001b[0m\u001b[1;31m:\u001b[0m incomplete input\n"
     ]
    }
   ],
   "source": [
    "class variance(self):\n",
    "    "
   ]
  },
  {
   "cell_type": "code",
   "execution_count": null,
   "id": "f65c3f13-335f-47fe-ba1c-6180a1ef028e",
   "metadata": {},
   "outputs": [],
   "source": []
  }
 ],
 "metadata": {
  "kernelspec": {
   "display_name": "Python 3 (ipykernel)",
   "language": "python",
   "name": "python3"
  },
  "language_info": {
   "codemirror_mode": {
    "name": "ipython",
    "version": 3
   },
   "file_extension": ".py",
   "mimetype": "text/x-python",
   "name": "python",
   "nbconvert_exporter": "python",
   "pygments_lexer": "ipython3",
   "version": "3.12.2"
  }
 },
 "nbformat": 4,
 "nbformat_minor": 5
}

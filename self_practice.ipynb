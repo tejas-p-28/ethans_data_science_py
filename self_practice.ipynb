{
 "cells": [
  {
   "cell_type": "code",
   "execution_count": 7,
   "id": "f61852c0-ef5b-45af-8189-b8e2447e08c3",
   "metadata": {},
   "outputs": [
    {
     "name": "stdin",
     "output_type": "stream",
     "text": [
      " tp817764\n"
     ]
    },
    {
     "name": "stdout",
     "output_type": "stream",
     "text": [
      "invalid\n"
     ]
    }
   ],
   "source": [
    "#validate the password \n",
    "password = input()\n",
    "has_valid_length = False\n",
    "has_upper_case = False\n",
    "has_lower_case = False\n",
    "has_special_char = False\n",
    "has_digit = False\n",
    "if (len(password)>=8) and (len(password)<=16):\n",
    "    has_valid_length = True\n",
    "    for i in password:\n",
    "        if (i.islower()):\n",
    "            has_lower_case = True\n",
    "        if(i.isupper()):\n",
    "            has_upper_case = True\n",
    "        if(i=='!' or i=='@' or i == '#' or i == '$' or i == '%' or i == '^' or i == '&' or i == '*' ):\n",
    "            has_special_char = True\n",
    "        if(i.isdigit()):\n",
    "            has_digit = True\n",
    "    if(has_valid_length == True and has_upper_case == True and has_lower_case == True and has_special_char == True and has_digit == True):\n",
    "        print('valid')\n",
    "    else:\n",
    "        print('invalid')"
   ]
  },
  {
   "cell_type": "code",
   "execution_count": 14,
   "id": "3690686a-df92-4a00-bfca-f266707cb3d6",
   "metadata": {},
   "outputs": [
    {
     "name": "stdout",
     "output_type": "stream",
     "text": [
      "no. of days is 31\n",
      "no. of days is 28\n",
      "no. of days is 31\n",
      "no.of days is 30\n",
      "no. of days is 31\n",
      "no. of days is 31\n",
      "no.of days is 30\n",
      "no. of days is 31\n"
     ]
    }
   ],
   "source": [
    "#for no. of days in month\n",
    "month = ['january','february','may','june','july','august','november','december']\n",
    "\n",
    "for i in month:\n",
    "    if (i=='february'):\n",
    "        print('no. of days is 28')\n",
    "    elif i in ('january','march','may','july','august','october','december'):\n",
    "        print('no. of days is 31')\n",
    "    else:\n",
    "        print('no.of days is 30')"
   ]
  },
  {
   "cell_type": "code",
   "execution_count": 19,
   "id": "8150781c-28be-4eff-9a5e-60db80321ef5",
   "metadata": {},
   "outputs": [
    {
     "name": "stdin",
     "output_type": "stream",
     "text": [
      " {[(])}\n"
     ]
    },
    {
     "name": "stdout",
     "output_type": "stream",
     "text": [
      "valid\n"
     ]
    }
   ],
   "source": [
    "brackets = input('')\n",
    "if brackets == '{}' or '()' or '[]' :\n",
    "    print('valid')\n",
    "else:\n",
    "    print('invalid')"
   ]
  },
  {
   "cell_type": "code",
   "execution_count": 8,
   "id": "63e4fdbe-f5d4-4754-858f-ff56e87c06e8",
   "metadata": {},
   "outputs": [
    {
     "name": "stdin",
     "output_type": "stream",
     "text": [
      " {{(})}\n"
     ]
    },
    {
     "ename": "TypeError",
     "evalue": "unsupported operand type(s) for //: 'list' and 'int'",
     "output_type": "error",
     "traceback": [
      "\u001b[1;31m---------------------------------------------------------------------------\u001b[0m",
      "\u001b[1;31mTypeError\u001b[0m                                 Traceback (most recent call last)",
      "Cell \u001b[1;32mIn[8], line 5\u001b[0m\n\u001b[0;32m      3\u001b[0m \u001b[38;5;28;01mfor\u001b[39;00m i \u001b[38;5;129;01min\u001b[39;00m brakcets:\n\u001b[0;32m      4\u001b[0m     length\u001b[38;5;241m.\u001b[39mappend(i)\n\u001b[1;32m----> 5\u001b[0m     leng \u001b[38;5;241m=\u001b[39m \u001b[43mlength\u001b[49m\u001b[43m \u001b[49m\u001b[38;5;241;43m/\u001b[39;49m\u001b[38;5;241;43m/\u001b[39;49m\u001b[43m \u001b[49m\u001b[38;5;241;43m2\u001b[39;49m \n\u001b[0;32m      6\u001b[0m     \u001b[38;5;28;01mif\u001b[39;00m leng[\u001b[38;5;241m0\u001b[39m] \u001b[38;5;241m==\u001b[39m leng[\u001b[38;5;241m1\u001b[39m]:\n\u001b[0;32m      7\u001b[0m         \u001b[38;5;28mprint\u001b[39m(\u001b[38;5;124m'\u001b[39m\u001b[38;5;124mvalid\u001b[39m\u001b[38;5;124m'\u001b[39m)\n",
      "\u001b[1;31mTypeError\u001b[0m: unsupported operand type(s) for //: 'list' and 'int'"
     ]
    }
   ],
   "source": [
    "brakcets = input('')\n",
    "# length = []\n",
    "# for i in brakcets:\n",
    "#     length.append(i)\n",
    "#     leng = length // 2 \n",
    "#     if leng[0] == leng[1]:\n",
    "#         print('valid')\n",
    "#     else:\n",
    "#         print('invalid')\n",
    "pattern = '[]  "
   ]
  },
  {
   "cell_type": "code",
   "execution_count": 9,
   "id": "cee791bf-1deb-4059-9158-dd9a5a9c139e",
   "metadata": {},
   "outputs": [
    {
     "name": "stdin",
     "output_type": "stream",
     "text": [
      " november\n"
     ]
    },
    {
     "name": "stdout",
     "output_type": "stream",
     "text": [
      "winter\n"
     ]
    }
   ],
   "source": [
    "summer = ['march','april','may','june']\n",
    "winter = ['november','december','january','february']\n",
    "rainy = ['july','august','september','october']\n",
    "ans = input('')\n",
    "for i in summer:\n",
    "    if ans == i:\n",
    "        print('summer')\n",
    "for i in winter:\n",
    "    if ans == i:\n",
    "        print('winter')\n",
    "for i in rainy:\n",
    "    if ans == i:\n",
    "        print('rainy')"
   ]
  },
  {
   "cell_type": "code",
   "execution_count": null,
   "id": "4009b6ce-2ffa-45da-8a3a-f788e9ae2e2f",
   "metadata": {},
   "outputs": [],
   "source": []
  }
 ],
 "metadata": {
  "kernelspec": {
   "display_name": "Python 3 (ipykernel)",
   "language": "python",
   "name": "python3"
  },
  "language_info": {
   "codemirror_mode": {
    "name": "ipython",
    "version": 3
   },
   "file_extension": ".py",
   "mimetype": "text/x-python",
   "name": "python",
   "nbconvert_exporter": "python",
   "pygments_lexer": "ipython3",
   "version": "3.12.2"
  }
 },
 "nbformat": 4,
 "nbformat_minor": 5
}

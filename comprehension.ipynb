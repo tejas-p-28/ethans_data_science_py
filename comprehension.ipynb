{
 "cells": [
  {
   "cell_type": "code",
   "execution_count": 1,
   "id": "4be6029d-c4ba-4683-9505-8350107f7c41",
   "metadata": {},
   "outputs": [
    {
     "name": "stdout",
     "output_type": "stream",
     "text": [
      "[1, 4, 9, 16, 25]\n"
     ]
    }
   ],
   "source": [
    "list1 = [1,2,3,4,5]\n",
    "list2 = [i**2 for i in list1]\n",
    "print(list2)"
   ]
  },
  {
   "cell_type": "code",
   "execution_count": 2,
   "id": "e5cd068f-0409-4016-be10-bb16ea1a22df",
   "metadata": {},
   "outputs": [
    {
     "name": "stdout",
     "output_type": "stream",
     "text": [
      "[4, 16, 36, 64, 100, 144, 196, 256, 324, 400]\n"
     ]
    }
   ],
   "source": [
    "var2 = [i**2 for i in range(1,21) if i%2==0]\n",
    "print(var2)"
   ]
  },
  {
   "cell_type": "code",
   "execution_count": 4,
   "id": "4431445e-070f-425e-a838-ffded764cd07",
   "metadata": {},
   "outputs": [
    {
     "name": "stdout",
     "output_type": "stream",
     "text": [
      "[8, 64, 216, 512, 1000, 1728, 2744, 4096, 5832, 8000]\n",
      "[1, 8, 27, 64, 125, 216, 343, 512, 729, 1000, 1331, 1728, 2197, 2744, 3375, 4096, 4913, 5832, 6859, 8000]\n"
     ]
    }
   ],
   "source": [
    "var2 = [i**3 for i in range(1,21) if i%2==0]\n",
    "print(var2)\n",
    "var2 = [i**3 for i in range(1,21)]\n",
    "print(var2)"
   ]
  },
  {
   "cell_type": "code",
   "execution_count": 5,
   "id": "dd369370-7319-45ba-a841-bb961b3cb977",
   "metadata": {},
   "outputs": [
    {
     "name": "stdout",
     "output_type": "stream",
     "text": [
      "['T', 'A', 'S']\n"
     ]
    }
   ],
   "source": [
    "vowels = ['a','e','i','o','u']\n",
    "list1 = ['tejaa','pravin','atharva','shivangi']\n",
    "lsit2 = [j[0].upper() for j in list1 if j[-1].lower() in vowels]\n",
    "print(lsit2)"
   ]
  },
  {
   "cell_type": "code",
   "execution_count": 6,
   "id": "d9cdaf82-4e41-45df-9a28-b15051b6a512",
   "metadata": {},
   "outputs": [
    {
     "name": "stdout",
     "output_type": "stream",
     "text": [
      "{'tejaa': 'T', 'atharva': 'A', 'shivangi': 'S'}\n"
     ]
    }
   ],
   "source": [
    "vowels = ['a','e','i','o','u']\n",
    "list1 = ['tejaa','pravin','atharva','shivangi']\n",
    "lsit2 = {j:j[0].upper() for j in list1 if j[-1].lower() in vowels}\n",
    "print(lsit2)"
   ]
  },
  {
   "cell_type": "code",
   "execution_count": 1,
   "id": "3b55540d-dc3e-4b87-b97c-91173c78905d",
   "metadata": {},
   "outputs": [
    {
     "name": "stdout",
     "output_type": "stream",
     "text": [
      "['apple', 'mango', 'banana']\n"
     ]
    }
   ],
   "source": [
    "list1 = ['apple','mango','cherry','banana','kiwi']\n",
    "new_list = [x for x in list1 if 'a' in x]\n",
    "print(new_list)"
   ]
  },
  {
   "cell_type": "code",
   "execution_count": null,
   "id": "6780e750-fb2b-4479-bed4-99c13338caeb",
   "metadata": {},
   "outputs": [],
   "source": []
  }
 ],
 "metadata": {
  "kernelspec": {
   "display_name": "Python 3 (ipykernel)",
   "language": "python",
   "name": "python3"
  },
  "language_info": {
   "codemirror_mode": {
    "name": "ipython",
    "version": 3
   },
   "file_extension": ".py",
   "mimetype": "text/x-python",
   "name": "python",
   "nbconvert_exporter": "python",
   "pygments_lexer": "ipython3",
   "version": "3.12.2"
  }
 },
 "nbformat": 4,
 "nbformat_minor": 5
}

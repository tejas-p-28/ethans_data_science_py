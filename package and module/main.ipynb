{
 "cells": [
  {
   "cell_type": "code",
   "execution_count": 5,
   "id": "f8f7c5d4-2ab3-4a51-9694-7608f81272fc",
   "metadata": {},
   "outputs": [],
   "source": [
    "from game.image import image_open\n",
    "from game.image import img_close"
   ]
  },
  {
   "cell_type": "code",
   "execution_count": 6,
   "id": "36473638-d9b4-4e94-8d30-4cbfe1d0a124",
   "metadata": {},
   "outputs": [
    {
     "name": "stdout",
     "output_type": "stream",
     "text": [
      "image opened....\n"
     ]
    }
   ],
   "source": [
    "image_open.img_open()"
   ]
  },
  {
   "cell_type": "code",
   "execution_count": 7,
   "id": "07d8ee40-e913-4af2-980f-696218d36bee",
   "metadata": {},
   "outputs": [
    {
     "name": "stdout",
     "output_type": "stream",
     "text": [
      "closed\n"
     ]
    }
   ],
   "source": [
    "img_close.img_closed()"
   ]
  },
  {
   "cell_type": "code",
   "execution_count": null,
   "id": "b1671449-8e75-459a-b25a-5f86b1d33d75",
   "metadata": {},
   "outputs": [],
   "source": []
  }
 ],
 "metadata": {
  "kernelspec": {
   "display_name": "Python 3 (ipykernel)",
   "language": "python",
   "name": "python3"
  },
  "language_info": {
   "codemirror_mode": {
    "name": "ipython",
    "version": 3
   },
   "file_extension": ".py",
   "mimetype": "text/x-python",
   "name": "python",
   "nbconvert_exporter": "python",
   "pygments_lexer": "ipython3",
   "version": "3.12.2"
  }
 },
 "nbformat": 4,
 "nbformat_minor": 5
}

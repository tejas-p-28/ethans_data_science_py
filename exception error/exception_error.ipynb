{
 "cells": [
  {
   "cell_type": "code",
   "execution_count": 1,
   "id": "e26d238b-eda8-4433-8b06-12c1a54b44a9",
   "metadata": {},
   "outputs": [
    {
     "name": "stdin",
     "output_type": "stream",
     "text": [
      "enter your os wIndows\n"
     ]
    },
    {
     "name": "stdout",
     "output_type": "stream",
     "text": [
      "welcome wIndows\n"
     ]
    }
   ],
   "source": [
    "os = input('enter your os')\n",
    "supported_os = ['windows', 'linux']\n",
    "if os.lower() not in supported_os:\n",
    "    raise MemoryError(f'{os} not supported!')\n",
    "else:\n",
    "    print(f'welcome {os}')"
   ]
  },
  {
   "cell_type": "code",
   "execution_count": 2,
   "id": "c56fd6cc-4fb4-484a-9b12-f84dea0d30c9",
   "metadata": {},
   "outputs": [
    {
     "name": "stdin",
     "output_type": "stream",
     "text": [
      "enter your os mac\n"
     ]
    },
    {
     "ename": "MemoryError",
     "evalue": "mac not supported!",
     "output_type": "error",
     "traceback": [
      "\u001b[1;31m---------------------------------------------------------------------------\u001b[0m",
      "\u001b[1;31mMemoryError\u001b[0m                               Traceback (most recent call last)",
      "Cell \u001b[1;32mIn[2], line 4\u001b[0m\n\u001b[0;32m      2\u001b[0m supported_os \u001b[38;5;241m=\u001b[39m [\u001b[38;5;124m'\u001b[39m\u001b[38;5;124mwindows\u001b[39m\u001b[38;5;124m'\u001b[39m, \u001b[38;5;124m'\u001b[39m\u001b[38;5;124mlinux\u001b[39m\u001b[38;5;124m'\u001b[39m]\n\u001b[0;32m      3\u001b[0m \u001b[38;5;28;01mif\u001b[39;00m os\u001b[38;5;241m.\u001b[39mlower() \u001b[38;5;129;01mnot\u001b[39;00m \u001b[38;5;129;01min\u001b[39;00m supported_os:\n\u001b[1;32m----> 4\u001b[0m     \u001b[38;5;28;01mraise\u001b[39;00m \u001b[38;5;167;01mMemoryError\u001b[39;00m(\u001b[38;5;124mf\u001b[39m\u001b[38;5;124m'\u001b[39m\u001b[38;5;132;01m{\u001b[39;00mos\u001b[38;5;132;01m}\u001b[39;00m\u001b[38;5;124m not supported!\u001b[39m\u001b[38;5;124m'\u001b[39m)\n\u001b[0;32m      5\u001b[0m \u001b[38;5;28;01melse\u001b[39;00m:\n\u001b[0;32m      6\u001b[0m     \u001b[38;5;28mprint\u001b[39m(\u001b[38;5;124mf\u001b[39m\u001b[38;5;124m'\u001b[39m\u001b[38;5;124mwelcome \u001b[39m\u001b[38;5;132;01m{\u001b[39;00mos\u001b[38;5;132;01m}\u001b[39;00m\u001b[38;5;124m'\u001b[39m)\n",
      "\u001b[1;31mMemoryError\u001b[0m: mac not supported!"
     ]
    }
   ],
   "source": [
    "os = input('enter your os')\n",
    "supported_os = ['windows', 'linux']\n",
    "if os.lower() not in supported_os:\n",
    "    raise MemoryError(f'{os} not supported!')\n",
    "else:\n",
    "    print(f'welcome {os}')"
   ]
  },
  {
   "cell_type": "code",
   "execution_count": 2,
   "id": "e4c2edd3-3ed9-4ef8-b2ac-13c29c37c9a3",
   "metadata": {},
   "outputs": [
    {
     "name": "stdin",
     "output_type": "stream",
     "text": [
      "enter your os l\n"
     ]
    },
    {
     "ename": "AssertionError",
     "evalue": "l is not supported",
     "output_type": "error",
     "traceback": [
      "\u001b[1;31m---------------------------------------------------------------------------\u001b[0m",
      "\u001b[1;31mAssertionError\u001b[0m                            Traceback (most recent call last)",
      "Cell \u001b[1;32mIn[2], line 3\u001b[0m\n\u001b[0;32m      1\u001b[0m os \u001b[38;5;241m=\u001b[39m \u001b[38;5;28minput\u001b[39m(\u001b[38;5;124m'\u001b[39m\u001b[38;5;124menter your os\u001b[39m\u001b[38;5;124m'\u001b[39m)\n\u001b[0;32m      2\u001b[0m supported_os \u001b[38;5;241m=\u001b[39m [\u001b[38;5;124m'\u001b[39m\u001b[38;5;124mwindows\u001b[39m\u001b[38;5;124m'\u001b[39m, \u001b[38;5;124m'\u001b[39m\u001b[38;5;124mlinux\u001b[39m\u001b[38;5;124m'\u001b[39m]\n\u001b[1;32m----> 3\u001b[0m \u001b[38;5;28;01massert\u001b[39;00m os \u001b[38;5;129;01min\u001b[39;00m supported_os,\u001b[38;5;124mf\u001b[39m\u001b[38;5;124m'\u001b[39m\u001b[38;5;132;01m{\u001b[39;00mos\u001b[38;5;132;01m}\u001b[39;00m\u001b[38;5;124m is not supported\u001b[39m\u001b[38;5;124m'\u001b[39m\n",
      "\u001b[1;31mAssertionError\u001b[0m: l is not supported"
     ]
    }
   ],
   "source": [
    "os = input('enter your os')\n",
    "supported_os = ['windows', 'linux']\n",
    "assert os in supported_os,f'{os} is not supported'"
   ]
  },
  {
   "cell_type": "code",
   "execution_count": 5,
   "id": "ecab4fe1-ee81-44a5-9edd-c2c15d7fcc41",
   "metadata": {},
   "outputs": [
    {
     "name": "stdin",
     "output_type": "stream",
     "text": [
      "enter your os windows\n"
     ]
    },
    {
     "name": "stdout",
     "output_type": "stream",
     "text": [
      "welcome!!\n"
     ]
    }
   ],
   "source": [
    "os = input('enter your os')\n",
    "supported_os = ['windows', 'linux']\n",
    "try:\n",
    "    if os.lower() not in supported_os:\n",
    "        raise MemoryError(f'{os} not supported!')\n",
    "finally:\n",
    "    print('welcome!!')"
   ]
  },
  {
   "cell_type": "code",
   "execution_count": 1,
   "id": "2c4f5e82-40ff-43d8-8fca-fb5cc889e285",
   "metadata": {},
   "outputs": [],
   "source": [
    "data = {'123' :{'name':'tejas','city':'pune','bal':1000}}\n"
   ]
  },
  {
   "cell_type": "code",
   "execution_count": 14,
   "id": "0e11ec92-c8ae-441a-acc4-02824d3bbb44",
   "metadata": {},
   "outputs": [
    {
     "name": "stdin",
     "output_type": "stream",
     "text": [
      "enter the acc no :  123\n"
     ]
    },
    {
     "name": "stdout",
     "output_type": "stream",
     "text": [
      "1000\n"
     ]
    },
    {
     "name": "stdin",
     "output_type": "stream",
     "text": [
      "enter amount to withdraw 1111\n"
     ]
    },
    {
     "ename": "IndexError",
     "evalue": "insufficient bal",
     "output_type": "error",
     "traceback": [
      "\u001b[1;31m---------------------------------------------------------------------------\u001b[0m",
      "\u001b[1;31mIndexError\u001b[0m                                Traceback (most recent call last)",
      "Cell \u001b[1;32mIn[14], line 20\u001b[0m\n\u001b[0;32m     18\u001b[0m ano \u001b[38;5;241m=\u001b[39m \u001b[38;5;28minput\u001b[39m(\u001b[38;5;124m'\u001b[39m\u001b[38;5;124menter the acc no : \u001b[39m\u001b[38;5;124m'\u001b[39m)\n\u001b[0;32m     19\u001b[0m \u001b[38;5;28mprint\u001b[39m(get_bal(ano))\n\u001b[1;32m---> 20\u001b[0m \u001b[43mwithdraw\u001b[49m\u001b[43m(\u001b[49m\u001b[43mano\u001b[49m\u001b[43m)\u001b[49m\n",
      "Cell \u001b[1;32mIn[14], line 16\u001b[0m, in \u001b[0;36mwithdraw\u001b[1;34m(ano)\u001b[0m\n\u001b[0;32m     14\u001b[0m     data[ano][\u001b[38;5;124m'\u001b[39m\u001b[38;5;124mbal\u001b[39m\u001b[38;5;124m'\u001b[39m] \u001b[38;5;241m=\u001b[39m data[ano][\u001b[38;5;124m'\u001b[39m\u001b[38;5;124mbal\u001b[39m\u001b[38;5;124m'\u001b[39m] \u001b[38;5;241m-\u001b[39m amt \n\u001b[0;32m     15\u001b[0m \u001b[38;5;28;01melse\u001b[39;00m:\n\u001b[1;32m---> 16\u001b[0m     \u001b[38;5;28;01mraise\u001b[39;00m \u001b[38;5;167;01mIndexError\u001b[39;00m(\u001b[38;5;124m'\u001b[39m\u001b[38;5;124minsufficient bal\u001b[39m\u001b[38;5;124m'\u001b[39m)\n",
      "\u001b[1;31mIndexError\u001b[0m: insufficient bal"
     ]
    }
   ],
   "source": [
    "def check_ano(ano):\n",
    "    if ano in data:\n",
    "        return True\n",
    "    else:\n",
    "        raise NameError('account not exist')\n",
    "\n",
    "def get_bal(ano):\n",
    "    if check_ano(ano):\n",
    "        return data[ano]['bal']\n",
    "\n",
    "def withdraw(ano):\n",
    "    amt = int(input('enter amount to withdraw'))\n",
    "    if check_ano(ano) and amt < data[ano]['bal'] :\n",
    "        data[ano]['bal'] = data[ano]['bal'] - amt \n",
    "    else:\n",
    "        raise IndexError('insufficient bal')\n",
    "\n",
    "ano = input('enter the acc no : ')\n",
    "print(get_bal(ano))\n",
    "withdraw(ano)\n"
   ]
  },
  {
   "cell_type": "code",
   "execution_count": 4,
   "id": "6caab214-e92a-49f4-9884-dce6f0d3028c",
   "metadata": {},
   "outputs": [
    {
     "name": "stdin",
     "output_type": "stream",
     "text": [
      " 123\n",
      "enter your amt :  1111\n"
     ]
    }
   ],
   "source": [
    "def get_acc(ano):\n",
    "    if ano in data:\n",
    "            return True\n",
    "    \n",
    "\n",
    "def check_bal(ano):\n",
    "    if get_acc(ano):\n",
    "        return data[ano]['bal']\n",
    "\n",
    "def withdraw(ano):\n",
    "   \n",
    "    amt = int(input('enter your amt : '))\n",
    "    if get_acc(ano) and amt<data[ano]['bal']:\n",
    "        data[ano]['bal'] =  data[ano]['bal'] - amt\n",
    "    else:\n",
    "        print('insufficient bal')\n",
    "    \n",
    "ano = input()\n",
    "try :\n",
    "check_bal(ano)\n",
    "withdraw(ano)"
   ]
  },
  {
   "cell_type": "code",
   "execution_count": null,
   "id": "efb269da-96fc-4a60-ab01-2e04c663adab",
   "metadata": {},
   "outputs": [],
   "source": []
  }
 ],
 "metadata": {
  "kernelspec": {
   "display_name": "Python 3 (ipykernel)",
   "language": "python",
   "name": "python3"
  },
  "language_info": {
   "codemirror_mode": {
    "name": "ipython",
    "version": 3
   },
   "file_extension": ".py",
   "mimetype": "text/x-python",
   "name": "python",
   "nbconvert_exporter": "python",
   "pygments_lexer": "ipython3",
   "version": "3.12.2"
  }
 },
 "nbformat": 4,
 "nbformat_minor": 5
}
